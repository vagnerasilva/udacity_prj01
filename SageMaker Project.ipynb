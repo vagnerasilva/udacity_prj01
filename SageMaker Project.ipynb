{
 "cells": [
  {
   "cell_type": "markdown",
   "metadata": {},
   "source": [
    "# Creating a Sentiment Analysis Web App\n",
    "## Using PyTorch and SageMaker\n",
    "\n",
    "_Deep Learning Nanodegree Program | Deployment_\n",
    "\n",
    "---\n",
    "\n",
    "Now that we have a basic understanding of how SageMaker works we will try to use it to construct a complete project from end to end. Our goal will be to have a simple web page which a user can use to enter a movie review. The web page will then send the review off to our deployed model which will predict the sentiment of the entered review.\n",
    "\n",
    "## Instructions\n",
    "\n",
    "Some template code has already been provided for you, and you will need to implement additional functionality to successfully complete this notebook. You will not need to modify the included code beyond what is requested. Sections that begin with '**TODO**' in the header indicate that you need to complete or implement some portion within them. Instructions will be provided for each section and the specifics of the implementation are marked in the code block with a `# TODO: ...` comment. Please be sure to read the instructions carefully!\n",
    "\n",
    "In addition to implementing code, there will be questions for you to answer which relate to the task and your implementation. Each section where you will answer a question is preceded by a '**Question:**' header. Carefully read each question and provide your answer below the '**Answer:**' header by editing the Markdown cell.\n",
    "\n",
    "> **Note**: Code and Markdown cells can be executed using the **Shift+Enter** keyboard shortcut. In addition, a cell can be edited by typically clicking it (double-click for Markdown cells) or by pressing **Enter** while it is highlighted.\n",
    "\n",
    "## General Outline\n",
    "\n",
    "Recall the general outline for SageMaker projects using a notebook instance.\n",
    "\n",
    "1. Download or otherwise retrieve the data.\n",
    "2. Process / Prepare the data.\n",
    "3. Upload the processed data to S3.\n",
    "4. Train a chosen model.\n",
    "5. Test the trained model (typically using a batch transform job).\n",
    "6. Deploy the trained model.\n",
    "7. Use the deployed model.\n",
    "\n",
    "For this project, you will be following the steps in the general outline with some modifications. \n",
    "\n",
    "First, you will not be testing the model in its own step. You will still be testing the model, however, you will do it by deploying your model and then using the deployed model by sending the test data to it. One of the reasons for doing this is so that you can make sure that your deployed model is working correctly before moving forward.\n",
    "\n",
    "In addition, you will deploy and use your trained model a second time. In the second iteration you will customize the way that your trained model is deployed by including some of your own code. In addition, your newly deployed model will be used in the sentiment analysis web app."
   ]
  },
  {
   "cell_type": "markdown",
   "metadata": {},
   "source": [
    "## Step 1: Downloading the data\n",
    "\n",
    "As in the XGBoost in SageMaker notebook, we will be using the [IMDb dataset](http://ai.stanford.edu/~amaas/data/sentiment/)\n",
    "\n",
    "> Maas, Andrew L., et al. [Learning Word Vectors for Sentiment Analysis](http://ai.stanford.edu/~amaas/data/sentiment/). In _Proceedings of the 49th Annual Meeting of the Association for Computational Linguistics: Human Language Technologies_. Association for Computational Linguistics, 2011."
   ]
  },
  {
   "cell_type": "code",
   "execution_count": null,
   "metadata": {},
   "outputs": [],
   "source": [
    "%mkdir ../data\n",
    "!wget -O ../data/aclImdb_v1.tar.gz http://ai.stanford.edu/~amaas/data/sentiment/aclImdb_v1.tar.gz\n",
    "!tar -zxf ../data/aclImdb_v1.tar.gz -C ../data"
   ]
  },
  {
   "cell_type": "markdown",
   "metadata": {},
   "source": [
    "## Step 2: Preparing and Processing the data\n",
    "\n",
    "Also, as in the XGBoost notebook, we will be doing some initial data processing. The first few steps are the same as in the XGBoost example. To begin with, we will read in each of the reviews and combine them into a single input structure. Then, we will split the dataset into a training set and a testing set."
   ]
  },
  {
   "cell_type": "code",
   "execution_count": 1,
   "metadata": {},
   "outputs": [],
   "source": [
    "import os\n",
    "import glob\n",
    "\n",
    "def read_imdb_data(data_dir='../data/aclImdb'):\n",
    "    data = {}\n",
    "    labels = {}\n",
    "    \n",
    "    for data_type in ['train', 'test']:\n",
    "        data[data_type] = {}\n",
    "        labels[data_type] = {}\n",
    "        \n",
    "        for sentiment in ['pos', 'neg']:\n",
    "            data[data_type][sentiment] = []\n",
    "            labels[data_type][sentiment] = []\n",
    "            \n",
    "            path = os.path.join(data_dir, data_type, sentiment, '*.txt')\n",
    "            files = glob.glob(path)\n",
    "            \n",
    "            for f in files:\n",
    "                with open(f) as review:\n",
    "                    data[data_type][sentiment].append(review.read())\n",
    "                    # Here we represent a positive review by '1' and a negative review by '0'\n",
    "                    labels[data_type][sentiment].append(1 if sentiment == 'pos' else 0)\n",
    "                    \n",
    "            assert len(data[data_type][sentiment]) == len(labels[data_type][sentiment]), \\\n",
    "                    \"{}/{} data size does not match labels size\".format(data_type, sentiment)\n",
    "                \n",
    "    return data, labels"
   ]
  },
  {
   "cell_type": "code",
   "execution_count": 2,
   "metadata": {},
   "outputs": [
    {
     "name": "stdout",
     "output_type": "stream",
     "text": [
      "IMDB reviews: train = 12500 pos / 12500 neg, test = 12500 pos / 12500 neg\n"
     ]
    }
   ],
   "source": [
    "data, labels = read_imdb_data()\n",
    "print(\"IMDB reviews: train = {} pos / {} neg, test = {} pos / {} neg\".format(\n",
    "            len(data['train']['pos']), len(data['train']['neg']),\n",
    "            len(data['test']['pos']), len(data['test']['neg'])))"
   ]
  },
  {
   "cell_type": "markdown",
   "metadata": {},
   "source": [
    "Now that we've read the raw training and testing data from the downloaded dataset, we will combine the positive and negative reviews and shuffle the resulting records."
   ]
  },
  {
   "cell_type": "code",
   "execution_count": 3,
   "metadata": {},
   "outputs": [],
   "source": [
    "from sklearn.utils import shuffle\n",
    "\n",
    "def prepare_imdb_data(data, labels):\n",
    "    \"\"\"Prepare training and test sets from IMDb movie reviews.\"\"\"\n",
    "    \n",
    "    #Combine positive and negative reviews and labels\n",
    "    data_train = data['train']['pos'] + data['train']['neg']\n",
    "    data_test = data['test']['pos'] + data['test']['neg']\n",
    "    labels_train = labels['train']['pos'] + labels['train']['neg']\n",
    "    labels_test = labels['test']['pos'] + labels['test']['neg']\n",
    "    \n",
    "    #Shuffle reviews and corresponding labels within training and test sets\n",
    "    data_train, labels_train = shuffle(data_train, labels_train)\n",
    "    data_test, labels_test = shuffle(data_test, labels_test)\n",
    "    \n",
    "    # Return a unified training data, test data, training labels, test labets\n",
    "    return data_train, data_test, labels_train, labels_test"
   ]
  },
  {
   "cell_type": "code",
   "execution_count": 4,
   "metadata": {},
   "outputs": [
    {
     "name": "stdout",
     "output_type": "stream",
     "text": [
      "IMDb reviews (combined): train = 25000, test = 25000\n"
     ]
    }
   ],
   "source": [
    "train_X, test_X, train_y, test_y = prepare_imdb_data(data, labels)\n",
    "print(\"IMDb reviews (combined): train = {}, test = {}\".format(len(train_X), len(test_X)))"
   ]
  },
  {
   "cell_type": "markdown",
   "metadata": {},
   "source": [
    "Now that we have our training and testing sets unified and prepared, we should do a quick check and see an example of the data our model will be trained on. This is generally a good idea as it allows you to see how each of the further processing steps affects the reviews and it also ensures that the data has been loaded correctly."
   ]
  },
  {
   "cell_type": "code",
   "execution_count": 5,
   "metadata": {},
   "outputs": [
    {
     "name": "stdout",
     "output_type": "stream",
     "text": [
      "This is a rip-roaring British comedy movie and one that i could watch over and over again without growing tired. Peter Ustinov has never performed in a bad role and this is no exception, particularly with his dry wit but very clever master plan. Karl Malden has always been an admirer of mine since he starred in 'Streets of San Francisco'. I believe that Maggie Smith is the real star of this film though, appearing to be so inept at everything she tries to do but in truth is so switched on, particularly at the end when she informs everyone that she has invested so much money that she has discovered whilst laundering his clothes. One thing does concern me though, could someone please tell me why i cannot purchase this on either DVD or VHS format in the UK, could someone please assist?\n",
      "1\n"
     ]
    }
   ],
   "source": [
    "print(train_X[100])\n",
    "print(train_y[100])"
   ]
  },
  {
   "cell_type": "markdown",
   "metadata": {},
   "source": [
    "The first step in processing the reviews is to make sure that any html tags that appear should be removed. In addition we wish to tokenize our input, that way words such as *entertained* and *entertaining* are considered the same with regard to sentiment analysis."
   ]
  },
  {
   "cell_type": "code",
   "execution_count": 6,
   "metadata": {},
   "outputs": [],
   "source": [
    "import nltk\n",
    "from nltk.corpus import stopwords\n",
    "from nltk.stem.porter import *\n",
    "\n",
    "import re\n",
    "from bs4 import BeautifulSoup\n",
    "\n",
    "def review_to_words(review):\n",
    "    nltk.download(\"stopwords\", quiet=True)\n",
    "    stemmer = PorterStemmer()\n",
    "    \n",
    "    text = BeautifulSoup(review, \"html.parser\").get_text() # Remove HTML tags\n",
    "    text = re.sub(r\"[^a-zA-Z0-9]\", \" \", text.lower()) # Convert to lower case\n",
    "    words = text.split() # Split string into words\n",
    "    words = [w for w in words if w not in stopwords.words(\"english\")] # Remove stopwords\n",
    "    words = [PorterStemmer().stem(w) for w in words] # stem\n",
    "    \n",
    "    return words"
   ]
  },
  {
   "cell_type": "markdown",
   "metadata": {},
   "source": [
    "The `review_to_words` method defined above uses `BeautifulSoup` to remove any html tags that appear and uses the `nltk` package to tokenize the reviews. As a check to ensure we know how everything is working, try applying `review_to_words` to one of the reviews in the training set."
   ]
  },
  {
   "cell_type": "code",
   "execution_count": 7,
   "metadata": {},
   "outputs": [
    {
     "data": {
      "text/plain": [
       "['rip',\n",
       " 'roar',\n",
       " 'british',\n",
       " 'comedi',\n",
       " 'movi',\n",
       " 'one',\n",
       " 'could',\n",
       " 'watch',\n",
       " 'without',\n",
       " 'grow',\n",
       " 'tire',\n",
       " 'peter',\n",
       " 'ustinov',\n",
       " 'never',\n",
       " 'perform',\n",
       " 'bad',\n",
       " 'role',\n",
       " 'except',\n",
       " 'particularli',\n",
       " 'dri',\n",
       " 'wit',\n",
       " 'clever',\n",
       " 'master',\n",
       " 'plan',\n",
       " 'karl',\n",
       " 'malden',\n",
       " 'alway',\n",
       " 'admir',\n",
       " 'mine',\n",
       " 'sinc',\n",
       " 'star',\n",
       " 'street',\n",
       " 'san',\n",
       " 'francisco',\n",
       " 'believ',\n",
       " 'maggi',\n",
       " 'smith',\n",
       " 'real',\n",
       " 'star',\n",
       " 'film',\n",
       " 'though',\n",
       " 'appear',\n",
       " 'inept',\n",
       " 'everyth',\n",
       " 'tri',\n",
       " 'truth',\n",
       " 'switch',\n",
       " 'particularli',\n",
       " 'end',\n",
       " 'inform',\n",
       " 'everyon',\n",
       " 'invest',\n",
       " 'much',\n",
       " 'money',\n",
       " 'discov',\n",
       " 'whilst',\n",
       " 'launder',\n",
       " 'cloth',\n",
       " 'one',\n",
       " 'thing',\n",
       " 'concern',\n",
       " 'though',\n",
       " 'could',\n",
       " 'someon',\n",
       " 'pleas',\n",
       " 'tell',\n",
       " 'cannot',\n",
       " 'purchas',\n",
       " 'either',\n",
       " 'dvd',\n",
       " 'vh',\n",
       " 'format',\n",
       " 'uk',\n",
       " 'could',\n",
       " 'someon',\n",
       " 'pleas',\n",
       " 'assist']"
      ]
     },
     "execution_count": 7,
     "metadata": {},
     "output_type": "execute_result"
    }
   ],
   "source": [
    "### TODO 1 EXPLAIN HERE ##\n",
    "#review_to_words (train_X[100])\n",
    "review_to_words(train_X[100])"
   ]
  },
  {
   "cell_type": "markdown",
   "metadata": {},
   "source": [
    "**Question 1:** Above we mentioned that `review_to_words` method removes html formatting and allows us to tokenize the words found in a review, for example, converting *entertained* and *entertaining* into *entertain* so that they are treated as though they are the same word. What else, if anything, does this method do to the input?"
   ]
  },
  {
   "cell_type": "markdown",
   "metadata": {},
   "source": [
    "**Answer:**"
   ]
  },
  {
   "cell_type": "markdown",
   "metadata": {},
   "source": [
    "#### Answer ###\n",
    "Converts words to lowercase and remove stop words to pre-process text\n",
    "#### Answer ###"
   ]
  },
  {
   "cell_type": "markdown",
   "metadata": {},
   "source": [
    "The method below applies the `review_to_words` method to each of the reviews in the training and testing datasets. In addition it caches the results. This is because performing this processing step can take a long time. This way if you are unable to complete the notebook in the current session, you can come back without needing to process the data a second time."
   ]
  },
  {
   "cell_type": "code",
   "execution_count": 8,
   "metadata": {},
   "outputs": [],
   "source": [
    "import pickle\n",
    "\n",
    "cache_dir = os.path.join(\"../cache\", \"sentiment_analysis\")  # where to store cache files\n",
    "os.makedirs(cache_dir, exist_ok=True)  # ensure cache directory exists\n",
    "\n",
    "def preprocess_data(data_train, data_test, labels_train, labels_test,\n",
    "                    cache_dir=cache_dir, cache_file=\"preprocessed_data.pkl\"):\n",
    "    \"\"\"Convert each review to words; read from cache if available.\"\"\"\n",
    "\n",
    "    # If cache_file is not None, try to read from it first\n",
    "    cache_data = None\n",
    "    if cache_file is not None:\n",
    "        try:\n",
    "            with open(os.path.join(cache_dir, cache_file), \"rb\") as f:\n",
    "                cache_data = pickle.load(f)\n",
    "            print(\"Read preprocessed data from cache file:\", cache_file)\n",
    "        except:\n",
    "            pass  # unable to read from cache, but that's okay\n",
    "    \n",
    "    # If cache is missing, then do the heavy lifting\n",
    "    if cache_data is None:\n",
    "        # Preprocess training and test data to obtain words for each review\n",
    "        #words_train = list(map(review_to_words, data_train))\n",
    "        #words_test = list(map(review_to_words, data_test))\n",
    "        words_train = [review_to_words(review) for review in data_train]\n",
    "        words_test = [review_to_words(review) for review in data_test]\n",
    "        \n",
    "        # Write to cache file for future runs\n",
    "        if cache_file is not None:\n",
    "            cache_data = dict(words_train=words_train, words_test=words_test,\n",
    "                              labels_train=labels_train, labels_test=labels_test)\n",
    "            with open(os.path.join(cache_dir, cache_file), \"wb\") as f:\n",
    "                pickle.dump(cache_data, f)\n",
    "            print(\"Wrote preprocessed data to cache file:\", cache_file)\n",
    "    else:\n",
    "        # Unpack data loaded from cache file\n",
    "        words_train, words_test, labels_train, labels_test = (cache_data['words_train'],\n",
    "                cache_data['words_test'], cache_data['labels_train'], cache_data['labels_test'])\n",
    "    \n",
    "    return words_train, words_test, labels_train, labels_test"
   ]
  },
  {
   "cell_type": "code",
   "execution_count": 9,
   "metadata": {},
   "outputs": [
    {
     "name": "stdout",
     "output_type": "stream",
     "text": [
      "Read preprocessed data from cache file: preprocessed_data.pkl\n"
     ]
    }
   ],
   "source": [
    "# Preprocess data\n",
    "train_X, test_X, train_y, test_y = preprocess_data(train_X, test_X, train_y, test_y)"
   ]
  },
  {
   "cell_type": "markdown",
   "metadata": {},
   "source": [
    "## Transform the data\n",
    "\n",
    "In the XGBoost notebook we transformed the data from its word representation to a bag-of-words feature representation. For the model we are going to construct in this notebook we will construct a feature representation which is very similar. To start, we will represent each word as an integer. Of course, some of the words that appear in the reviews occur very infrequently and so likely don't contain much information for the purposes of sentiment analysis. The way we will deal with this problem is that we will fix the size of our working vocabulary and we will only include the words that appear most frequently. We will then combine all of the infrequent words into a single category and, in our case, we will label it as `1`.\n",
    "\n",
    "Since we will be using a recurrent neural network, it will be convenient if the length of each review is the same. To do this, we will fix a size for our reviews and then pad short reviews with the category 'no word' (which we will label `0`) and truncate long reviews."
   ]
  },
  {
   "cell_type": "markdown",
   "metadata": {},
   "source": [
    "### (TODO) Create a word dictionary\n",
    "\n",
    "To begin with, we need to construct a way to map words that appear in the reviews to integers. Here we fix the size of our vocabulary (including the 'no word' and 'infrequent' categories) to be `5000` but you may wish to change this to see how it affects the model.\n",
    "\n",
    "> **TODO:** Complete the implementation for the `build_dict()` method below. Note that even though the vocab_size is set to `5000`, we only want to construct a mapping for the most frequently appearing `4998` words. This is because we want to reserve the special labels `0` for 'no word' and `1` for 'infrequent word'."
   ]
  },
  {
   "cell_type": "code",
   "execution_count": 10,
   "metadata": {},
   "outputs": [],
   "source": [
    "import numpy as np\n",
    "\n",
    "def build_dict(data, vocab_size = 5000):\n",
    "    \"\"\"Construct and return a dictionary mapping each of the most frequently appearing words to a unique integer.\"\"\"\n",
    "    word_count = {} # A dict storing the words that appear in the reviews along with how often they occur\n",
    "    \n",
    "    # tally up the word counts\n",
    "    \n",
    "    ### TODO 2 EXPLAIN HERE ##\n",
    "    for sentence in data:\n",
    "        for word in sentence:\n",
    "            word_count[word] = word_count[word] + 1 if word in word_count else 1\n",
    "    \n",
    "    # Sort the words found in `data` so that sorted_words[0] is the most frequently appearing word and\n",
    "    # sorted_words[-1] is the least frequently appearing word. \n",
    "    word_count_sorted = sorted(word_count.items(), key=(lambda item: item[1]), reverse=True)\n",
    "    sorted_words = [item[0] for item in word_count_sorted]\n",
    "    \n",
    "     ### TODO 2 EXPLAIN HERE ##\n",
    "        \n",
    "    word_dict = {} # This is what we are building, a dictionary that translates words into integers\n",
    "    for idx, word in enumerate(sorted_words[:vocab_size - 2]): # The -2 is so that we save room for the 'no word'\n",
    "        word_dict[word] = idx + 2                              # 'infrequent' labels\n",
    "        \n",
    "    return word_dict"
   ]
  },
  {
   "cell_type": "code",
   "execution_count": 11,
   "metadata": {},
   "outputs": [],
   "source": [
    "word_dict = build_dict(train_X)"
   ]
  },
  {
   "cell_type": "code",
   "execution_count": 12,
   "metadata": {},
   "outputs": [
    {
     "name": "stdout",
     "output_type": "stream",
     "text": [
      "{'movi': 2, 'film': 3, 'one': 4, 'like': 5, 'time': 6, 'good': 7, 'make': 8, 'charact': 9, 'get': 10, 'see': 11, 'watch': 12, 'stori': 13, 'even': 14, 'would': 15, 'realli': 16, 'well': 17, 'scene': 18, 'look': 19, 'show': 20, 'much': 21, 'end': 22, 'peopl': 23, 'bad': 24, 'go': 25, 'great': 26, 'also': 27, 'first': 28, 'love': 29, 'think': 30, 'way': 31, 'act': 32, 'play': 33, 'made': 34, 'thing': 35, 'could': 36, 'know': 37, 'say': 38, 'seem': 39, 'work': 40, 'plot': 41, 'two': 42, 'actor': 43, 'year': 44, 'come': 45, 'mani': 46, 'seen': 47, 'take': 48, 'want': 49, 'life': 50, 'never': 51, 'littl': 52, 'best': 53, 'tri': 54, 'man': 55, 'ever': 56, 'give': 57, 'better': 58, 'still': 59, 'perform': 60, 'find': 61, 'feel': 62, 'part': 63, 'back': 64, 'use': 65, 'someth': 66, 'director': 67, 'actual': 68, 'interest': 69, 'lot': 70, 'real': 71, 'old': 72, 'cast': 73, 'though': 74, 'live': 75, 'star': 76, 'enjoy': 77, 'guy': 78, 'anoth': 79, 'new': 80, 'role': 81, 'noth': 82, '10': 83, 'funni': 84, 'music': 85, 'point': 86, 'start': 87, 'set': 88, 'girl': 89, 'origin': 90, 'day': 91, 'world': 92, 'everi': 93, 'believ': 94, 'turn': 95, 'quit': 96, 'direct': 97, 'us': 98, 'thought': 99, 'fact': 100, 'minut': 101, 'horror': 102, 'kill': 103, 'action': 104, 'comedi': 105, 'pretti': 106, 'young': 107, 'wonder': 108, 'happen': 109, 'around': 110, 'got': 111, 'effect': 112, 'right': 113, 'long': 114, 'howev': 115, 'big': 116, 'line': 117, 'famili': 118, 'enough': 119, 'seri': 120, 'may': 121, 'need': 122, 'fan': 123, 'bit': 124, 'script': 125, 'beauti': 126, 'person': 127, 'becom': 128, 'without': 129, 'must': 130, 'alway': 131, 'friend': 132, 'tell': 133, 'reason': 134, 'saw': 135, 'last': 136, 'final': 137, 'kid': 138, 'almost': 139, 'put': 140, 'least': 141, 'sure': 142, 'done': 143, 'whole': 144, 'place': 145, 'complet': 146, 'kind': 147, 'expect': 148, 'differ': 149, 'shot': 150, 'far': 151, 'mean': 152, 'anyth': 153, 'book': 154, 'laugh': 155, 'might': 156, 'name': 157, 'sinc': 158, 'begin': 159, '2': 160, 'probabl': 161, 'woman': 162, 'help': 163, 'entertain': 164, 'let': 165, 'screen': 166, 'call': 167, 'tv': 168, 'moment': 169, 'away': 170, 'read': 171, 'yet': 172, 'rather': 173, 'worst': 174, 'run': 175, 'fun': 176, 'lead': 177, 'hard': 178, 'audienc': 179, 'idea': 180, 'anyon': 181, 'episod': 182, 'american': 183, 'found': 184, 'appear': 185, 'bore': 186, 'especi': 187, 'although': 188, 'hope': 189, 'keep': 190, 'cours': 191, 'anim': 192, 'job': 193, 'goe': 194, 'move': 195, 'sens': 196, 'version': 197, 'dvd': 198, 'war': 199, 'money': 200, 'someon': 201, 'mind': 202, 'mayb': 203, 'problem': 204, 'true': 205, 'hous': 206, 'everyth': 207, 'nice': 208, 'second': 209, 'rate': 210, 'three': 211, 'night': 212, 'face': 213, 'follow': 214, 'recommend': 215, 'main': 216, 'product': 217, 'worth': 218, 'leav': 219, 'human': 220, 'special': 221, 'excel': 222, 'togeth': 223, 'wast': 224, 'sound': 225, 'everyon': 226, 'john': 227, 'hand': 228, '1': 229, 'father': 230, 'later': 231, 'eye': 232, 'said': 233, 'view': 234, 'instead': 235, 'review': 236, 'boy': 237, 'high': 238, 'hour': 239, 'miss': 240, 'classic': 241, 'talk': 242, 'wife': 243, 'understand': 244, 'left': 245, 'care': 246, 'black': 247, 'death': 248, 'open': 249, 'murder': 250, 'write': 251, 'half': 252, 'head': 253, 'rememb': 254, 'chang': 255, 'viewer': 256, 'fight': 257, 'gener': 258, 'surpris': 259, 'short': 260, 'includ': 261, 'die': 262, 'fall': 263, 'less': 264, 'els': 265, 'entir': 266, 'piec': 267, 'involv': 268, 'pictur': 269, 'simpli': 270, 'home': 271, 'power': 272, 'top': 273, 'total': 274, 'usual': 275, 'budget': 276, 'attempt': 277, 'suppos': 278, 'releas': 279, 'hollywood': 280, 'terribl': 281, 'song': 282, 'men': 283, 'possibl': 284, 'featur': 285, 'portray': 286, 'disappoint': 287, '3': 288, 'poor': 289, 'coupl': 290, 'camera': 291, 'stupid': 292, 'dead': 293, 'wrong': 294, 'produc': 295, 'low': 296, 'video': 297, 'either': 298, 'aw': 299, 'definit': 300, 'except': 301, 'rest': 302, 'given': 303, 'absolut': 304, 'women': 305, 'lack': 306, 'word': 307, 'writer': 308, 'titl': 309, 'talent': 310, 'decid': 311, 'full': 312, 'perfect': 313, 'along': 314, 'style': 315, 'close': 316, 'truli': 317, 'school': 318, 'save': 319, 'emot': 320, 'sex': 321, 'age': 322, 'next': 323, 'bring': 324, 'mr': 325, 'case': 326, 'killer': 327, 'heart': 328, 'comment': 329, 'sort': 330, 'creat': 331, 'perhap': 332, 'came': 333, 'brother': 334, 'sever': 335, 'joke': 336, 'art': 337, 'dialogu': 338, 'game': 339, 'small': 340, 'base': 341, 'flick': 342, 'written': 343, 'sequenc': 344, 'meet': 345, 'earli': 346, 'often': 347, 'other': 348, 'mother': 349, 'develop': 350, 'humor': 351, 'actress': 352, 'consid': 353, 'dark': 354, 'guess': 355, 'amaz': 356, 'unfortun': 357, 'light': 358, 'lost': 359, 'exampl': 360, 'cinema': 361, 'drama': 362, 'ye': 363, 'white': 364, 'experi': 365, 'imagin': 366, 'mention': 367, 'stop': 368, 'natur': 369, 'forc': 370, 'manag': 371, 'felt': 372, 'present': 373, 'cut': 374, 'children': 375, 'fail': 376, 'son': 377, 'support': 378, 'car': 379, 'qualiti': 380, 'ask': 381, 'hit': 382, 'side': 383, 'voic': 384, 'extrem': 385, 'impress': 386, 'evil': 387, 'wors': 388, 'stand': 389, 'went': 390, 'certainli': 391, 'basic': 392, 'oh': 393, 'overal': 394, 'favorit': 395, 'horribl': 396, 'mysteri': 397, 'number': 398, 'type': 399, 'danc': 400, 'wait': 401, 'hero': 402, 'alreadi': 403, '5': 404, 'learn': 405, 'matter': 406, '4': 407, 'michael': 408, 'genr': 409, 'fine': 410, 'despit': 411, 'throughout': 412, 'walk': 413, 'success': 414, 'histori': 415, 'question': 416, 'zombi': 417, 'town': 418, 'relationship': 419, 'realiz': 420, 'past': 421, 'child': 422, 'daughter': 423, 'late': 424, 'b': 425, 'wish': 426, 'hate': 427, 'credit': 428, 'event': 429, 'theme': 430, 'touch': 431, 'citi': 432, 'today': 433, 'sometim': 434, 'behind': 435, 'god': 436, 'twist': 437, 'sit': 438, 'stay': 439, 'annoy': 440, 'deal': 441, 'abl': 442, 'rent': 443, 'pleas': 444, 'edit': 445, 'blood': 446, 'deserv': 447, 'anyway': 448, 'comic': 449, 'appar': 450, 'soon': 451, 'gave': 452, 'etc': 453, 'level': 454, 'slow': 455, 'chanc': 456, 'score': 457, 'bodi': 458, 'brilliant': 459, 'incred': 460, 'figur': 461, 'situat': 462, 'self': 463, 'major': 464, 'stuff': 465, 'decent': 466, 'element': 467, 'return': 468, 'dream': 469, 'obvious': 470, 'order': 471, 'continu': 472, 'pace': 473, 'ridicul': 474, 'happi': 475, 'group': 476, 'highli': 477, 'add': 478, 'thank': 479, 'ladi': 480, 'novel': 481, 'pain': 482, 'speak': 483, 'career': 484, 'shoot': 485, 'strang': 486, 'heard': 487, 'sad': 488, 'husband': 489, 'polic': 490, 'import': 491, 'break': 492, 'took': 493, 'cannot': 494, 'strong': 495, 'predict': 496, 'robert': 497, 'violenc': 498, 'hilari': 499, 'recent': 500, 'countri': 501, 'known': 502, 'particularli': 503, 'pick': 504, 'documentari': 505, 'season': 506, 'critic': 507, 'jame': 508, 'compar': 509, 'obviou': 510, 'alon': 511, 'told': 512, 'state': 513, 'visual': 514, 'rock': 515, 'exist': 516, 'offer': 517, 'theater': 518, 'opinion': 519, 'gore': 520, 'hold': 521, 'crap': 522, 'result': 523, 'realiti': 524, 'room': 525, 'hear': 526, 'effort': 527, 'clich': 528, 'thriller': 529, 'caus': 530, 'sequel': 531, 'explain': 532, 'serious': 533, 'king': 534, 'local': 535, 'ago': 536, 'hell': 537, 'none': 538, 'note': 539, 'allow': 540, 'david': 541, 'sister': 542, 'simpl': 543, 'femal': 544, 'deliv': 545, 'ok': 546, 'class': 547, 'convinc': 548, 'check': 549, 'suspens': 550, 'win': 551, 'buy': 552, 'oscar': 553, 'huge': 554, 'valu': 555, 'sexual': 556, 'cool': 557, 'scari': 558, 'excit': 559, 'similar': 560, 'apart': 561, 'exactli': 562, 'provid': 563, 'avoid': 564, 'shown': 565, 'seriou': 566, 'english': 567, 'whose': 568, 'taken': 569, 'cinematographi': 570, 'shock': 571, 'polit': 572, 'spoiler': 573, 'offic': 574, 'across': 575, 'middl': 576, 'pass': 577, 'street': 578, 'messag': 579, 'charm': 580, 'somewhat': 581, 'silli': 582, 'modern': 583, 'confus': 584, 'filmmak': 585, 'form': 586, 'tale': 587, 'singl': 588, 'jack': 589, 'mostli': 590, 'carri': 591, 'william': 592, 'attent': 593, 'sing': 594, 'five': 595, 'subject': 596, 'richard': 597, 'prove': 598, 'stage': 599, 'team': 600, 'unlik': 601, 'cop': 602, 'georg': 603, 'televis': 604, 'monster': 605, 'earth': 606, 'cover': 607, 'villain': 608, 'pay': 609, 'marri': 610, 'toward': 611, 'build': 612, 'parent': 613, 'pull': 614, 'due': 615, 'fill': 616, 'respect': 617, 'four': 618, 'dialog': 619, 'remind': 620, 'futur': 621, 'typic': 622, 'weak': 623, '7': 624, 'cheap': 625, 'intellig': 626, 'atmospher': 627, 'british': 628, '80': 629, 'clearli': 630, 'non': 631, 'dog': 632, 'paul': 633, 'artist': 634, 'knew': 635, '8': 636, 'fast': 637, 'crime': 638, 'easili': 639, 'escap': 640, 'adult': 641, 'doubt': 642, 'detail': 643, 'date': 644, 'romant': 645, 'fire': 646, 'member': 647, 'drive': 648, 'gun': 649, 'straight': 650, 'beyond': 651, 'fit': 652, 'attack': 653, 'imag': 654, 'upon': 655, 'posit': 656, 'whether': 657, 'fantast': 658, 'peter': 659, 'captur': 660, 'aspect': 661, 'appreci': 662, 'ten': 663, 'plan': 664, 'discov': 665, 'remain': 666, 'near': 667, 'period': 668, 'air': 669, 'realist': 670, 'mark': 671, 'red': 672, 'dull': 673, 'adapt': 674, 'within': 675, 'spend': 676, 'lose': 677, 'color': 678, 'materi': 679, 'chase': 680, 'mari': 681, 'storylin': 682, 'forget': 683, 'bunch': 684, 'clear': 685, 'lee': 686, 'victim': 687, 'nearli': 688, 'box': 689, 'york': 690, 'match': 691, 'inspir': 692, 'mess': 693, 'finish': 694, 'standard': 695, 'easi': 696, 'truth': 697, 'busi': 698, 'suffer': 699, 'bill': 700, 'dramat': 701, 'space': 702, 'western': 703, 'e': 704, 'list': 705, 'battl': 706, 'notic': 707, 'de': 708, 'french': 709, 'ad': 710, '9': 711, 'tom': 712, 'larg': 713, 'among': 714, 'eventu': 715, 'accept': 716, 'train': 717, 'agre': 718, 'soundtrack': 719, 'spirit': 720, 'third': 721, 'teenag': 722, 'adventur': 723, 'soldier': 724, 'sorri': 725, 'suggest': 726, 'famou': 727, 'drug': 728, 'cri': 729, 'normal': 730, 'babi': 731, 'troubl': 732, 'ultim': 733, 'contain': 734, 'certain': 735, 'cultur': 736, 'romanc': 737, 'rare': 738, 'lame': 739, 'somehow': 740, 'mix': 741, 'disney': 742, 'gone': 743, 'cartoon': 744, 'student': 745, 'fear': 746, 'reveal': 747, 'kept': 748, 'suck': 749, 'attract': 750, 'appeal': 751, 'premis': 752, 'secret': 753, 'greatest': 754, 'design': 755, 'shame': 756, 'throw': 757, 'copi': 758, 'scare': 759, 'wit': 760, 'america': 761, 'admit': 762, 'brought': 763, 'particular': 764, 'relat': 765, 'screenplay': 766, 'whatev': 767, 'pure': 768, '70': 769, 'averag': 770, 'harri': 771, 'master': 772, 'describ': 773, 'treat': 774, 'male': 775, '20': 776, 'fantasi': 777, 'issu': 778, 'warn': 779, 'inde': 780, 'background': 781, 'forward': 782, 'free': 783, 'project': 784, 'memor': 785, 'japanes': 786, 'poorli': 787, 'award': 788, 'locat': 789, 'amus': 790, 'potenti': 791, 'struggl': 792, 'weird': 793, 'magic': 794, 'societi': 795, 'okay': 796, 'doctor': 797, 'imdb': 798, 'accent': 799, 'hot': 800, 'water': 801, 'dr': 802, 'alien': 803, '30': 804, 'express': 805, 'odd': 806, 'choic': 807, 'crazi': 808, 'fiction': 809, 'studio': 810, 'becam': 811, 'control': 812, 'masterpiec': 813, 'difficult': 814, 'fli': 815, 'joe': 816, 'scream': 817, 'costum': 818, 'lover': 819, 'refer': 820, 'uniqu': 821, 'remak': 822, 'girlfriend': 823, 'vampir': 824, 'prison': 825, 'execut': 826, 'wear': 827, 'jump': 828, 'unless': 829, 'wood': 830, 'creepi': 831, 'cheesi': 832, 'superb': 833, 'otherwis': 834, 'parti': 835, 'roll': 836, 'ghost': 837, 'mad': 838, 'public': 839, 'depict': 840, 'badli': 841, 'earlier': 842, 'week': 843, 'moral': 844, 'jane': 845, 'fi': 846, 'dumb': 847, 'flaw': 848, 'grow': 849, 'sci': 850, 'deep': 851, 'cat': 852, 'maker': 853, 'footag': 854, 'older': 855, 'connect': 856, 'bother': 857, 'plenti': 858, 'outsid': 859, 'stick': 860, 'gay': 861, 'catch': 862, 'plu': 863, 'co': 864, 'popular': 865, 'equal': 866, 'social': 867, 'quickli': 868, 'disturb': 869, 'perfectli': 870, 'dress': 871, 'era': 872, '90': 873, 'mistak': 874, 'lie': 875, 'previou': 876, 'ride': 877, 'combin': 878, 'concept': 879, 'band': 880, 'answer': 881, 'surviv': 882, 'rich': 883, 'front': 884, 'sweet': 885, 'christma': 886, 'insid': 887, 'eat': 888, 'bare': 889, 'concern': 890, 'ben': 891, 'listen': 892, 'beat': 893, 'c': 894, 'term': 895, 'serv': 896, 'la': 897, 'german': 898, 'meant': 899, 'stereotyp': 900, 'hardli': 901, 'innoc': 902, 'law': 903, 'desper': 904, 'promis': 905, 'memori': 906, 'cute': 907, 'intent': 908, 'inform': 909, 'steal': 910, 'variou': 911, 'brain': 912, 'post': 913, 'tone': 914, 'island': 915, 'amount': 916, 'nuditi': 917, 'track': 918, 'compani': 919, 'claim': 920, 'store': 921, 'flat': 922, 'hair': 923, '50': 924, 'univers': 925, 'land': 926, 'kick': 927, 'scott': 928, 'danger': 929, 'fairli': 930, 'player': 931, 'step': 932, 'crew': 933, 'plain': 934, 'toni': 935, 'share': 936, 'centuri': 937, 'tast': 938, 'engag': 939, 'achiev': 940, 'cold': 941, 'travel': 942, 'record': 943, 'rip': 944, 'suit': 945, 'sadli': 946, 'manner': 947, 'tension': 948, 'wrote': 949, 'spot': 950, 'intens': 951, 'fascin': 952, 'familiar': 953, 'burn': 954, 'depth': 955, 'remark': 956, 'destroy': 957, 'histor': 958, 'sleep': 959, 'purpos': 960, 'languag': 961, 'ruin': 962, 'ignor': 963, 'delight': 964, 'italian': 965, 'unbeliev': 966, 'abil': 967, 'collect': 968, 'soul': 969, 'clever': 970, 'detect': 971, 'violent': 972, 'rape': 973, 'reach': 974, 'door': 975, 'liter': 976, 'scienc': 977, 'trash': 978, 'commun': 979, 'caught': 980, 'reveng': 981, 'creatur': 982, 'trip': 983, 'approach': 984, 'fashion': 985, 'intrigu': 986, 'paint': 987, 'introduc': 988, 'skill': 989, 'complex': 990, 'channel': 991, 'camp': 992, 'christian': 993, 'extra': 994, 'hole': 995, 'immedi': 996, 'limit': 997, 'mental': 998, 'ann': 999, '6': 1000, 'million': 1001, 'comput': 1002, 'slightli': 1003, 'mere': 1004, 'conclus': 1005, 'slasher': 1006, 'imposs': 1007, 'suddenli': 1008, 'teen': 1009, 'neither': 1010, 'crimin': 1011, 'physic': 1012, 'spent': 1013, 'nation': 1014, 'respons': 1015, 'planet': 1016, 'fake': 1017, 'receiv': 1018, 'sick': 1019, 'blue': 1020, 'bizarr': 1021, 'embarrass': 1022, 'indian': 1023, '15': 1024, 'ring': 1025, 'drop': 1026, 'pop': 1027, 'drag': 1028, 'haunt': 1029, 'suspect': 1030, 'pointless': 1031, 'search': 1032, 'edg': 1033, 'handl': 1034, 'common': 1035, 'biggest': 1036, 'faith': 1037, 'hurt': 1038, 'arriv': 1039, 'technic': 1040, 'angel': 1041, 'dad': 1042, 'genuin': 1043, 'f': 1044, 'awesom': 1045, 'solid': 1046, 'former': 1047, 'focu': 1048, 'van': 1049, 'colleg': 1050, 'count': 1051, 'tear': 1052, 'heavi': 1053, 'wall': 1054, 'rais': 1055, 'visit': 1056, 'laughabl': 1057, 'younger': 1058, 'sign': 1059, 'fair': 1060, 'excus': 1061, 'cult': 1062, 'tough': 1063, 'motion': 1064, 'key': 1065, 'desir': 1066, 'super': 1067, 'addit': 1068, 'stun': 1069, 'cloth': 1070, 'exploit': 1071, 'tortur': 1072, 'smith': 1073, 'davi': 1074, 'race': 1075, 'cross': 1076, 'author': 1077, 'jim': 1078, 'minor': 1079, 'focus': 1080, 'compel': 1081, 'consist': 1082, 'chemistri': 1083, 'commit': 1084, 'pathet': 1085, 'park': 1086, 'obsess': 1087, 'frank': 1088, 'tradit': 1089, 'grade': 1090, '60': 1091, 'asid': 1092, 'brutal': 1093, 'somewher': 1094, 'steve': 1095, 'explor': 1096, 'opportun': 1097, 'rule': 1098, 'u': 1099, 'grant': 1100, 'depress': 1101, 'honest': 1102, 'besid': 1103, 'dub': 1104, 'anti': 1105, 'trailer': 1106, 'intend': 1107, 'bar': 1108, 'regard': 1109, 'west': 1110, 'longer': 1111, 'scientist': 1112, 'judg': 1113, 'decad': 1114, 'silent': 1115, 'armi': 1116, 'creativ': 1117, 'wild': 1118, 'stewart': 1119, 'south': 1120, 'g': 1121, 'draw': 1122, 'road': 1123, 'govern': 1124, 'ex': 1125, 'boss': 1126, 'practic': 1127, 'gang': 1128, 'motiv': 1129, 'surprisingli': 1130, 'festiv': 1131, 'club': 1132, 'page': 1133, 'green': 1134, 'redeem': 1135, 'london': 1136, 'idiot': 1137, 'machin': 1138, 'display': 1139, 'aliv': 1140, 'militari': 1141, 'repeat': 1142, 'thrill': 1143, '100': 1144, 'nobodi': 1145, 'folk': 1146, 'yeah': 1147, '40': 1148, 'garbag': 1149, 'journey': 1150, 'ground': 1151, 'smile': 1152, 'tire': 1153, 'bought': 1154, 'mood': 1155, 'stone': 1156, 'sam': 1157, 'cost': 1158, 'mouth': 1159, 'noir': 1160, 'terrif': 1161, 'agent': 1162, 'utterli': 1163, 'requir': 1164, 'sexi': 1165, 'honestli': 1166, 'area': 1167, 'report': 1168, 'geniu': 1169, 'investig': 1170, 'glad': 1171, 'humour': 1172, 'enter': 1173, 'serial': 1174, 'narr': 1175, 'passion': 1176, 'occasion': 1177, 'climax': 1178, 'marriag': 1179, 'studi': 1180, 'industri': 1181, 'charli': 1182, 'center': 1183, 'nowher': 1184, 'demon': 1185, 'ship': 1186, 'bear': 1187, 'loos': 1188, 'hors': 1189, 'hang': 1190, 'wow': 1191, 'graphic': 1192, 'giant': 1193, 'admir': 1194, 'send': 1195, 'damn': 1196, 'loud': 1197, 'subtl': 1198, 'rel': 1199, 'nake': 1200, 'profession': 1201, 'blow': 1202, 'bottom': 1203, 'insult': 1204, 'batman': 1205, 'boyfriend': 1206, 'doubl': 1207, 'r': 1208, 'kelli': 1209, 'initi': 1210, 'frame': 1211, 'gem': 1212, 'opera': 1213, 'drawn': 1214, 'challeng': 1215, 'affect': 1216, 'cinemat': 1217, 'church': 1218, 'l': 1219, 'seek': 1220, 'nightmar': 1221, 'fulli': 1222, 'j': 1223, 'evid': 1224, 'arm': 1225, 'conflict': 1226, 'essenti': 1227, 'christoph': 1228, 'wind': 1229, 'grace': 1230, 'henri': 1231, 'witch': 1232, 'assum': 1233, 'narrat': 1234, 'hunt': 1235, 'push': 1236, 'wise': 1237, 'chri': 1238, 'repres': 1239, 'month': 1240, 'nomin': 1241, 'hide': 1242, 'avail': 1243, 'sceneri': 1244, 'affair': 1245, 'thu': 1246, 'justic': 1247, 'bond': 1248, 'smart': 1249, 'outstand': 1250, 'flashback': 1251, 'interview': 1252, 'satisfi': 1253, 'constantli': 1254, 'presenc': 1255, 'bed': 1256, 'central': 1257, 'content': 1258, 'iron': 1259, 'sell': 1260, 'everybodi': 1261, 'gag': 1262, 'slowli': 1263, 'hotel': 1264, 'hire': 1265, 'system': 1266, 'hey': 1267, 'charl': 1268, 'thrown': 1269, 'adam': 1270, 'individu': 1271, 'jone': 1272, 'mediocr': 1273, 'allen': 1274, 'ray': 1275, 'billi': 1276, 'lesson': 1277, 'cameo': 1278, 'photographi': 1279, 'pari': 1280, 'fellow': 1281, 'strike': 1282, 'brief': 1283, 'absurd': 1284, 'rise': 1285, 'independ': 1286, 'neg': 1287, 'phone': 1288, 'impact': 1289, 'model': 1290, 'born': 1291, 'ill': 1292, 'spoil': 1293, 'angl': 1294, 'fresh': 1295, 'abus': 1296, 'likabl': 1297, 'discuss': 1298, 'hill': 1299, 'sight': 1300, 'ahead': 1301, 'photograph': 1302, 'sent': 1303, 'blame': 1304, 'occur': 1305, 'shine': 1306, 'logic': 1307, 'mainli': 1308, 'bruce': 1309, 'commerci': 1310, 'skip': 1311, 'forev': 1312, 'surround': 1313, 'held': 1314, 'segment': 1315, 'teacher': 1316, 'zero': 1317, 'blond': 1318, 'trap': 1319, 'satir': 1320, 'resembl': 1321, 'summer': 1322, 'six': 1323, 'fool': 1324, 'ball': 1325, 'queen': 1326, 'twice': 1327, 'tragedi': 1328, 'sub': 1329, 'reaction': 1330, 'pack': 1331, 'bomb': 1332, 'hospit': 1333, 'protagonist': 1334, 'will': 1335, 'mile': 1336, 'sport': 1337, 'vote': 1338, 'drink': 1339, 'trust': 1340, 'jerri': 1341, 'mom': 1342, 'encount': 1343, 'plane': 1344, 'program': 1345, 'station': 1346, 'current': 1347, 'al': 1348, 'choos': 1349, 'celebr': 1350, 'martin': 1351, 'join': 1352, 'field': 1353, 'favourit': 1354, 'round': 1355, 'tragic': 1356, 'lord': 1357, 'jean': 1358, 'robot': 1359, 'vision': 1360, 'tie': 1361, 'arthur': 1362, 'fortun': 1363, 'random': 1364, 'roger': 1365, 'psycholog': 1366, 'intern': 1367, 'dread': 1368, 'nonsens': 1369, 'epic': 1370, 'improv': 1371, 'prefer': 1372, 'highlight': 1373, 'pleasur': 1374, 'legend': 1375, 'formula': 1376, 'tape': 1377, '11': 1378, 'dollar': 1379, 'object': 1380, 'fox': 1381, 'thin': 1382, 'porn': 1383, 'wide': 1384, 'gorgeou': 1385, 'influenc': 1386, 'buddi': 1387, 'ugli': 1388, 'ii': 1389, 'prepar': 1390, 'nasti': 1391, 'progress': 1392, 'warm': 1393, 'supposedli': 1394, 'reflect': 1395, 'worthi': 1396, 'youth': 1397, 'latter': 1398, 'length': 1399, 'unusu': 1400, 'crash': 1401, 'superior': 1402, 'childhood': 1403, 'shop': 1404, 'seven': 1405, 'remot': 1406, 'theatr': 1407, 'pilot': 1408, 'disgust': 1409, 'paid': 1410, 'funniest': 1411, 'fell': 1412, 'trick': 1413, 'convers': 1414, 'castl': 1415, 'establish': 1416, 'gangster': 1417, 'rob': 1418, 'disast': 1419, 'ident': 1420, 'heaven': 1421, 'suicid': 1422, 'mine': 1423, 'disappear': 1424, 'singer': 1425, 'heroin': 1426, 'forgotten': 1427, 'decis': 1428, 'mask': 1429, 'tend': 1430, 'brian': 1431, 'partner': 1432, 'desert': 1433, 'alan': 1434, 'recogn': 1435, 'sky': 1436, 'thoroughli': 1437, 'p': 1438, 'stuck': 1439, 'ms': 1440, 'replac': 1441, 'accur': 1442, 'market': 1443, 'uncl': 1444, 'commentari': 1445, 'andi': 1446, 'seemingli': 1447, 'clue': 1448, 'danni': 1449, 'eddi': 1450, 'devil': 1451, 'jackson': 1452, 'refus': 1453, 'pair': 1454, 'therefor': 1455, 'that': 1456, 'unit': 1457, 'accid': 1458, 'river': 1459, 'fate': 1460, 'fault': 1461, 'ed': 1462, 'tune': 1463, 'afraid': 1464, 'russian': 1465, 'stephen': 1466, 'hidden': 1467, 'clean': 1468, 'captain': 1469, 'readi': 1470, 'instanc': 1471, 'test': 1472, 'convey': 1473, 'irrit': 1474, 'quick': 1475, 'european': 1476, 'daniel': 1477, 'insan': 1478, 'frustrat': 1479, 'wed': 1480, '1950': 1481, 'food': 1482, 'rescu': 1483, 'chines': 1484, 'dirti': 1485, 'angri': 1486, 'lock': 1487, 'joy': 1488, 'price': 1489, 'steven': 1490, 'bland': 1491, 'cage': 1492, 'anymor': 1493, 'rang': 1494, 'wooden': 1495, 'jason': 1496, 'news': 1497, 'n': 1498, 'rush': 1499, 'led': 1500, '12': 1501, 'twenti': 1502, 'worri': 1503, 'board': 1504, 'martial': 1505, 'symbol': 1506, 'hunter': 1507, 'transform': 1508, 'cgi': 1509, 'invent': 1510, 'x': 1511, 'sentiment': 1512, 'onto': 1513, 'piti': 1514, 'johnni': 1515, 'attitud': 1516, 'process': 1517, 'explan': 1518, 'owner': 1519, 'awar': 1520, 'aim': 1521, 'floor': 1522, 'energi': 1523, 'necessari': 1524, 'favor': 1525, 'target': 1526, 'religi': 1527, 'opposit': 1528, 'chick': 1529, 'window': 1530, 'insight': 1531, 'blind': 1532, 'movement': 1533, 'possess': 1534, 'comparison': 1535, 'deepli': 1536, 'mountain': 1537, 'research': 1538, 'whatsoev': 1539, 'rain': 1540, 'comed': 1541, 'grand': 1542, 'began': 1543, 'shadow': 1544, 'bank': 1545, 'mid': 1546, 'parodi': 1547, 'princ': 1548, 'weapon': 1549, 'pre': 1550, 'credibl': 1551, 'friendship': 1552, 'taylor': 1553, 'flesh': 1554, 'dougla': 1555, 'teach': 1556, 'bloodi': 1557, 'protect': 1558, 'hint': 1559, 'terror': 1560, 'marvel': 1561, 'leader': 1562, 'drunk': 1563, 'load': 1564, 'superman': 1565, 'watchabl': 1566, 'anybodi': 1567, 'accord': 1568, 'freddi': 1569, 'brown': 1570, 'seat': 1571, 'hitler': 1572, 'jeff': 1573, 'tim': 1574, 'appropri': 1575, 'unknown': 1576, 'charg': 1577, 'knock': 1578, 'villag': 1579, 'keaton': 1580, 'media': 1581, 'england': 1582, 'empti': 1583, 'enemi': 1584, 'unnecessari': 1585, 'strength': 1586, 'perspect': 1587, 'wave': 1588, 'craft': 1589, 'dare': 1590, 'buck': 1591, 'utter': 1592, 'kiss': 1593, 'correct': 1594, 'contrast': 1595, 'ford': 1596, 'nativ': 1597, 'distract': 1598, 'nazi': 1599, 'speed': 1600, 'knowledg': 1601, 'magnific': 1602, 'soap': 1603, 'chill': 1604, 'anywher': 1605, 'breath': 1606, 'mission': 1607, 'ice': 1608, '1980': 1609, 'fred': 1610, 'joan': 1611, 'jr': 1612, 'moon': 1613, 'crowd': 1614, 'soft': 1615, '000': 1616, 'kate': 1617, 'frighten': 1618, 'dan': 1619, 'hundr': 1620, 'nick': 1621, 'dick': 1622, 'simon': 1623, 'somebodi': 1624, 'radio': 1625, 'dozen': 1626, 'loss': 1627, 'academi': 1628, 'shakespear': 1629, 'thousand': 1630, 'andrew': 1631, 'sum': 1632, 'quot': 1633, 'account': 1634, 'vehicl': 1635, 'root': 1636, 'behavior': 1637, 'leg': 1638, 'convent': 1639, '1970': 1640, 'gold': 1641, 'regular': 1642, 'pretenti': 1643, 'demand': 1644, 'worker': 1645, 'compet': 1646, 'lynch': 1647, 'interpret': 1648, 'candi': 1649, 'privat': 1650, 'stretch': 1651, 'explos': 1652, 'japan': 1653, 'notabl': 1654, 'constant': 1655, 'debut': 1656, 'tarzan': 1657, 'spi': 1658, 'translat': 1659, 'revolv': 1660, 'prais': 1661, 'sea': 1662, 'jesu': 1663, 'failur': 1664, 'sat': 1665, 'franc': 1666, 'technolog': 1667, 'ass': 1668, 'threaten': 1669, 'quiet': 1670, 'punch': 1671, 'met': 1672, 'aid': 1673, 'higher': 1674, 'toy': 1675, 'kevin': 1676, 'vh': 1677, 'interact': 1678, 'mike': 1679, 'abandon': 1680, 'command': 1681, 'bet': 1682, 'separ': 1683, 'confront': 1684, 'gotten': 1685, 'recal': 1686, 'site': 1687, 'techniqu': 1688, 'belong': 1689, 'stunt': 1690, 'servic': 1691, 'freak': 1692, 'cabl': 1693, 'foot': 1694, 'bug': 1695, 'bright': 1696, 'jimmi': 1697, 'african': 1698, 'capabl': 1699, 'fu': 1700, 'stock': 1701, 'clark': 1702, 'succeed': 1703, 'presid': 1704, 'fat': 1705, 'boat': 1706, 'spanish': 1707, 'structur': 1708, 'gene': 1709, 'kidnap': 1710, 'paper': 1711, 'whilst': 1712, 'belief': 1713, 'factor': 1714, 'witti': 1715, 'tree': 1716, 'realis': 1717, 'realism': 1718, 'educ': 1719, 'bob': 1720, 'attend': 1721, 'complic': 1722, 'assist': 1723, 'finest': 1724, 'santa': 1725, 'broken': 1726, 'up': 1727, 'depart': 1728, 'observ': 1729, 'smoke': 1730, 'determin': 1731, 'v': 1732, 'fame': 1733, 'domin': 1734, 'hat': 1735, 'rubbish': 1736, 'routin': 1737, 'oper': 1738, 'lewi': 1739, 'foreign': 1740, 'hook': 1741, 'lone': 1742, 'kinda': 1743, 'advanc': 1744, 'morgan': 1745, 'safe': 1746, 'numer': 1747, 'rank': 1748, 'civil': 1749, 'shape': 1750, 'washington': 1751, 'werewolf': 1752, 'vs': 1753, 'shallow': 1754, 'rose': 1755, 'morn': 1756, 'gari': 1757, 'ordinari': 1758, 'kong': 1759, 'accomplish': 1760, 'winner': 1761, 'peac': 1762, 'whenev': 1763, 'grab': 1764, 'virtual': 1765, 'offens': 1766, 'luck': 1767, 'h': 1768, 'bigger': 1769, 'complain': 1770, 'patient': 1771, 'contriv': 1772, 'activ': 1773, 'unfunni': 1774, 'welcom': 1775, 'con': 1776, 'trek': 1777, 'dimension': 1778, 'pretend': 1779, 'code': 1780, 'eric': 1781, 'wake': 1782, 'cain': 1783, 'lesbian': 1784, 'flash': 1785, 'dri': 1786, 'manipul': 1787, 'statu': 1788, 'corrupt': 1789, 'guard': 1790, 'dancer': 1791, 'albert': 1792, 'gain': 1793, 'sourc': 1794, 'signific': 1795, 'context': 1796, 'speech': 1797, 'awkward': 1798, '13': 1799, 'corni': 1800, 'anthoni': 1801, 'psycho': 1802, 'clip': 1803, 'sean': 1804, 'reli': 1805, 'advic': 1806, 'curiou': 1807, 'theatric': 1808, 'religion': 1809, 'priest': 1810, 'w': 1811, 'addict': 1812, 'flow': 1813, 'howard': 1814, 'specif': 1815, 'skin': 1816, 'asian': 1817, 'secur': 1818, 'jennif': 1819, 'promot': 1820, 'golden': 1821, 'comfort': 1822, 'core': 1823, 'luke': 1824, 'organ': 1825, 'cheat': 1826, 'lucki': 1827, 'cash': 1828, 'associ': 1829, 'lower': 1830, 'dislik': 1831, 'frequent': 1832, 'contribut': 1833, 'degre': 1834, 'devic': 1835, 'regret': 1836, 'balanc': 1837, 'frankli': 1838, 'spell': 1839, 'wing': 1840, 'print': 1841, 'sake': 1842, 'forgiv': 1843, 'lake': 1844, 'mass': 1845, 'thoma': 1846, 'betti': 1847, 'unexpect': 1848, 'gordon': 1849, 'crack': 1850, 'invit': 1851, 'unfold': 1852, 'amateur': 1853, 'grown': 1854, 'construct': 1855, 'categori': 1856, 'depend': 1857, 'intellectu': 1858, 'condit': 1859, 'honor': 1860, 'grew': 1861, 'matur': 1862, 'walter': 1863, 'anna': 1864, 'sudden': 1865, 'veteran': 1866, 'mirror': 1867, 'spectacular': 1868, 'sole': 1869, 'experienc': 1870, 'card': 1871, 'liner': 1872, 'grip': 1873, 'demonstr': 1874, 'overli': 1875, 'freedom': 1876, 'robin': 1877, 'meanwhil': 1878, 'gift': 1879, 'subtitl': 1880, 'section': 1881, 'circumst': 1882, 'theori': 1883, 'brilliantli': 1884, 'colour': 1885, 'crappi': 1886, 'unabl': 1887, 'drew': 1888, 'oliv': 1889, 'sheriff': 1890, 'path': 1891, 'pile': 1892, 'laughter': 1893, 'cook': 1894, 'sheer': 1895, 'altern': 1896, 'matt': 1897, 'parker': 1898, 'defin': 1899, 'accident': 1900, 'lawyer': 1901, 'relief': 1902, 'sinatra': 1903, 'wander': 1904, 'treatment': 1905, 'hall': 1906, 'hank': 1907, 'dragon': 1908, 'captiv': 1909, 'gratuit': 1910, 'moor': 1911, 'halloween': 1912, 'cowboy': 1913, 'k': 1914, 'wayn': 1915, 'kung': 1916, 'broadway': 1917, 'unintent': 1918, 'barbara': 1919, 'jacki': 1920, 'wound': 1921, 'surreal': 1922, 'winter': 1923, 'spoof': 1924, 'canadian': 1925, 'statement': 1926, 'gonna': 1927, 'fish': 1928, 'cheer': 1929, 'fare': 1930, 'treasur': 1931, 'compos': 1932, 'emerg': 1933, 'victor': 1934, 'sensit': 1935, 'unrealist': 1936, 'woodi': 1937, 'driven': 1938, 'ran': 1939, 'sympathet': 1940, 'neighbor': 1941, 'menac': 1942, 'expos': 1943, 'authent': 1944, 'glass': 1945, 'overlook': 1946, 'topic': 1947, 'chief': 1948, 'handsom': 1949, 'gross': 1950, 'ancient': 1951, 'michel': 1952, 'russel': 1953, 'contemporari': 1954, 'built': 1955, 'network': 1956, 'feet': 1957, 'pleasant': 1958, 'stranger': 1959, 'cinderella': 1960, 'nevertheless': 1961, 'comedian': 1962, 'consider': 1963, 'letter': 1964, 'endless': 1965, 'gori': 1966, 'earn': 1967, 'blockbust': 1968, 'underr': 1969, 'miser': 1970, 'solv': 1971, 'switch': 1972, 'brook': 1973, 'edward': 1974, 'virgin': 1975, 'convict': 1976, 'joseph': 1977, 'bullet': 1978, 'victoria': 1979, 'chosen': 1980, 'cynic': 1981, 'scenario': 1982, 'scale': 1983, '0': 1984, 'alex': 1985, 'gut': 1986, 'com': 1987, 'outrag': 1988, 'curs': 1989, 'sword': 1990, 'juli': 1991, 'uk': 1992, 'substanc': 1993, 'wrap': 1994, 'screenwrit': 1995, 'monkey': 1996, 'driver': 1997, 'proper': 1998, 'court': 1999, 'par': 2000, 'indic': 2001, 'bird': 2002, 'remov': 2003, 'rental': 2004, 'grave': 2005, 'loser': 2006, 'naiv': 2007, 'consequ': 2008, 'inevit': 2009, 'advertis': 2010, 'roy': 2011, 'nanci': 2012, 'fatal': 2013, 'bridg': 2014, 'brave': 2015, 'germani': 2016, 'slap': 2017, 'invis': 2018, 'le': 2019, 'anger': 2020, 'loui': 2021, 'ador': 2022, 'provok': 2023, 'footbal': 2024, 'anderson': 2025, 'alcohol': 2026, 'chan': 2027, 'ryan': 2028, 'professor': 2029, 'willi': 2030, 'stumbl': 2031, 'bat': 2032, 'patrick': 2033, 'sharp': 2034, '1930': 2035, 'australian': 2036, 'assassin': 2037, 'lousi': 2038, 'eight': 2039, 'heck': 2040, 'saturday': 2041, 'deni': 2042, 'liber': 2043, 'strongli': 2044, 'trilog': 2045, 'amateurish': 2046, 'refresh': 2047, 'cell': 2048, 'ape': 2049, 'sin': 2050, 'resid': 2051, 'san': 2052, 'justifi': 2053, 'vagu': 2054, 'sympathi': 2055, 'defeat': 2056, 'creator': 2057, 'terrifi': 2058, 'indi': 2059, 'reput': 2060, 'mini': 2061, 'tabl': 2062, 'expert': 2063, 'tediou': 2064, 'endur': 2065, 'task': 2066, 'prevent': 2067, 'employ': 2068, 'trial': 2069, 'rival': 2070, 'basebal': 2071, 'imit': 2072, 'offend': 2073, 'che': 2074, 'beach': 2075, 'weekend': 2076, 'dig': 2077, 'europ': 2078, 'pitch': 2079, 'max': 2080, 'fairi': 2081, 'complaint': 2082, 'risk': 2083, 'format': 2084, 'purchas': 2085, 'murphi': 2086, 'reminisc': 2087, 'bite': 2088, 'glimps': 2089, 'nois': 2090, 'tini': 2091, 'titan': 2092, 'hype': 2093, 'powel': 2094, 'harsh': 2095, 'strip': 2096, 'asleep': 2097, 'fals': 2098, 'till': 2099, '14': 2100, 'prime': 2101, 'north': 2102, 'destruct': 2103, 'descript': 2104, 'africa': 2105, 'revel': 2106, 'texa': 2107, 'surfac': 2108, 'spin': 2109, 'semi': 2110, 'uninterest': 2111, 'excess': 2112, 'arrest': 2113, 'inner': 2114, 'sitcom': 2115, 'twin': 2116, 'argu': 2117, 'dinosaur': 2118, 'massiv': 2119, 'controversi': 2120, 'maintain': 2121, 'makeup': 2122, 'hitchcock': 2123, 'melodrama': 2124, 'expens': 2125, 'ideal': 2126, 'stare': 2127, 'kim': 2128, 'reject': 2129, 'insist': 2130, 'ludicr': 2131, 'host': 2132, 'ala': 2133, 'press': 2134, 'columbo': 2135, 'forest': 2136, 'nail': 2137, 'subplot': 2138, 'erot': 2139, 'atroci': 2140, 'ga': 2141, 'supernatur': 2142, 'dude': 2143, 'cant': 2144, 'presum': 2145, 'notch': 2146, 'identifi': 2147, 'guest': 2148, 'forgett': 2149, 'closer': 2150, 'character': 2151, 'method': 2152, 'plagu': 2153, 'crude': 2154, 'foster': 2155, 'beast': 2156, 'lion': 2157, 'border': 2158, 'landscap': 2159, 'ear': 2160, 'princess': 2161, 'urban': 2162, 'aunt': 2163, 'bound': 2164, 'previous': 2165, 'damag': 2166, 'birth': 2167, 'storytel': 2168, 'accus': 2169, 'jungl': 2170, 'pacino': 2171, 'guid': 2172, 'doll': 2173, 'nude': 2174, 'thirti': 2175, 'chose': 2176, 'propaganda': 2177, 'emma': 2178, 'jess': 2179, 'whoever': 2180, 'pet': 2181, '25': 2182, 'mate': 2183, 'mainstream': 2184, 'warrior': 2185, 'friday': 2186, 'upset': 2187, 'latest': 2188, 'exact': 2189, 'gritti': 2190, 'cooper': 2191, 'poster': 2192, 'size': 2193, 'merit': 2194, 'deadli': 2195, 'buff': 2196, '1990': 2197, 'contact': 2198, 'popul': 2199, 'citizen': 2200, 'contest': 2201, 'wilson': 2202, 'ton': 2203, 'corps': 2204, 'rough': 2205, 'blend': 2206, 'warner': 2207, 'settl': 2208, 'sun': 2209, 'widow': 2210, 'metal': 2211, 'overcom': 2212, 'environ': 2213, 'rat': 2214, 'mgm': 2215, 'pitt': 2216, 'select': 2217, 'bu': 2218, 'alic': 2219, 'particip': 2220, 'link': 2221, 'lift': 2222, 'ted': 2223, 'guilti': 2224, 'revolut': 2225, 'prostitut': 2226, 'johnson': 2227, 'accompani': 2228, 'corpor': 2229, 'matrix': 2230, 'corner': 2231, 'afternoon': 2232, '1960': 2233, 'moron': 2234, 'exagger': 2235, 'leagu': 2236, 'instal': 2237, 'hood': 2238, 'doom': 2239, 'sincer': 2240, 'friendli': 2241, 'holm': 2242, 'multipl': 2243, 'clair': 2244, 'sunday': 2245, 'aka': 2246, 'defend': 2247, 'grim': 2248, 'irish': 2249, 'string': 2250, 'advis': 2251, 'junk': 2252, 'blah': 2253, 'hip': 2254, 'examin': 2255, 'campi': 2256, 'lugosi': 2257, 'confid': 2258, 'shake': 2259, 'varieti': 2260, 'shut': 2261, 'icon': 2262, 'pro': 2263, 'rachel': 2264, 'tight': 2265, 'denni': 2266, 'directli': 2267, 'sullivan': 2268, 'jaw': 2269, 'goal': 2270, 'attach': 2271, 'medic': 2272, 'mexican': 2273, 'dean': 2274, 'legendari': 2275, 'truck': 2276, 'courag': 2277, 'sentenc': 2278, 'vietnam': 2279, 'breast': 2280, 'bourn': 2281, 'duke': 2282, 'prior': 2283, 'sarah': 2284, 'terrorist': 2285, 'donald': 2286, 'behav': 2287, 'yell': 2288, 'proceed': 2289, 'un': 2290, 'split': 2291, 'hong': 2292, 'entri': 2293, 'nose': 2294, 'jerk': 2295, 'borrow': 2296, 'stolen': 2297, 'swim': 2298, 'concentr': 2299, 'forth': 2300, 'buri': 2301, 'everywher': 2302, 'unconvinc': 2303, 'confess': 2304, 'lifetim': 2305, 'gather': 2306, 'crush': 2307, 'turkey': 2308, 'pan': 2309, 'julia': 2310, 'deliveri': 2311, 'spite': 2312, 'california': 2313, 'lip': 2314, 'quest': 2315, 'hoffman': 2316, 'china': 2317, 'downright': 2318, 'offici': 2319, 'proud': 2320, 'flight': 2321, 'reward': 2322, 'freeman': 2323, 'sir': 2324, 'worthwhil': 2325, 'sink': 2326, 'lazi': 2327, 'fabul': 2328, 'inept': 2329, 'notori': 2330, 'encourag': 2331, 'jail': 2332, 'fade': 2333, 'betray': 2334, 'jon': 2335, 'imageri': 2336, 'survivor': 2337, 'cousin': 2338, 'relev': 2339, 'teeth': 2340, 'retard': 2341, 'shower': 2342, 'lisa': 2343, 'branagh': 2344, 'susan': 2345, 'bag': 2346, 'storm': 2347, 'bell': 2348, 'trade': 2349, 'tremend': 2350, 'toler': 2351, 'facial': 2352, 'quirki': 2353, 'hugh': 2354, 'summari': 2355, 'mexico': 2356, 'stab': 2357, 'finger': 2358, 'alright': 2359, 'bride': 2360, 'shark': 2361, 'ha': 2362, 'hyster': 2363, 'bitter': 2364, 'von': 2365, 'pose': 2366, 'blown': 2367, 'afterward': 2368, 'scheme': 2369, 'christ': 2370, 'cruel': 2371, 'address': 2372, 'larri': 2373, 'bone': 2374, 'ned': 2375, 'ron': 2376, 'swear': 2377, 'beg': 2378, 'distinct': 2379, 'tour': 2380, 'screw': 2381, 'traci': 2382, 'feed': 2383, 'pursu': 2384, 'snake': 2385, 'thumb': 2386, 'raw': 2387, 'mechan': 2388, 'occas': 2389, 'chair': 2390, 'photo': 2391, 'stomach': 2392, 'obscur': 2393, 'southern': 2394, 'necessarili': 2395, 'chain': 2396, 'argument': 2397, 'gruesom': 2398, 'resist': 2399, 'sidney': 2400, 'render': 2401, 'cabin': 2402, 'heavili': 2403, 'holiday': 2404, 'hardi': 2405, 'philip': 2406, 'understood': 2407, 'satan': 2408, 'indulg': 2409, 'racist': 2410, 'india': 2411, 'fourth': 2412, 'obnoxi': 2413, 'belov': 2414, 'pregnant': 2415, 'midnight': 2416, 'lay': 2417, 'stalk': 2418, 'tongu': 2419, 'integr': 2420, 'forgot': 2421, 'outfit': 2422, 'restor': 2423, 'deeper': 2424, 'carol': 2425, 'ticket': 2426, 'inhabit': 2427, 'garden': 2428, 'slapstick': 2429, '17': 2430, 'magazin': 2431, 'incid': 2432, 'devot': 2433, 'brad': 2434, 'shoe': 2435, 'lincoln': 2436, 'guarante': 2437, 'benefit': 2438, 'anticip': 2439, 'divorc': 2440, 'underground': 2441, 'sandler': 2442, 'disbelief': 2443, 'maria': 2444, 'lili': 2445, 'elizabeth': 2446, 'mildli': 2447, 'cring': 2448, 'creation': 2449, 'capit': 2450, 'greater': 2451, 'explod': 2452, 'amazingli': 2453, 'bbc': 2454, 'slave': 2455, 'princip': 2456, 'lesli': 2457, 'halfway': 2458, 'introduct': 2459, 'funnier': 2460, 'extraordinari': 2461, 'tap': 2462, 'wreck': 2463, 'text': 2464, 'transfer': 2465, 'advantag': 2466, 'punish': 2467, 'overwhelm': 2468, 'enhanc': 2469, 'extent': 2470, 'lo': 2471, 'jessica': 2472, 'east': 2473, 'dynam': 2474, 'lane': 2475, 'plant': 2476, 'error': 2477, 'preview': 2478, 'horrif': 2479, 'deliber': 2480, 'homosexu': 2481, 'miller': 2482, 'appli': 2483, 'basi': 2484, 'vacat': 2485, 'vincent': 2486, 'sophist': 2487, 'miscast': 2488, 'ensu': 2489, '2000': 2490, 'extend': 2491, 'elev': 2492, 'steel': 2493, 'via': 2494, 'measur': 2495, 'spoken': 2496, 'sleazi': 2497, 'uncomfort': 2498, 'mansion': 2499, 'reed': 2500, 'bollywood': 2501, 'savag': 2502, 'beer': 2503, 'daili': 2504, 'fix': 2505, 'hippi': 2506, 'overact': 2507, 'mous': 2508, 'alter': 2509, 'conceiv': 2510, 'dentist': 2511, 'melt': 2512, 'cathol': 2513, 'assign': 2514, 'stanley': 2515, 'blair': 2516, 'breathtak': 2517, 'goofi': 2518, 'oppos': 2519, 'properli': 2520, 'succe': 2521, 'everyday': 2522, 'sacrific': 2523, 'burt': 2524, 'subsequ': 2525, 'inspector': 2526, 'carpent': 2527, 'nowaday': 2528, 'block': 2529, 'neck': 2530, 'massacr': 2531, 'laura': 2532, 'circl': 2533, 'fallen': 2534, 'access': 2535, 'concert': 2536, 'lesser': 2537, 'pool': 2538, 'christi': 2539, 'seagal': 2540, 'grey': 2541, 'portrait': 2542, 'mob': 2543, 'fay': 2544, 'chees': 2545, 'sinist': 2546, 'relax': 2547, 'isol': 2548, 'react': 2549, 'usa': 2550, 'competit': 2551, 'jewish': 2552, 'jake': 2553, '2006': 2554, 'chop': 2555, 'nine': 2556, 'nonetheless': 2557, 'appal': 2558, 'stink': 2559, 'lyric': 2560, 'ironi': 2561, 'immens': 2562, 'creep': 2563, 'suitabl': 2564, 'spiritu': 2565, 'needless': 2566, 'franchis': 2567, 'navi': 2568, 'user': 2569, 'retir': 2570, 'sold': 2571, 'showcas': 2572, 'spring': 2573, 'reduc': 2574, 'nut': 2575, 'rage': 2576, 'shirt': 2577, 'adopt': 2578, 'luci': 2579, 'bulli': 2580, 'stanwyck': 2581, 'nurs': 2582, 'bath': 2583, 'asham': 2584, 'digit': 2585, 'uninspir': 2586, 'jay': 2587, 'per': 2588, 'zone': 2589, 'broadcast': 2590, 'oddli': 2591, 'laid': 2592, 'amongst': 2593, '1940': 2594, 'sutherland': 2595, '2001': 2596, 'upper': 2597, 'illustr': 2598, 'aspir': 2599, 'stylish': 2600, 'baker': 2601, 'disguis': 2602, 'throat': 2603, 'fulfil': 2604, 'brando': 2605, 'impli': 2606, 'wwii': 2607, 'neighborhood': 2608, 'wanna': 2609, 'nobl': 2610, 'pound': 2611, '18': 2612, 'pride': 2613, 'endear': 2614, 'em': 2615, 'thief': 2616, 'shift': 2617, 'bett': 2618, 'dawn': 2619, 'tens': 2620, '16': 2621, 'distribut': 2622, 'dinner': 2623, 'albeit': 2624, 'cinematograph': 2625, 'diseas': 2626, 'prop': 2627, 'shoulder': 2628, 'bo': 2629, 'coher': 2630, 'rochest': 2631, 'rebel': 2632, 'shout': 2633, 'contract': 2634, 'matthau': 2635, 'snow': 2636, 'function': 2637, 'wash': 2638, 'surf': 2639, 'poignant': 2640, 'silenc': 2641, 'knife': 2642, 'forti': 2643, 'instinct': 2644, 'cancel': 2645, 'widmark': 2646, 'reunion': 2647, 'silver': 2648, 'mindless': 2649, 'heat': 2650, 'henc': 2651, 'internet': 2652, 'derek': 2653, 'duti': 2654, 'horrend': 2655, 'height': 2656, 'eeri': 2657, 'cannib': 2658, 'elvira': 2659, 'chuck': 2660, 'proof': 2661, 'premier': 2662, 'musician': 2663, 'mill': 2664, 'greatli': 2665, 'spielberg': 2666, 'alik': 2667, 'incoher': 2668, 'absorb': 2669, 'etern': 2670, 'neat': 2671, 'repetit': 2672, 'torn': 2673, 'pie': 2674, 'elvi': 2675, 'innov': 2676, 'glori': 2677, 'wealthi': 2678, 'britain': 2679, 'horrifi': 2680, 'trite': 2681, 'homag': 2682, 'crisi': 2683, 'nelson': 2684, 'redempt': 2685, 'fbi': 2686, 'blank': 2687, 'precis': 2688, 'itali': 2689, 'racism': 2690, 'infam': 2691, 'bang': 2692, 'announc': 2693, 'lovabl': 2694, 'burton': 2695, 'diamond': 2696, 'parallel': 2697, 'resolut': 2698, 'hammer': 2699, 'happili': 2700, 'dedic': 2701, 'helen': 2702, 'pat': 2703, 'chaplin': 2704, 'ensembl': 2705, 'flop': 2706, 'streisand': 2707, 'wilder': 2708, 'conclud': 2709, 'carter': 2710, 'oil': 2711, 'st': 2712, 'broke': 2713, 'plastic': 2714, 'triumph': 2715, 'mar': 2716, 'disagre': 2717, 'cube': 2718, 'factori': 2719, 'march': 2720, 'bush': 2721, 'climb': 2722, 'weight': 2723, 'fighter': 2724, 'vega': 2725, 'rocket': 2726, 'own': 2727, 'row': 2728, 'chuckl': 2729, 'lust': 2730, 'kurt': 2731, 'sensibl': 2732, 'boot': 2733, 'unforgett': 2734, 'enorm': 2735, 'wherea': 2736, 'spare': 2737, 'luca': 2738, 'dump': 2739, 'mst3k': 2740, 'dane': 2741, 'meaning': 2742, 'thug': 2743, 'engin': 2744, 'brand': 2745, 'dear': 2746, 'caricatur': 2747, 'stress': 2748, 'adequ': 2749, 'rap': 2750, 'fifti': 2751, 'threat': 2752, 'butt': 2753, 'difficulti': 2754, 'arnold': 2755, 'bobbi': 2756, 'karloff': 2757, 'homeless': 2758, 'hamlet': 2759, 'secretari': 2760, 'flynn': 2761, 'swing': 2762, 'elabor': 2763, 'ego': 2764, 'barri': 2765, 'fest': 2766, 'ralph': 2767, 'polish': 2768, 'arrog': 2769, 'journalist': 2770, 'unbear': 2771, 'grate': 2772, 'conspiraci': 2773, 'simpson': 2774, 'induc': 2775, 'arrang': 2776, 'fanci': 2777, 'spike': 2778, 'tool': 2779, 'puppet': 2780, 'float': 2781, 'resort': 2782, 'phillip': 2783, 'boll': 2784, 'pig': 2785, 'tribut': 2786, 'exercis': 2787, 'cruis': 2788, 'guilt': 2789, 'muppet': 2790, 'choreograph': 2791, 'basement': 2792, 'file': 2793, 'tower': 2794, 'document': 2795, 'puzzl': 2796, 'slip': 2797, 'ward': 2798, 'item': 2799, 'fianc': 2800, 'toilet': 2801, 'layer': 2802, '24': 2803, 'medium': 2804, 'korean': 2805, 'babe': 2806, 'ham': 2807, 'stan': 2808, 'editor': 2809, 'scarecrow': 2810, 'slaughter': 2811, 'assur': 2812, 'minim': 2813, 'orient': 2814, 'inexplic': 2815, 'transit': 2816, 'persona': 2817, 'doc': 2818, 'portion': 2819, 'superfici': 2820, 'librari': 2821, 'spark': 2822, 'denzel': 2823, 'territori': 2824, 'philosoph': 2825, 'catherin': 2826, 'larger': 2827, 'glover': 2828, 'wolf': 2829, 'curti': 2830, 'financi': 2831, 'ban': 2832, 'shi': 2833, 'owe': 2834, 'sneak': 2835, 'pg': 2836, 'dorothi': 2837, 'jeremi': 2838, 'walken': 2839, 'boredom': 2840, 'jet': 2841, 'hudson': 2842, 'multi': 2843, 'ambigu': 2844, 'profound': 2845, 'eleph': 2846, 'metaphor': 2847, 'backdrop': 2848, 'whale': 2849, 'cusack': 2850, '2005': 2851, 'union': 2852, 'hack': 2853, 'implaus': 2854, 'rave': 2855, 'gadget': 2856, 'elsewher': 2857, 'viru': 2858, 'notion': 2859, 'stiff': 2860, 'ultra': 2861, 'birthday': 2862, 'afford': 2863, 'newspap': 2864, 'superhero': 2865, 'eva': 2866, 'urg': 2867, 'hawk': 2868, '1st': 2869, 'poison': 2870, 'squar': 2871, 'eastwood': 2872, 'reader': 2873, 'disc': 2874, 'pad': 2875, 'bibl': 2876, 'distanc': 2877, 'slight': 2878, 'lloyd': 2879, 'canada': 2880, 'deriv': 2881, 'charisma': 2882, 'cure': 2883, 'restaur': 2884, 'spread': 2885, 'essenc': 2886, 'button': 2887, 'huh': 2888, 'health': 2889, 'sadist': 2890, 'drown': 2891, 'montag': 2892, 'heston': 2893, 'skit': 2894, 'invest': 2895, 'estat': 2896, 'maniac': 2897, 'peak': 2898, 'lab': 2899, 'scoobi': 2900, 'godfath': 2901, 'gradual': 2902, 'muslim': 2903, 'companion': 2904, 'fetch': 2905, 'dealt': 2906, 'cup': 2907, 'ritter': 2908, 'servant': 2909, 'subtleti': 2910, 'alli': 2911, 'gothic': 2912, 'tea': 2913, 'kane': 2914, 'miik': 2915, 'countless': 2916, 'salli': 2917, 'iii': 2918, 'electr': 2919, 'charismat': 2920, 'briefli': 2921, 'elect': 2922, 'heroic': 2923, 'bud': 2924, 'tender': 2925, 'toss': 2926, 'wannab': 2927, 'reel': 2928, 'nuanc': 2929, 'cole': 2930, 'grandmoth': 2931, 'ingredi': 2932, 'resourc': 2933, 'neil': 2934, 'admittedli': 2935, 'label': 2936, 'stood': 2937, 'stronger': 2938, 'pit': 2939, 'mafia': 2940, 'dawson': 2941, 'reev': 2942, 'poverti': 2943, 'punk': 2944, 'carrey': 2945, 'kubrick': 2946, 'shall': 2947, 'mild': 2948, 'pauli': 2949, 'gate': 2950, 'burst': 2951, 'updat': 2952, 'smash': 2953, 'useless': 2954, 'tag': 2955, 'smooth': 2956, 'astair': 2957, 'cox': 2958, 'assault': 2959, 'fond': 2960, 'ian': 2961, 'terri': 2962, 'outcom': 2963, 'cardboard': 2964, 'easier': 2965, 'bakshi': 2966, '2002': 2967, 'vari': 2968, 'coincid': 2969, 'fist': 2970, 'rex': 2971, 'qualifi': 2972, 'samurai': 2973, 'melodramat': 2974, 'vulner': 2975, 'exchang': 2976, 'divers': 2977, 'increasingli': 2978, 'resolv': 2979, 'sketch': 2980, 'luckili': 2981, 'be': 2982, 'tame': 2983, 'scratch': 2984, 'insert': 2985, 'reynold': 2986, 'brillianc': 2987, 'blast': 2988, 'suspend': 2989, 'conveni': 2990, 'templ': 2991, 'gotta': 2992, 'meat': 2993, 'ambiti': 2994, 'seventi': 2995, 'jami': 2996, 'fisher': 2997, 'farm': 2998, 'strictli': 2999, 'walker': 3000, 'coach': 3001, 'nuclear': 3002, 'matthew': 3003, 'pin': 3004, 'hamilton': 3005, 'soprano': 3006, 'cave': 3007, 'joey': 3008, 'struck': 3009, 'spooki': 3010, 'timeless': 3011, 'clock': 3012, 'closet': 3013, 'discoveri': 3014, 'recreat': 3015, 'instantli': 3016, 'eccentr': 3017, 'revers': 3018, 'worthless': 3019, 'butcher': 3020, 'brosnan': 3021, 'grasp': 3022, 'monk': 3023, 'convolut': 3024, 'empir': 3025, 'ninja': 3026, 'kudo': 3027, 'bleak': 3028, 'mitchel': 3029, 'communist': 3030, 'wipe': 3031, 'sidekick': 3032, 'seller': 3033, 'miracl': 3034, 'partli': 3035, 'evok': 3036, 'inconsist': 3037, 'gray': 3038, 'selfish': 3039, 'clown': 3040, 'norman': 3041, 'cliff': 3042, 'eighti': 3043, 'fifteen': 3044, 'pal': 3045, 'importantli': 3046, 'sloppi': 3047, 'declar': 3048, 'enthusiast': 3049, 'websit': 3050, 'chew': 3051, '45': 3052, 'australia': 3053, 'stoog': 3054, 'lifestyl': 3055, 'farc': 3056, 'debat': 3057, 'flawless': 3058, 'piano': 3059, 'ho': 3060, 'destin': 3061, 'cheek': 3062, 'superbl': 3063, 'aforement': 3064, 'psychiatrist': 3065, 'seed': 3066, 'regardless': 3067, 'soviet': 3068, 'incompet': 3069, 'dash': 3070, 'anni': 3071, 'dire': 3072, 'wick': 3073, 'drivel': 3074, 'emili': 3075, 'slice': 3076, 'kitchen': 3077, 'bash': 3078, 'akshay': 3079, 'pressur': 3080, 'wrestl': 3081, 'abc': 3082, 'directori': 3083, 'splatter': 3084, 'ken': 3085, 'boil': 3086, 'chapter': 3087, 'cameron': 3088, 'distant': 3089, 'recov': 3090, 'mann': 3091, 'increas': 3092, 'prize': 3093, 'beaten': 3094, 'doo': 3095, 'glow': 3096, 'seduc': 3097, 'jar': 3098, 'cia': 3099, 'duo': 3100, 'artifici': 3101, 'curios': 3102, 'helicopt': 3103, 'flower': 3104, 'dave': 3105, 'cagney': 3106, 'lou': 3107, 'judi': 3108, 'suppli': 3109, 'pleasantli': 3110, 'blob': 3111, 'web': 3112, 'francisco': 3113, 'psychot': 3114, 'craven': 3115, 'perri': 3116, 'ellen': 3117, 'ranger': 3118, 'turner': 3119, 'drunken': 3120, 'panic': 3121, 'hop': 3122, 'laurel': 3123, 'splendid': 3124, 'eleg': 3125, 'combat': 3126, 'favour': 3127, 'goldberg': 3128, 'craig': 3129, 'glenn': 3130, 'ruth': 3131, 'falk': 3132, 'hatr': 3133, 'philosophi': 3134, '20th': 3135, 'shortli': 3136, 'graduat': 3137, 'slightest': 3138, 'wizard': 3139, 'fx': 3140, 'min': 3141, 'plausibl': 3142, 'alexand': 3143, 'rid': 3144, 'flip': 3145, 'greek': 3146, 'gandhi': 3147, 'gentl': 3148, 'modesti': 3149, 'jealou': 3150, 'we': 3151, 'preciou': 3152, 'manhattan': 3153, 'fund': 3154, 'futurist': 3155, 'dracula': 3156, 'legal': 3157, 'holi': 3158, 'lend': 3159, 'unpleas': 3160, 'harm': 3161, 'knight': 3162, 'ocean': 3163, 'felix': 3164, 'tall': 3165, 'bless': 3166, 'reviv': 3167, 'tank': 3168, 'mock': 3169, 'forbidden': 3170, 'scientif': 3171, 'explicit': 3172, 'giallo': 3173, 'nod': 3174, 'overdon': 3175, 'childish': 3176, 'digniti': 3177, 'ami': 3178, 'thread': 3179, 'verhoeven': 3180, 'eve': 3181, '2004': 3182, 'torment': 3183, 'fever': 3184, 'elderli': 3185, 'pirat': 3186, 'repeatedli': 3187, '99': 3188, 'nerv': 3189, 'yesterday': 3190, 'broad': 3191, 'unwatch': 3192, 'mel': 3193, 'awaken': 3194, 'margaret': 3195, 'awe': 3196, 'thick': 3197, 'absenc': 3198, 'automat': 3199, 'uniform': 3200, 'bin': 3201, 'kay': 3202, 'eas': 3203, 'publish': 3204, 'roman': 3205, 'royal': 3206, 'custom': 3207, 'timothi': 3208, 'ah': 3209, 'acclaim': 3210, 'politician': 3211, 'romero': 3212, 'lean': 3213, 'ambit': 3214, 'rivet': 3215, 'launch': 3216, 'griffith': 3217, 'stiller': 3218, 'pulp': 3219, 'phrase': 3220, 'foul': 3221, 'tomato': 3222, 'wallac': 3223, 'darker': 3224, 'transport': 3225, 'warren': 3226, 'purpl': 3227, 'homicid': 3228, 'stinker': 3229, 'bathroom': 3230, 'pierc': 3231, 'antic': 3232, 'crook': 3233, 'gabriel': 3234, 'sunshin': 3235, 'termin': 3236, 'album': 3237, 'revolutionari': 3238, 'brazil': 3239, '2003': 3240, 'pray': 3241, 'viciou': 3242, 'sixti': 3243, 'awak': 3244, 'saint': 3245, 'kenneth': 3246, 'marin': 3247, 'rambo': 3248, 'karen': 3249, 'horrid': 3250, 'hollow': 3251, 'q': 3252, 'ought': 3253, 'packag': 3254, 'donna': 3255, 'contrari': 3256, 'evolv': 3257, 'juvenil': 3258, 'choreographi': 3259, 'li': 3260, 'prom': 3261, 'coloni': 3262, 'eyr': 3263, 'ireland': 3264, 'dose': 3265, 'candid': 3266, 'mildr': 3267, 'stole': 3268, 'overr': 3269, 'twelv': 3270, 'conserv': 3271, 'nerd': 3272, 'blade': 3273, 'defi': 3274, 'mummi': 3275, 'beatti': 3276, 'option': 3277, 'kapoor': 3278, 'boast': 3279, 'ramon': 3280, 'funer': 3281, 'detract': 3282, 'fulci': 3283, 'protest': 3284, 'astonish': 3285, 'natali': 3286, 'confirm': 3287, 'jazz': 3288, 'trio': 3289, 'flame': 3290, 'global': 3291, 'altman': 3292, 'collabor': 3293, 'kirk': 3294, 'bottl': 3295, 'bull': 3296, 'tommi': 3297, 'racial': 3298, 'yellow': 3299, 'enterpris': 3300, 'shade': 3301, 'delici': 3302, 'mystic': 3303, 'audio': 3304, 'whip': 3305, 'blake': 3306, 'spit': 3307, 'destini': 3308, 'nicholson': 3309, 'leap': 3310, 'neo': 3311, 'altogeth': 3312, 'visibl': 3313, 'reunit': 3314, 'enchant': 3315, 'popcorn': 3316, 'threw': 3317, 'inherit': 3318, 'pseudo': 3319, 'adolesc': 3320, 'bedroom': 3321, 'todd': 3322, 'harder': 3323, 'staff': 3324, 'fonda': 3325, 'swedish': 3326, 'merci': 3327, 'meaningless': 3328, 'vivid': 3329, 'reserv': 3330, 'uneven': 3331, 'atlanti': 3332, 'roommat': 3333, 'suspici': 3334, 'tip': 3335, 'kennedi': 3336, 'await': 3337, 'synopsi': 3338, 'moodi': 3339, 'wire': 3340, 'respond': 3341, 'lawrenc': 3342, 'bust': 3343, 'befriend': 3344, 'edi': 3345, 'crocodil': 3346, 'exhibit': 3347, 'fanat': 3348, 'lemmon': 3349, 'madonna': 3350, 'ruthless': 3351, 'jew': 3352, 'voight': 3353, 'leonard': 3354, 'decor': 3355, '2007': 3356, 'ventur': 3357, 'chao': 3358, 'unsettl': 3359, 'clint': 3360, 'holli': 3361, 'bargain': 3362, 'incident': 3363, 'voyag': 3364, 'clumsi': 3365, 'dimens': 3366, 'bold': 3367, 'garner': 3368, 'palma': 3369, 'centr': 3370, 'carl': 3371, 'audit': 3372, 'rural': 3373, 'bradi': 3374, 'abysm': 3375, 'hart': 3376, '2nd': 3377, 'daddi': 3378, 'troop': 3379, 'tiger': 3380, 'echo': 3381, 'cuba': 3382, 'versu': 3383, 'timon': 3384, 'wealth': 3385, 'cd': 3386, 'imperson': 3387, 'poetic': 3388, 'immigr': 3389, 'lit': 3390, 'cari': 3391, 'characterist': 3392, 'ant': 3393, 'neglect': 3394, 'mall': 3395, 'trail': 3396, 'elimin': 3397, 'acknowledg': 3398, 'nearbi': 3399, 'humili': 3400, 'paus': 3401, 'collaps': 3402, 'mistaken': 3403, 'domest': 3404, 'marshal': 3405, 'repuls': 3406, 'prejudic': 3407, 'celluloid': 3408, 'solo': 3409, 'pun': 3410, 'mickey': 3411, 'saga': 3412, 'infect': 3413, 'homer': 3414, 'jeffrey': 3415, 'hbo': 3416, 'promin': 3417, 'coat': 3418, 'inappropri': 3419, 'inan': 3420, 'equip': 3421, 'harvey': 3422, 'gear': 3423, 'undoubtedli': 3424, '1996': 3425, 'olivi': 3426, 'sore': 3427, 'milk': 3428, 'cake': 3429, 'ginger': 3430, 'leon': 3431, 'interrupt': 3432, 'tribe': 3433, 'assembl': 3434, 'apolog': 3435, 'chest': 3436, 'coffe': 3437, 'pant': 3438, 'colonel': 3439, 'aveng': 3440, 'polanski': 3441, 'embrac': 3442, 'humbl': 3443, 'trace': 3444, 'florida': 3445, 'primari': 3446, 'consum': 3447, 'exot': 3448, 'colleagu': 3449, 'maggi': 3450, 'vulgar': 3451, 'jenni': 3452, 'solut': 3453, 'institut': 3454, 'instant': 3455, 'brooklyn': 3456, 'pen': 3457, 'retain': 3458, 'airplan': 3459, 'highest': 3460, 'pot': 3461, 'devast': 3462, 'furthermor': 3463, 'descend': 3464, 'illog': 3465, 'sale': 3466, 'gender': 3467, 'wive': 3468, 'seduct': 3469, '1999': 3470, 'principl': 3471, 'linda': 3472, 'outer': 3473, 'rick': 3474, 'smaller': 3475, 'dian': 3476, 'ya': 3477, 'bowl': 3478, 'cope': 3479, 'poke': 3480, 'strain': 3481, 'godzilla': 3482, 'dutch': 3483, '3rd': 3484, 'disabl': 3485, 'blatant': 3486, 'inferior': 3487, 'devoid': 3488, 'dud': 3489, 'rabbit': 3490, 'predecessor': 3491, 'cue': 3492, 'glamor': 3493, 'yard': 3494, 'mixtur': 3495, 'secondli': 3496, 'gloriou': 3497, 'beneath': 3498, 'lol': 3499, 'primarili': 3500, 'dive': 3501, 'vast': 3502, 'scope': 3503, 'hal': 3504, 'gundam': 3505, 'bubbl': 3506, 'trademark': 3507, 'alert': 3508, 'hideou': 3509, 'talki': 3510, 'domino': 3511, 'casual': 3512, 'shelf': 3513, 'pearl': 3514, 'myer': 3515, 'arab': 3516, 'april': 3517, 'garbo': 3518, 'breed': 3519, 'countrysid': 3520, 'senseless': 3521, 'museum': 3522, 'aggress': 3523, 'streep': 3524, 'z': 3525, 'shirley': 3526, 'grinch': 3527, 'disjoint': 3528, 'simplist': 3529, 'alfr': 3530, 'et': 3531, 'invas': 3532, 'uwe': 3533, 'sh': 3534, 'applaud': 3535, 'robberi': 3536, 'acid': 3537, 'obtain': 3538, 'slide': 3539, 'mail': 3540, 'experiment': 3541, 'unhappi': 3542, 'stack': 3543, 'boom': 3544, 'vanish': 3545, 'defens': 3546, 'mayor': 3547, 'loyal': 3548, 'hopeless': 3549, 'oz': 3550, 'illeg': 3551, 'maci': 3552, 'stellar': 3553, 'stir': 3554, 'khan': 3555, 'rendit': 3556, 'hardcor': 3557, 'robinson': 3558, 'disgrac': 3559, 'spider': 3560, 'amanda': 3561, 'tempt': 3562, 'tenant': 3563, 'incomprehens': 3564, 'craze': 3565, 'fri': 3566, 'rifl': 3567, 'grandfath': 3568, 'blew': 3569, 'berlin': 3570, 'topless': 3571, 'declin': 3572, 'span': 3573, 'counter': 3574, 'diana': 3575, 'recruit': 3576, 'psychic': 3577, 'dicken': 3578, 'wont': 3579, 'dismiss': 3580, 'emphasi': 3581, 'soccer': 3582, 'hartley': 3583, 'scroog': 3584, 'bitch': 3585, 'trashi': 3586, 'wet': 3587, 'porno': 3588, 'shed': 3589, 'lumet': 3590, 'goer': 3591, 'revolt': 3592, 'riot': 3593, 'shaw': 3594, 'sympath': 3595, 'niro': 3596, 'intim': 3597, 'ethnic': 3598, 'woo': 3599, 'resurrect': 3600, 'faster': 3601, 'justin': 3602, 'ration': 3603, 'sibl': 3604, 'parad': 3605, 'gap': 3606, 'hopper': 3607, 'steam': 3608, 'ensur': 3609, 'wheel': 3610, 'rider': 3611, 'eager': 3612, 'weakest': 3613, 'farmer': 3614, 'honesti': 3615, 'slick': 3616, 'choru': 3617, 'commend': 3618, 'lena': 3619, 'nephew': 3620, 'immort': 3621, 'jonathan': 3622, 'andr': 3623, 'mario': 3624, 'feminist': 3625, 'ballet': 3626, 'unreal': 3627, 'partial': 3628, 'hesit': 3629, 'patriot': 3630, 'biographi': 3631, 'enlighten': 3632, 'wendi': 3633, 'region': 3634, 'dealer': 3635, 'worm': 3636, '00': 3637, 'safeti': 3638, 'vice': 3639, 'composit': 3640, 'sappi': 3641, 'properti': 3642, 'wore': 3643, 'repress': 3644, 'psychopath': 3645, 'owen': 3646, 'morri': 3647, 'nostalg': 3648, 'franco': 3649, 'prequel': 3650, 'charlott': 3651, 'kingdom': 3652, 'sandra': 3653, 'util': 3654, 'mutant': 3655, 'blunt': 3656, 'similarli': 3657, 'hung': 3658, 'victori': 3659, 'confin': 3660, 'snap': 3661, 'skull': 3662, 'leo': 3663, 'macarthur': 3664, 'valuabl': 3665, 'recycl': 3666, 'despair': 3667, 'drum': 3668, 'exit': 3669, 'compass': 3670, 'rocki': 3671, 'rambl': 3672, 'tad': 3673, 'cg': 3674, 'drain': 3675, 'nervou': 3676, 'latin': 3677, 'farrel': 3678, 'miseri': 3679, 'rope': 3680, 'bumbl': 3681, 'hyde': 3682, 'campbel': 3683, '1972': 3684, 'thru': 3685, 'heartbreak': 3686, 'deed': 3687, 'bow': 3688, 'compens': 3689, 'dust': 3690, 'whoopi': 3691, 'tail': 3692, 'bergman': 3693, 'bonu': 3694, 'del': 3695, 'acquir': 3696, 'montana': 3697, 'speci': 3698, 'pattern': 3699, 'repli': 3700, 'strand': 3701, 'dalton': 3702, 'kyle': 3703, 'snl': 3704, 'emperor': 3705, 'mistress': 3706, 'downhil': 3707, 'rotten': 3708, 'martian': 3709, 'percept': 3710, 'bleed': 3711, 'pour': 3712, 'tonight': 3713, 'da': 3714, 'slug': 3715, 'wacki': 3716, 'gimmick': 3717, 'orson': 3718, 'rapist': 3719, 'olli': 3720, 'oppress': 3721, 'radic': 3722, 'roth': 3723, 'chess': 3724, 'contempl': 3725, 'romp': 3726, 'gal': 3727, 'airport': 3728, '35': 3729, 'carradin': 3730, 'arguabl': 3731, 'programm': 3732, 'tooth': 3733, 'tackl': 3734, 'pursuit': 3735, 'mislead': 3736, 'banal': 3737, 'stilt': 3738, 'melodi': 3739, 'belt': 3740, 'shelley': 3741, 'arc': 3742, 'unpredict': 3743, 'champion': 3744, 'slash': 3745, 'taught': 3746, '1983': 3747, 'edgar': 3748, 'paltrow': 3749, 'dazzl': 3750, 'attorney': 3751, 'pervert': 3752, 'preach': 3753, 'pervers': 3754, 'heal': 3755, 'gambl': 3756, 'orang': 3757, 'chicken': 3758, 'closest': 3759, 'employe': 3760, 'cleverli': 3761, 'marti': 3762, 'raymond': 3763, 'uplift': 3764, 'mesmer': 3765, 'graham': 3766, 'virginia': 3767, 'maid': 3768, 'vengeanc': 3769, 'passeng': 3770, 'rubi': 3771, 'franki': 3772, 'sensat': 3773, 'plight': 3774, 'poem': 3775, 'tiresom': 3776, 'bela': 3777, 'duval': 3778, 'vocal': 3779, 'conneri': 3780, 'dixon': 3781, 'gerard': 3782, 'bay': 3783, 'climact': 3784, 'whine': 3785, 'giggl': 3786, 'monologu': 3787, 'mute': 3788, 'suffic': 3789, 'clone': 3790, 'extens': 3791, 'engross': 3792, 'crystal': 3793, 'calm': 3794, 'volum': 3795, 'outing': 3796, 'profan': 3797, 'paranoia': 3798, 'tube': 3799, 'numb': 3800, 'swallow': 3801, 'inject': 3802, 'secretli': 3803, 'quarter': 3804, 'yawn': 3805, 'amitabh': 3806, 'scottish': 3807, 'lundgren': 3808, '1968': 3809, 'abraham': 3810, 'habit': 3811, 'pokemon': 3812, 'convincingli': 3813, 'iran': 3814, 'sirk': 3815, 'junior': 3816, 'surpass': 3817, 'septemb': 3818, 'chicago': 3819, 'taxi': 3820, 'bend': 3821, 'fed': 3822, 'poetri': 3823, 'earl': 3824, 'nichola': 3825, 'franci': 3826, 'trend': 3827, 'ethan': 3828, 'frankenstein': 3829, 'im': 3830, 'expand': 3831, 'dispos': 3832, 'linger': 3833, 'austen': 3834, 'plod': 3835, 'lowest': 3836, 'grotesqu': 3837, 'richardson': 3838, 'underst': 3839, 'profess': 3840, 'backward': 3841, 'meander': 3842, 'abort': 3843, 'spock': 3844, 'waitress': 3845, 'der': 3846, 'rant': 3847, 'catchi': 3848, 'econom': 3849, 'mundan': 3850, 'sue': 3851, 'cannon': 3852, 'instrument': 3853, 'muddl': 3854, 'eugen': 3855, 'descent': 3856, 'myth': 3857, 'nostalgia': 3858, 'simplic': 3859, 'greedi': 3860, 'spoke': 3861, 'tourist': 3862, 'lure': 3863, 'literatur': 3864, 'dysfunct': 3865, 'hum': 3866, 'compliment': 3867, 'household': 3868, 'rubber': 3869, 'stallon': 3870, 'june': 3871, 'alongsid': 3872, 'recognit': 3873, 'sissi': 3874, 'phantom': 3875, 'phoni': 3876, 'dictat': 3877, 'coast': 3878, 'randi': 3879, 'dement': 3880, 'mortal': 3881, 'insur': 3882, 'cent': 3883, 'damon': 3884, 'crucial': 3885, 'eaten': 3886, 'equival': 3887, 'recognis': 3888, 'stale': 3889, 'firstli': 3890, 'deaf': 3891, 'irrelev': 3892, 'omen': 3893, 'furi': 3894, 'lang': 3895, 'molli': 3896, 'mankind': 3897, 'hello': 3898, 'duck': 3899, 'flee': 3900, 'map': 3901, 'carel': 3902, 'occupi': 3903, 'louis': 3904, 'bacal': 3905, 'lengthi': 3906, 'wisdom': 3907, 'freez': 3908, 'grayson': 3909, 'dreari': 3910, 'drake': 3911, 'damm': 3912, '1973': 3913, 'newli': 3914, 'distinguish': 3915, 'blackmail': 3916, 'rude': 3917, 'loyalti': 3918, 'heel': 3919, 'reign': 3920, 'daisi': 3921, 'bump': 3922, 'cyborg': 3923, 'likewis': 3924, 'buffalo': 3925, 'rooney': 3926, 'ashley': 3927, 'antwon': 3928, 'labor': 3929, 'onlin': 3930, 'twilight': 3931, 'bike': 3932, 'biko': 3933, 'prey': 3934, 'keith': 3935, 'chronicl': 3936, 'emphas': 3937, 'unorigin': 3938, 'ridden': 3939, 'sailor': 3940, 'pink': 3941, 'tunnel': 3942, 'butler': 3943, 'barrymor': 3944, 'interior': 3945, 'vein': 3946, 'exposur': 3947, 'incorpor': 3948, 'worn': 3949, 'analysi': 3950, 'proce': 3951, 'inher': 3952, 'baddi': 3953, 'basketbal': 3954, 'attribut': 3955, 'startl': 3956, 'boxer': 3957, 'approv': 3958, 'nineti': 3959, 'provoc': 3960, 'barrel': 3961, 'predat': 3962, 'mighti': 3963, 'meg': 3964, 'robbin': 3965, 'fleet': 3966, 'hypnot': 3967, 'millionair': 3968, 'othello': 3969, 'unrel': 3970, 'condemn': 3971, 'walsh': 3972, 'underli': 3973, 'bunni': 3974, 'drift': 3975, 'er': 3976, 'belushi': 3977, 'meyer': 3978, 'undeni': 3979, 'indiffer': 3980, 'improvis': 3981, 'nicol': 3982, 'stalker': 3983, 'substitut': 3984, 'elm': 3985, 'carla': 3986, 'simmon': 3987, 'julian': 3988, 'degrad': 3989, 'mormon': 3990, 'exquisit': 3991, 'roof': 3992, 'unawar': 3993, 'errol': 3994, 'mtv': 3995, 'firm': 3996, 'shove': 3997, 'agenda': 3998, 'palac': 3999, 'nyc': 4000, 'vital': 4001, 'disord': 4002, 'greed': 4003, 'hay': 4004, 'enthusiasm': 4005, 'alison': 4006, 'alarm': 4007, 'novak': 4008, 'dolph': 4009, 'lampoon': 4010, 'watson': 4011, 'edgi': 4012, 'reid': 4013, '3d': 4014, 'priceless': 4015, 'marion': 4016, 'warmth': 4017, 'rukh': 4018, 'iraq': 4019, 'preserv': 4020, 'simultan': 4021, 'what': 4022, 'randomli': 4023, 'orlean': 4024, 'thompson': 4025, '1933': 4026, 'angela': 4027, 'pamela': 4028, 'nun': 4029, 'gestur': 4030, 'unleash': 4031, 'petti': 4032, 'distort': 4033, 'minimum': 4034, 'glanc': 4035, 'testament': 4036, '13th': 4037, 'zizek': 4038, 'beatl': 4039, 'sergeant': 4040, 'spain': 4041, 'session': 4042, 'eastern': 4043, 'showdown': 4044, 'peril': 4045, 'valentin': 4046, 'crown': 4047, 'drip': 4048, 'peck': 4049, 'profit': 4050, 'israel': 4051, 'campaign': 4052, 'coup': 4053, 'ponder': 4054, 'cassidi': 4055, 'championship': 4056, 'jan': 4057, '1984': 4058, 'quinn': 4059, 'sabrina': 4060, 'climat': 4061, 'gentleman': 4062, 'contradict': 4063, 'represent': 4064, 'shootout': 4065, 'valley': 4066, 'travesti': 4067, 'scotland': 4068, 'stroke': 4069, 'perpetu': 4070, 'crow': 4071, 'din': 4072, 'han': 4073, 'calib': 4074, 'stake': 4075, 'mon': 4076, 'crawl': 4077, 'bro': 4078, 'fido': 4079, 'kurosawa': 4080, 'exposit': 4081, 'cream': 4082, 'realm': 4083, 'regist': 4084, 'wig': 4085, 'brenda': 4086, 'empathi': 4087, 'unimagin': 4088, 'restrain': 4089, 'reson': 4090, 'buster': 4091, 'rout': 4092, 'cooki': 4093, 'miyazaki': 4094, 'femm': 4095, '1997': 4096, 'stargat': 4097, 'geek': 4098, 'sucker': 4099, 'cloud': 4100, 'compromis': 4101, 'painter': 4102, 'baldwin': 4103, 'pretens': 4104, 'absent': 4105, 'ustinov': 4106, 'monoton': 4107, 'derang': 4108, 'mclaglen': 4109, 'unsatisfi': 4110, 'wax': 4111, '1987': 4112, 'tacki': 4113, 'censor': 4114, 'unseen': 4115, 'businessman': 4116, 'abomin': 4117, 'greg': 4118, 'shoddi': 4119, 'perceiv': 4120, 'spacey': 4121, 'meryl': 4122, 'fuller': 4123, 'ross': 4124, 'distress': 4125, 'dana': 4126, 'delic': 4127, 'warrant': 4128, 'soderbergh': 4129, 'darren': 4130, 'passabl': 4131, 'sammi': 4132, 'shaki': 4133, 'traumat': 4134, 'demis': 4135, 'pole': 4136, 'josh': 4137, 'crawford': 4138, 'judgment': 4139, 'anchor': 4140, 'dee': 4141, 'verbal': 4142, 'valid': 4143, '1993': 4144, 'click': 4145, 'tech': 4146, 'jewel': 4147, 'seal': 4148, 'expedit': 4149, 'nathan': 4150, 'accuraci': 4151, 'deceas': 4152, 'fog': 4153, 'fenc': 4154, 'sid': 4155, 'austin': 4156, 'uncov': 4157, 'tarantino': 4158, 'exclus': 4159, 'furiou': 4160, 'reluct': 4161, 'kumar': 4162, 'unravel': 4163, 'wholli': 4164, 'clash': 4165, 'correctli': 4166, 'deniro': 4167, 'norm': 4168, 'primit': 4169, 'antonioni': 4170, 'polici': 4171, 'seldom': 4172, '2008': 4173, 'alec': 4174, 'darn': 4175, 'wretch': 4176, 'joel': 4177, 'bake': 4178, 'dreck': 4179, 'logan': 4180, 'murray': 4181, '1995': 4182, 'clerk': 4183, 'pocket': 4184, 'temper': 4185, 'unfair': 4186, 'sand': 4187, '1971': 4188, 'slam': 4189, 'fought': 4190, 'tax': 4191, 'roller': 4192, 'nicola': 4193, 'patienc': 4194, 'sustain': 4195, 'sunni': 4196, 'fabric': 4197, 'crippl': 4198, 'enforc': 4199, 'conduct': 4200, 'wang': 4201, '3000': 4202, 'behold': 4203, 'mode': 4204, 'hallucin': 4205, 'debt': 4206, 'ritual': 4207, 'fart': 4208, 'shanghai': 4209, 'vanc': 4210, 'trait': 4211, 'sheet': 4212, 'malon': 4213, 'divid': 4214, 'penni': 4215, 'canyon': 4216, 'guitar': 4217, 'squad': 4218, 'stuart': 4219, 'bias': 4220, 'preposter': 4221, 'grief': 4222, 'exhaust': 4223, 'bridget': 4224, 'fundament': 4225, 'shell': 4226, 'clau': 4227, 'schedul': 4228, 'critiqu': 4229, 'outlin': 4230, 'technicolor': 4231, 'scriptwrit': 4232, 'tactic': 4233, 'legaci': 4234, 'phil': 4235, 'sweep': 4236, 'runner': 4237, 'stark': 4238, 'pete': 4239, 'helpless': 4240, 'robber': 4241, 'rita': 4242, 'despis': 4243, 'conscious': 4244, 'soup': 4245, 'isabel': 4246, 'preston': 4247, 'lacklust': 4248, 'sugar': 4249, 'cigarett': 4250, 'alley': 4251, 'jacket': 4252, 'drove': 4253, 'downey': 4254, 'flair': 4255, 'kansa': 4256, 'marc': 4257, 'agenc': 4258, 'passag': 4259, 'bloom': 4260, 'boyl': 4261, 'vomit': 4262, 'russia': 4263, 'rear': 4264, 'consciou': 4265, 'inabl': 4266, 'delv': 4267, 'alicia': 4268, 'rehash': 4269, 'restrict': 4270, 'implic': 4271, 'unexpectedli': 4272, 'propos': 4273, 'sniper': 4274, 'newman': 4275, 'invad': 4276, 'sentinel': 4277, 'jodi': 4278, 'culmin': 4279, 'connor': 4280, 'liberti': 4281, 'gregori': 4282, 'palanc': 4283, 'rehears': 4284, '22': 4285, 'mccoy': 4286, 'pale': 4287, 'feat': 4288, 'vet': 4289, 'ladder': 4290, 'improb': 4291, 'foxx': 4292, 'delet': 4293, 'chainsaw': 4294, 'karl': 4295, 'wrench': 4296, 'aesthet': 4297, 'tendenc': 4298, 'arrow': 4299, 'awhil': 4300, 'tripe': 4301, 'yeti': 4302, 'lush': 4303, 'rampag': 4304, 'horn': 4305, 'rod': 4306, 'sharon': 4307, 'asylum': 4308, '1936': 4309, 'cap': 4310, 'behaviour': 4311, 'kolchak': 4312, 'bacon': 4313, 'stream': 4314, 'filler': 4315, 'financ': 4316, 'suffici': 4317, 'newcom': 4318, 'hungri': 4319, 'elit': 4320, '19th': 4321, '1988': 4322, 'shortcom': 4323, 'el': 4324, 'underneath': 4325, 'paramount': 4326, 'rumor': 4327, 'globe': 4328, 'amazon': 4329, 'sung': 4330, '1920': 4331, 'tasteless': 4332, 'aristocrat': 4333, '1978': 4334, 'thunderbird': 4335, 'wagner': 4336, 'hulk': 4337, 'rhythm': 4338, 'lurk': 4339, 'basing': 4340, 'suspicion': 4341, 'visitor': 4342, 'loneli': 4343, 'coaster': 4344, 'spice': 4345, 'hackney': 4346, 'tomorrow': 4347, 'fright': 4348, 'minu': 4349, 'wildli': 4350, 'conscienc': 4351, 'prank': 4352, 'paradis': 4353, 'weav': 4354, 'scoop': 4355, 'straightforward': 4356, '1989': 4357, 'immers': 4358, 'impos': 4359, 'dirt': 4360, 'teas': 4361, 'lectur': 4362, 'worship': 4363, 'heist': 4364, 'grudg': 4365, 'secondari': 4366, 'curli': 4367, 'en': 4368, 'counterpart': 4369, 'naughti': 4370, 'recogniz': 4371, 'ingeni': 4372, 'penn': 4373, '75': 4374, 'quietli': 4375, 'hopkin': 4376, 'abrupt': 4377, 'rub': 4378, 'smell': 4379, 'entranc': 4380, 'ram': 4381, 'paxton': 4382, 'beverli': 4383, 'bread': 4384, '1939': 4385, 'literari': 4386, 'cancer': 4387, 'minist': 4388, 'standout': 4389, 'brit': 4390, 'couch': 4391, 'inmat': 4392, 'atroc': 4393, 'iv': 4394, 'posey': 4395, 'chavez': 4396, 'chamberlain': 4397, 'leigh': 4398, 'wwe': 4399, 'springer': 4400, 'choppi': 4401, 'tierney': 4402, 'entitl': 4403, 'bernard': 4404, 'misguid': 4405, 'net': 4406, 'sublim': 4407, 'yearn': 4408, 'watcher': 4409, 'clan': 4410, 'laurenc': 4411, 'esther': 4412, 'nemesi': 4413, '1986': 4414, 'nolan': 4415, 'geni': 4416, 'sassi': 4417, 'injuri': 4418, 'skeptic': 4419, 'policeman': 4420, 'morbid': 4421, 'cattl': 4422, 'lindsay': 4423, 'variat': 4424, 'transcend': 4425, 'duel': 4426, 'moreov': 4427, 'ratso': 4428, 'enthral': 4429, 'missil': 4430, 'quaid': 4431, 'heartfelt': 4432, 'ace': 4433, 'attenborough': 4434, 'convert': 4435, 'brood': 4436, 'dont': 4437, 'moder': 4438, 'carlito': 4439, 'hopelessli': 4440, 'cruelti': 4441, 'enabl': 4442, 'egg': 4443, 'spiral': 4444, 'rosemari': 4445, 'steadi': 4446, 'out': 4447, 'mytholog': 4448, '1979': 4449, 'uncut': 4450, 'tyler': 4451, 'facil': 4452, 'graini': 4453, 'youngest': 4454, 'buzz': 4455, 'reliabl': 4456, 'bean': 4457, 'puppi': 4458, 'kitti': 4459, 'characteris': 4460, 'artsi': 4461, 'grin': 4462, 'setup': 4463, 'diari': 4464, 'poe': 4465, 'unexplain': 4466, 'obstacl': 4467, 'bye': 4468, 'kidman': 4469, 'hk': 4470, 'vader': 4471, 'christin': 4472, 'underworld': 4473, 'narrow': 4474, 'bounc': 4475, 'bronson': 4476, '1969': 4477, 'athlet': 4478, 'baffl': 4479, 'weather': 4480, 'patricia': 4481, 'effici': 4482, 'gina': 4483, 'gillian': 4484, 'decept': 4485, 'heap': 4486, 'spontan': 4487, 'sweat': 4488, 'hammi': 4489, 'clueless': 4490, 'disastr': 4491, 'acquaint': 4492, 'exterior': 4493, 'fuel': 4494, 'kline': 4495, 'oblig': 4496, 'brendan': 4497, 'martha': 4498, 'bewar': 4499, 'despic': 4500, 'niec': 4501, 'hain': 4502, 'preming': 4503, 'scar': 4504, 'sooner': 4505, 'dandi': 4506, 'loi': 4507, '73': 4508, 'outlaw': 4509, 'mermaid': 4510, 'uh': 4511, 'preachi': 4512, '19': 4513, 'astound': 4514, 'hepburn': 4515, 'loath': 4516, 'headach': 4517, 'analyz': 4518, 'enlist': 4519, 'sleepwalk': 4520, 'goof': 4521, 'biker': 4522, 'rome': 4523, 'trigger': 4524, 'fontain': 4525, 'housewif': 4526, 'angst': 4527, 'dilemma': 4528, 'tick': 4529, 'viewpoint': 4530, 'shatter': 4531, 'candl': 4532, 'suprem': 4533, 'mayhem': 4534, 'renaiss': 4535, 'circu': 4536, 'harmless': 4537, 'taboo': 4538, 'insipid': 4539, 'injur': 4540, 'virtu': 4541, 'lester': 4542, 'intric': 4543, 'guin': 4544, 'hooker': 4545, 'whore': 4546, 'claustrophob': 4547, 'foolish': 4548, 'zoom': 4549, 'stair': 4550, 'ariel': 4551, 'dish': 4552, 'corbett': 4553, 'filth': 4554, 'surgeri': 4555, 'overlong': 4556, 'macho': 4557, 'ebert': 4558, 'immatur': 4559, 'dismal': 4560, 'steer': 4561, 'camcord': 4562, 'gere': 4563, 'fluff': 4564, 'sox': 4565, 'boston': 4566, 'redund': 4567, 'contempt': 4568, 'spade': 4569, 'scorses': 4570, 'hokey': 4571, 'oldest': 4572, 'phenomenon': 4573, 'bent': 4574, 'idol': 4575, 'stimul': 4576, 'salt': 4577, 'cassavet': 4578, 'amor': 4579, 'hostag': 4580, 'glorifi': 4581, 'tripl': 4582, 'slimi': 4583, 'down': 4584, 'schlock': 4585, 'flashi': 4586, 'proport': 4587, 'dwarf': 4588, 'remad': 4589, 'alvin': 4590, 'mount': 4591, 'muscl': 4592, 'flag': 4593, 'harold': 4594, 'radiat': 4595, 'shield': 4596, 'astronaut': 4597, 'strongest': 4598, 'preced': 4599, 'transplant': 4600, 'assert': 4601, 'perman': 4602, '1976': 4603, 'conquer': 4604, '1981': 4605, 'antagonist': 4606, 'nolt': 4607, 'cow': 4608, 'trivia': 4609, 'faint': 4610, 'cohen': 4611, 'margin': 4612, 'spinal': 4613, 'rhyme': 4614, 'keen': 4615, 'joker': 4616, 'corman': 4617, 'messi': 4618, 'gasp': 4619, 'zane': 4620, 'spree': 4621, 'widescreen': 4622, 'beard': 4623, 'obligatori': 4624, 'cush': 4625, 'frantic': 4626, 'flirt': 4627, 'gabl': 4628, 'shred': 4629, 'fascist': 4630, 'mutual': 4631, 'naschi': 4632, 'interestingli': 4633, 'departur': 4634, 'archiv': 4635, 'instruct': 4636, 'carey': 4637, 'someday': 4638, 'barn': 4639, 'info': 4640, 'claud': 4641, 'mol': 4642, 'www': 4643, 'triangl': 4644, 'raj': 4645, 'repris': 4646, '1945': 4647, 'deer': 4648, 'inflict': 4649, 'strive': 4650, 'discern': 4651, 'flock': 4652, '28': 4653, 'wield': 4654, 'boob': 4655, 'neurot': 4656, 'bitten': 4657, '95': 4658, 'vaniti': 4659, 'ritchi': 4660, 'brush': 4661, 'scandal': 4662, 'mobil': 4663, 'off': 4664, 'bachelor': 4665, 'sensual': 4666, 'resum': 4667, 'persuad': 4668, 'fishburn': 4669, 'danish': 4670, 'aborigin': 4671, 'divin': 4672, 'hara': 4673, 'neill': 4674, 'melissa': 4675, 'rot': 4676, 'traffic': 4677, 'miracul': 4678, 'colin': 4679, 'frontier': 4680, 'ish': 4681, 'heartwarm': 4682, 'pixar': 4683, 'europa': 4684, 'dylan': 4685, 'hapless': 4686, 'cliffhang': 4687, 'carlo': 4688, 'anton': 4689, 'wendigo': 4690, 'casino': 4691, 'helm': 4692, 'submit': 4693, 'cycl': 4694, 'dim': 4695, 'undermin': 4696, 'hilar': 4697, 'axe': 4698, 'bate': 4699, 'prophet': 4700, 'jade': 4701, 'kathryn': 4702, 'mobster': 4703, 'proclaim': 4704, 'banter': 4705, 'cb': 4706, 'fragil': 4707, 'hug': 4708, 'timberlak': 4709, 'earnest': 4710, 'dame': 4711, 'luka': 4712, 'clad': 4713, 'vibrant': 4714, 'loretta': 4715, 'artwork': 4716, 'recit': 4717, 'pickford': 4718, 'biblic': 4719, 'harrison': 4720, 'parson': 4721, 'senior': 4722, 'pacif': 4723, 'cher': 4724, 'blatantli': 4725, 'vile': 4726, 'winchest': 4727, 'northern': 4728, 'shepherd': 4729, 'estrang': 4730, 'flavor': 4731, 'orphan': 4732, 'trier': 4733, 'http': 4734, 'uma': 4735, 'akin': 4736, 'pc': 4737, 'token': 4738, 'aris': 4739, 'breakfast': 4740, 'electron': 4741, 'misfortun': 4742, 'mathieu': 4743, 'jo': 4744, 'mason': 4745, 'razor': 4746, 'toronto': 4747, 'static': 4748, 'eli': 4749, 'sicken': 4750, 'venom': 4751, 'lui': 4752, 'legitim': 4753, 'antholog': 4754, 'jordan': 4755, 'cerebr': 4756, 'articl': 4757, 'bondag': 4758, 'marlon': 4759, 'seedi': 4760, 'redneck': 4761, 'holocaust': 4762, 'isra': 4763, 'alexandr': 4764, 'wardrob': 4765, 'choke': 4766, 'lucil': 4767, 'nope': 4768, 'bikini': 4769, 'feast': 4770, 'vanessa': 4771, 'rooki': 4772, 'milo': 4773, 'illus': 4774, 'foil': 4775, 'ideolog': 4776, 'fifth': 4777, 'peer': 4778, 'oppon': 4779, 'highway': 4780, 'gunga': 4781, 'deem': 4782, 'frog': 4783, 'audrey': 4784, 'comprehend': 4785, 'disregard': 4786, 'nightclub': 4787, 'dudley': 4788, 'leather': 4789, 'magician': 4790, 'styliz': 4791, 'abund': 4792, 'knightley': 4793, 'huston': 4794, 'psych': 4795, 'tack': 4796, 'ceremoni': 4797, 'glare': 4798, 'gilbert': 4799, 'retriev': 4800, 'smack': 4801, 'cartoonish': 4802, 'feminin': 4803, 'boyer': 4804, 'outdat': 4805, 'charlton': 4806, 'swept': 4807, 'affleck': 4808, 'howl': 4809, 'linear': 4810, 'turd': 4811, 'shorter': 4812, 'clinic': 4813, 'wrestler': 4814, 'cemeteri': 4815, '4th': 4816, 'newer': 4817, '1991': 4818, '1994': 4819, 'snatch': 4820, 'moe': 4821, 'bogu': 4822, 'client': 4823, 'einstein': 4824, 'energet': 4825, 'braveheart': 4826, 'boo': 4827, 'lighter': 4828, 'lavish': 4829, 'greet': 4830, 'btw': 4831, 'compris': 4832, 'chip': 4833, 'sleaz': 4834, 'uniformli': 4835, 'spine': 4836, 'salman': 4837, 'spawn': 4838, 'summar': 4839, 'cuban': 4840, 'potter': 4841, 'tara': 4842, 'breakdown': 4843, 'bastard': 4844, 'monument': 4845, 'lifeless': 4846, 'whack': 4847, 'conrad': 4848, 'evolut': 4849, 'plate': 4850, 'senat': 4851, 'corn': 4852, 'collector': 4853, 'toe': 4854, 'deliver': 4855, 'durat': 4856, 'phenomen': 4857, 'mitch': 4858, 'goldsworthi': 4859, 'signal': 4860, 'trauma': 4861, 'eleven': 4862, 'kent': 4863, '1974': 4864, 'randolph': 4865, 'cecil': 4866, 'creek': 4867, 'undertak': 4868, 'constitut': 4869, 'historian': 4870, 'pronounc': 4871, 'jule': 4872, 'occup': 4873, 'undead': 4874, 'nina': 4875, 'appl': 4876, '1977': 4877, 'luxuri': 4878, 'bori': 4879, 'embark': 4880, 'sorrow': 4881, 'spectacl': 4882, 'jare': 4883, 'jam': 4884, 'wtf': 4885, 'gilliam': 4886, 'kazan': 4887, 'capot': 4888, 'neatli': 4889, 'inaccuraci': 4890, 'armstrong': 4891, 'healthi': 4892, 'liu': 4893, 'bulk': 4894, 'firmli': 4895, 'lex': 4896, 'ol': 4897, 'replay': 4898, 'outright': 4899, 'belli': 4900, 'fluid': 4901, 'mcqueen': 4902, 'clara': 4903, 'judd': 4904, 'ie': 4905, 'alleg': 4906, 'jedi': 4907, 'evelyn': 4908, 'vain': 4909, 'sidewalk': 4910, 'bait': 4911, 'congratul': 4912, 'spray': 4913, 'miniseri': 4914, 'walt': 4915, 'basket': 4916, 'groan': 4917, 'forgiven': 4918, 'vignett': 4919, 'rosario': 4920, 'decapit': 4921, 'paula': 4922, 'tokyo': 4923, '1985': 4924, 'propheci': 4925, 'pioneer': 4926, 'subtli': 4927, 'comb': 4928, 'id': 4929, 'pepper': 4930, 'porter': 4931, 'ash': 4932, 'inaccur': 4933, 'inclus': 4934, 'lanc': 4935, 'unattract': 4936, 'miami': 4937, 'blur': 4938, 'genet': 4939, 'aussi': 4940, 'comprehens': 4941, 'sacrif': 4942, 'mum': 4943, 'truman': 4944, 'cape': 4945, 'palm': 4946, 'carmen': 4947, 'roar': 4948, 'meal': 4949, 'conan': 4950, 'goldblum': 4951, 'poker': 4952, 'antonio': 4953, 'kiddi': 4954, 'relentless': 4955, 'curtain': 4956, 'galaxi': 4957, 'bsg': 4958, 'abound': 4959, 'knee': 4960, 'unsuspect': 4961, 'fruit': 4962, 'lauren': 4963, 'hostil': 4964, 'masterson': 4965, '21st': 4966, 'bravo': 4967, 'reincarn': 4968, 'optimist': 4969, 'evan': 4970, 'profil': 4971, 'incorrect': 4972, 'asset': 4973, 'bach': 4974, 'hackman': 4975, 'weaker': 4976, 'motorcycl': 4977, 'detach': 4978, 'jill': 4979, 'modest': 4980, 'scariest': 4981, 'mice': 4982, 'sophi': 4983, 'drone': 4984, 'orchestr': 4985, 'monti': 4986, 'epitom': 4987, 'substanti': 4988, 'growth': 4989, 'scarfac': 4990, 'sparkl': 4991, 'dubiou': 4992, 'rapidli': 4993, 'ingrid': 4994, 'frontal': 4995, 'ghetto': 4996, 'handicap': 4997, 'playboy': 4998, 'verg': 4999}\n"
     ]
    }
   ],
   "source": [
    "print(word_dict)"
   ]
  },
  {
   "cell_type": "markdown",
   "metadata": {},
   "source": [
    "**Question 2:** What are the five most frequently appearing (tokenized) words in the training set? Does it makes sense that these words appear frequently in the training set?"
   ]
  },
  {
   "cell_type": "markdown",
   "metadata": {},
   "source": [
    "**Answer:** The dataset is about movie reviews, In this case, is made a sense the words talk about movies. "
   ]
  },
  {
   "cell_type": "code",
   "execution_count": 15,
   "metadata": {},
   "outputs": [
    {
     "data": {
      "text/plain": [
       "['movi', 'film', 'one', 'like', 'time']"
      ]
     },
     "execution_count": 15,
     "metadata": {},
     "output_type": "execute_result"
    }
   ],
   "source": [
    "#list the 5 most words\n",
    "##### Answer ####\n",
    "list(word_dict.keys())[:5]\n"
   ]
  },
  {
   "cell_type": "markdown",
   "metadata": {},
   "source": [
    "### Save `word_dict`\n",
    "\n",
    "Later on when we construct an endpoint which processes a submitted review we will need to make use of the `word_dict` which we have created. As such, we will save it to a file now for future use."
   ]
  },
  {
   "cell_type": "code",
   "execution_count": 16,
   "metadata": {},
   "outputs": [],
   "source": [
    "data_dir = '../data/pytorch' # The folder we will use for storing data\n",
    "if not os.path.exists(data_dir): # Make sure that the folder exists\n",
    "    os.makedirs(data_dir)"
   ]
  },
  {
   "cell_type": "code",
   "execution_count": 17,
   "metadata": {},
   "outputs": [],
   "source": [
    "with open(os.path.join(data_dir, 'word_dict.pkl'), \"wb\") as f:\n",
    "    pickle.dump(word_dict, f)"
   ]
  },
  {
   "cell_type": "markdown",
   "metadata": {},
   "source": [
    "### Transform the reviews\n",
    "\n",
    "Now that we have our word dictionary which allows us to transform the words appearing in the reviews into integers, it is time to make use of it and convert our reviews to their integer sequence representation, making sure to pad or truncate to a fixed length, which in our case is `500`."
   ]
  },
  {
   "cell_type": "code",
   "execution_count": 18,
   "metadata": {},
   "outputs": [],
   "source": [
    "def convert_and_pad(word_dict, sentence, pad=500):\n",
    "    NOWORD = 0 # We will use 0 to represent the 'no word' category\n",
    "    INFREQ = 1 # and we use 1 to represent the infrequent words, i.e., words not appearing in word_dict\n",
    "    \n",
    "    working_sentence = [NOWORD] * pad\n",
    "    \n",
    "    for word_index, word in enumerate(sentence[:pad]):\n",
    "        if word in word_dict:\n",
    "            working_sentence[word_index] = word_dict[word]\n",
    "        else:\n",
    "            working_sentence[word_index] = INFREQ\n",
    "            \n",
    "    return working_sentence, min(len(sentence), pad)\n",
    "\n",
    "def convert_and_pad_data(word_dict, data, pad=500):\n",
    "    result = []\n",
    "    lengths = []\n",
    "    \n",
    "    for sentence in data:\n",
    "        converted, leng = convert_and_pad(word_dict, sentence, pad)\n",
    "        result.append(converted)\n",
    "        lengths.append(leng)\n",
    "        \n",
    "    return np.array(result), np.array(lengths)"
   ]
  },
  {
   "cell_type": "code",
   "execution_count": 19,
   "metadata": {},
   "outputs": [],
   "source": [
    "train_X, train_X_len = convert_and_pad_data(word_dict, train_X)\n",
    "test_X, test_X_len = convert_and_pad_data(word_dict, test_X)"
   ]
  },
  {
   "cell_type": "markdown",
   "metadata": {},
   "source": [
    "As a quick check to make sure that things are working as intended, check to see what one of the reviews in the training set looks like after having been processeed. Does this look reasonable? What is the length of a review in the training set?"
   ]
  },
  {
   "cell_type": "code",
   "execution_count": 27,
   "metadata": {},
   "outputs": [
    {
     "name": "stdout",
     "output_type": "stream",
     "text": [
      "500\n",
      "59\n"
     ]
    }
   ],
   "source": [
    "# Use this cell to examine one of the processed reviews to make sure everything is working as intended.\n",
    "##### TODO 4 EXPLAIN HERE ####\n",
    "print(len(train_X[0]))\n",
    "print(train_X_len[0]) # train_X[0] len is 500, with 75 words, padded with 500-75 zeros"
   ]
  },
  {
   "cell_type": "code",
   "execution_count": 30,
   "metadata": {},
   "outputs": [
    {
     "data": {
      "text/plain": [
       "array([[ 189,    2,   25, ...,    0,    0,    0],\n",
       "       [   2,  106,   84, ...,    0,    0,    0],\n",
       "       [  96,    7,    3, ...,    0,    0,    0],\n",
       "       ...,\n",
       "       [   1, 3012, 1873, ...,    0,    0,    0],\n",
       "       [1507,  680,   30, ...,    0,    0,    0],\n",
       "       [   1,  224,    6, ...,    0,    0,    0]])"
      ]
     },
     "execution_count": 30,
     "metadata": {},
     "output_type": "execute_result"
    }
   ],
   "source": [
    "train_X"
   ]
  },
  {
   "cell_type": "code",
   "execution_count": 29,
   "metadata": {},
   "outputs": [
    {
     "data": {
      "text/plain": [
       "array([ 59,  49,  29, ...,  72, 171,  61])"
      ]
     },
     "execution_count": 29,
     "metadata": {},
     "output_type": "execute_result"
    }
   ],
   "source": [
    "train_X_len"
   ]
  },
  {
   "cell_type": "markdown",
   "metadata": {},
   "source": [
    "**Question 3:** In the cells above we use the `preprocess_data` and `convert_and_pad_data` methods to process both the training and testing set. Why or why not might this be a problem?"
   ]
  },
  {
   "cell_type": "markdown",
   "metadata": {},
   "source": [
    "**Answer:**"
   ]
  },
  {
   "cell_type": "markdown",
   "metadata": {},
   "source": [
    "## Step 3: Upload the data to S3\n",
    "\n",
    "As in the XGBoost notebook, we will need to upload the training dataset to S3 in order for our training code to access it. For now we will save it locally and we will upload to S3 later on.\n",
    "\n",
    "### Save the processed training dataset locally\n",
    "\n",
    "It is important to note the format of the data that we are saving as we will need to know it when we write the training code. In our case, each row of the dataset has the form `label`, `length`, `review[500]` where `review[500]` is a sequence of `500` integers representing the words in the review."
   ]
  },
  {
   "cell_type": "code",
   "execution_count": 31,
   "metadata": {},
   "outputs": [],
   "source": [
    "import pandas as pd\n",
    "    \n",
    "pd.concat([pd.DataFrame(train_y), pd.DataFrame(train_X_len), pd.DataFrame(train_X)], axis=1) \\\n",
    "        .to_csv(os.path.join(data_dir, 'train.csv'), header=False, index=False)"
   ]
  },
  {
   "cell_type": "markdown",
   "metadata": {},
   "source": [
    "### Uploading the training data\n",
    "\n",
    "\n",
    "Next, we need to upload the training data to the SageMaker default S3 bucket so that we can provide access to it while training our model."
   ]
  },
  {
   "cell_type": "code",
   "execution_count": 32,
   "metadata": {},
   "outputs": [],
   "source": [
    "import sagemaker\n",
    "\n",
    "sagemaker_session = sagemaker.Session()\n",
    "\n",
    "bucket = sagemaker_session.default_bucket()\n",
    "prefix = 'sagemaker/sentiment_rnn'\n",
    "\n",
    "role = sagemaker.get_execution_role()"
   ]
  },
  {
   "cell_type": "code",
   "execution_count": 33,
   "metadata": {},
   "outputs": [],
   "source": [
    "input_data = sagemaker_session.upload_data(path=data_dir, bucket=bucket, key_prefix=prefix)"
   ]
  },
  {
   "cell_type": "markdown",
   "metadata": {},
   "source": [
    "**NOTE:** The cell above uploads the entire contents of our data directory. This includes the `word_dict.pkl` file. This is fortunate as we will need this later on when we create an endpoint that accepts an arbitrary review. For now, we will just take note of the fact that it resides in the data directory (and so also in the S3 training bucket) and that we will need to make sure it gets saved in the model directory."
   ]
  },
  {
   "cell_type": "markdown",
   "metadata": {},
   "source": [
    "## Step 4: Build and Train the PyTorch Model\n",
    "\n",
    "In the XGBoost notebook we discussed what a model is in the SageMaker framework. In particular, a model comprises three objects\n",
    "\n",
    " - Model Artifacts,\n",
    " - Training Code, and\n",
    " - Inference Code,\n",
    " \n",
    "each of which interact with one another. In the XGBoost example we used training and inference code that was provided by Amazon. Here we will still be using containers provided by Amazon with the added benefit of being able to include our own custom code.\n",
    "\n",
    "We will start by implementing our own neural network in PyTorch along with a training script. For the purposes of this project we have provided the necessary model object in the `model.py` file, inside of the `train` folder. You can see the provided implementation by running the cell below."
   ]
  },
  {
   "cell_type": "code",
   "execution_count": 34,
   "metadata": {},
   "outputs": [
    {
     "name": "stdout",
     "output_type": "stream",
     "text": [
      "\u001b[34mimport\u001b[39;49;00m \u001b[04m\u001b[36mtorch\u001b[39;49;00m\u001b[04m\u001b[36m.\u001b[39;49;00m\u001b[04m\u001b[36mnn\u001b[39;49;00m \u001b[34mas\u001b[39;49;00m \u001b[04m\u001b[36mnn\u001b[39;49;00m\r\n",
      "\r\n",
      "\u001b[34mclass\u001b[39;49;00m \u001b[04m\u001b[32mLSTMClassifier\u001b[39;49;00m(nn.Module):\r\n",
      "    \u001b[33m\"\"\"\u001b[39;49;00m\r\n",
      "\u001b[33m    This is the simple RNN model we will be using to perform Sentiment Analysis.\u001b[39;49;00m\r\n",
      "\u001b[33m    \"\"\"\u001b[39;49;00m\r\n",
      "\r\n",
      "    \u001b[34mdef\u001b[39;49;00m \u001b[32m__init__\u001b[39;49;00m(\u001b[36mself\u001b[39;49;00m, embedding_dim, hidden_dim, vocab_size):\r\n",
      "        \u001b[33m\"\"\"\u001b[39;49;00m\r\n",
      "\u001b[33m        Initialize the model by settingg up the various layers.\u001b[39;49;00m\r\n",
      "\u001b[33m        \"\"\"\u001b[39;49;00m\r\n",
      "        \u001b[36msuper\u001b[39;49;00m(LSTMClassifier, \u001b[36mself\u001b[39;49;00m).\u001b[32m__init__\u001b[39;49;00m()\r\n",
      "\r\n",
      "        \u001b[36mself\u001b[39;49;00m.embedding = nn.Embedding(vocab_size, embedding_dim, padding_idx=\u001b[34m0\u001b[39;49;00m)\r\n",
      "        \u001b[36mself\u001b[39;49;00m.lstm = nn.LSTM(embedding_dim, hidden_dim)\r\n",
      "        \u001b[36mself\u001b[39;49;00m.dense = nn.Linear(in_features=hidden_dim, out_features=\u001b[34m1\u001b[39;49;00m)\r\n",
      "        \u001b[36mself\u001b[39;49;00m.sig = nn.Sigmoid()\r\n",
      "        \r\n",
      "        \u001b[36mself\u001b[39;49;00m.word_dict = \u001b[34mNone\u001b[39;49;00m\r\n",
      "\r\n",
      "    \u001b[34mdef\u001b[39;49;00m \u001b[32mforward\u001b[39;49;00m(\u001b[36mself\u001b[39;49;00m, x):\r\n",
      "        \u001b[33m\"\"\"\u001b[39;49;00m\r\n",
      "\u001b[33m        Perform a forward pass of our model on some input.\u001b[39;49;00m\r\n",
      "\u001b[33m        \"\"\"\u001b[39;49;00m\r\n",
      "        x = x.t()\r\n",
      "        lengths = x[\u001b[34m0\u001b[39;49;00m,:]\r\n",
      "        reviews = x[\u001b[34m1\u001b[39;49;00m:,:]\r\n",
      "        embeds = \u001b[36mself\u001b[39;49;00m.embedding(reviews)\r\n",
      "        lstm_out, _ = \u001b[36mself\u001b[39;49;00m.lstm(embeds)\r\n",
      "        out = \u001b[36mself\u001b[39;49;00m.dense(lstm_out)\r\n",
      "        out = out[lengths - \u001b[34m1\u001b[39;49;00m, \u001b[36mrange\u001b[39;49;00m(\u001b[36mlen\u001b[39;49;00m(lengths))]\r\n",
      "        \u001b[34mreturn\u001b[39;49;00m \u001b[36mself\u001b[39;49;00m.sig(out.squeeze())\r\n"
     ]
    }
   ],
   "source": [
    "!pygmentize train/model.py"
   ]
  },
  {
   "cell_type": "markdown",
   "metadata": {},
   "source": [
    "The important takeaway from the implementation provided is that there are three parameters that we may wish to tweak to improve the performance of our model. These are the embedding dimension, the hidden dimension and the size of the vocabulary. We will likely want to make these parameters configurable in the training script so that if we wish to modify them we do not need to modify the script itself. We will see how to do this later on. To start we will write some of the training code in the notebook so that we can more easily diagnose any issues that arise.\n",
    "\n",
    "First we will load a small portion of the training data set to use as a sample. It would be very time consuming to try and train the model completely in the notebook as we do not have access to a gpu and the compute instance that we are using is not particularly powerful. However, we can work on a small bit of the data to get a feel for how our training script is behaving."
   ]
  },
  {
   "cell_type": "code",
   "execution_count": 35,
   "metadata": {},
   "outputs": [],
   "source": [
    "import torch\n",
    "import torch.utils.data\n",
    "\n",
    "# Read in only the first 250 rows\n",
    "train_sample = pd.read_csv(os.path.join(data_dir, 'train.csv'), header=None, names=None, nrows=250)\n",
    "\n",
    "# Turn the input pandas dataframe into tensors\n",
    "train_sample_y = torch.from_numpy(train_sample[[0]].values).float().squeeze()\n",
    "train_sample_X = torch.from_numpy(train_sample.drop([0], axis=1).values).long()\n",
    "\n",
    "# Build the dataset\n",
    "train_sample_ds = torch.utils.data.TensorDataset(train_sample_X, train_sample_y)\n",
    "# Build the dataloader\n",
    "train_sample_dl = torch.utils.data.DataLoader(train_sample_ds, batch_size=50)"
   ]
  },
  {
   "cell_type": "markdown",
   "metadata": {},
   "source": [
    "### (TODO) Writing the training method\n",
    "\n",
    "Next we need to write the training code itself. This should be very similar to training methods that you have written before to train PyTorch models. We will leave any difficult aspects such as model saving / loading and parameter loading until a little later."
   ]
  },
  {
   "cell_type": "code",
   "execution_count": 36,
   "metadata": {},
   "outputs": [],
   "source": [
    "def train(model, train_loader, epochs, optimizer, loss_fn, device):\n",
    "    for epoch in range(1, epochs + 1):\n",
    "        model.train()\n",
    "        total_loss = 0\n",
    "        for batch in train_loader:         \n",
    "            batch_X, batch_y = batch\n",
    "            \n",
    "            batch_X = batch_X.to(device)\n",
    "            batch_y = batch_y.to(device)\n",
    "            \n",
    "            ##### Answer ####\n",
    "            \n",
    "            optimizer.zero_grad()\n",
    "            output = model(batch_X)\n",
    "            loss = loss_fn(output, batch_y)\n",
    "            loss.backward()\n",
    "            optimizer.step()\n",
    "            ##### Answer ####\n",
    "            \n",
    "            total_loss += loss.data.item()\n",
    "        print(\"Epoch: {}, BCELoss: {}\".format(epoch, total_loss / len(train_loader)))"
   ]
  },
  {
   "cell_type": "markdown",
   "metadata": {},
   "source": [
    "Supposing we have the training method above, we will test that it is working by writing a bit of code in the notebook that executes our training method on the small sample training set that we loaded earlier. The reason for doing this in the notebook is so that we have an opportunity to fix any errors that arise early when they are easier to diagnose."
   ]
  },
  {
   "cell_type": "code",
   "execution_count": 37,
   "metadata": {},
   "outputs": [
    {
     "name": "stdout",
     "output_type": "stream",
     "text": [
      "Epoch: 1, BCELoss: 0.6933626532554626\n",
      "Epoch: 2, BCELoss: 0.6841930627822876\n",
      "Epoch: 3, BCELoss: 0.6760252356529236\n",
      "Epoch: 4, BCELoss: 0.6667809367179871\n",
      "Epoch: 5, BCELoss: 0.6553470015525817\n"
     ]
    }
   ],
   "source": [
    "import torch.optim as optim\n",
    "from train.model import LSTMClassifier\n",
    "\n",
    "device = torch.device(\"cuda\" if torch.cuda.is_available() else \"cpu\")\n",
    "model = LSTMClassifier(32, 100, 5000).to(device)\n",
    "optimizer = optim.Adam(model.parameters())\n",
    "loss_fn = torch.nn.BCELoss()\n",
    "\n",
    "train(model, train_sample_dl, 5, optimizer, loss_fn, device)"
   ]
  },
  {
   "cell_type": "markdown",
   "metadata": {},
   "source": [
    "In order to construct a PyTorch model using SageMaker we must provide SageMaker with a training script. We may optionally include a directory which will be copied to the container and from which our training code will be run. When the training container is executed it will check the uploaded directory (if there is one) for a `requirements.txt` file and install any required Python libraries, after which the training script will be run."
   ]
  },
  {
   "cell_type": "markdown",
   "metadata": {},
   "source": [
    "### (TODO) Training the model\n",
    "\n",
    "When a PyTorch model is constructed in SageMaker, an entry point must be specified. This is the Python file which will be executed when the model is trained. Inside of the `train` directory is a file called `train.py` which has been provided and which contains most of the necessary code to train our model. The only thing that is missing is the implementation of the `train()` method which you wrote earlier in this notebook.\n",
    "\n",
    "**TODO**: Copy the `train()` method written above and paste it into the `train/train.py` file where required.\n",
    "\n",
    "The way that SageMaker passes hyperparameters to the training script is by way of arguments. These arguments can then be parsed and used in the training script. To see how this is done take a look at the provided `train/train.py` file."
   ]
  },
  {
   "cell_type": "code",
   "execution_count": 38,
   "metadata": {},
   "outputs": [],
   "source": [
    "from sagemaker.pytorch import PyTorch\n",
    "\n",
    "estimator = PyTorch(entry_point=\"train.py\",\n",
    "                    source_dir=\"train\",\n",
    "                    role=role,\n",
    "                    framework_version='0.4.0',\n",
    "                    train_instance_count=1,\n",
    "                    train_instance_type='ml.p2.xlarge',\n",
    "                    hyperparameters={\n",
    "                        'epochs': 10,\n",
    "                        'hidden_dim': 200,\n",
    "                    })"
   ]
  },
  {
   "cell_type": "code",
   "execution_count": 39,
   "metadata": {},
   "outputs": [
    {
     "name": "stderr",
     "output_type": "stream",
     "text": [
      "'create_image_uri' will be deprecated in favor of 'ImageURIProvider' class in SageMaker Python SDK v2.\n",
      "'s3_input' class will be renamed to 'TrainingInput' in SageMaker Python SDK v2.\n",
      "'create_image_uri' will be deprecated in favor of 'ImageURIProvider' class in SageMaker Python SDK v2.\n"
     ]
    },
    {
     "name": "stdout",
     "output_type": "stream",
     "text": [
      "2020-07-28 23:54:53 Starting - Starting the training job...\n",
      "2020-07-28 23:54:55 Starting - Launching requested ML instances......\n",
      "2020-07-28 23:56:00 Starting - Preparing the instances for training......\n",
      "2020-07-28 23:57:06 Downloading - Downloading input data...\n",
      "2020-07-28 23:57:41 Training - Downloading the training image...\n",
      "2020-07-28 23:58:11 Training - Training image download completed. Training in progress.\u001b[34mbash: cannot set terminal process group (-1): Inappropriate ioctl for device\u001b[0m\n",
      "\u001b[34mbash: no job control in this shell\u001b[0m\n",
      "\u001b[34m2020-07-28 23:58:12,495 sagemaker-containers INFO     Imported framework sagemaker_pytorch_container.training\u001b[0m\n",
      "\u001b[34m2020-07-28 23:58:12,521 sagemaker_pytorch_container.training INFO     Block until all host DNS lookups succeed.\u001b[0m\n",
      "\u001b[34m2020-07-28 23:58:12,524 sagemaker_pytorch_container.training INFO     Invoking user training script.\u001b[0m\n",
      "\u001b[34m2020-07-28 23:58:12,744 sagemaker-containers INFO     Module train does not provide a setup.py. \u001b[0m\n",
      "\u001b[34mGenerating setup.py\u001b[0m\n",
      "\u001b[34m2020-07-28 23:58:12,744 sagemaker-containers INFO     Generating setup.cfg\u001b[0m\n",
      "\u001b[34m2020-07-28 23:58:12,744 sagemaker-containers INFO     Generating MANIFEST.in\u001b[0m\n",
      "\u001b[34m2020-07-28 23:58:12,744 sagemaker-containers INFO     Installing module with the following command:\u001b[0m\n",
      "\u001b[34m/usr/bin/python -m pip install -U . -r requirements.txt\u001b[0m\n",
      "\u001b[34mProcessing /opt/ml/code\u001b[0m\n",
      "\u001b[34mCollecting pandas (from -r requirements.txt (line 1))\n",
      "  Downloading https://files.pythonhosted.org/packages/74/24/0cdbf8907e1e3bc5a8da03345c23cbed7044330bb8f73bb12e711a640a00/pandas-0.24.2-cp35-cp35m-manylinux1_x86_64.whl (10.0MB)\u001b[0m\n",
      "\u001b[34mCollecting numpy (from -r requirements.txt (line 2))\u001b[0m\n",
      "\u001b[34m  Downloading https://files.pythonhosted.org/packages/b5/36/88723426b4ff576809fec7d73594fe17a35c27f8d01f93637637a29ae25b/numpy-1.18.5-cp35-cp35m-manylinux1_x86_64.whl (19.9MB)\u001b[0m\n",
      "\u001b[34mCollecting nltk (from -r requirements.txt (line 3))\n",
      "  Downloading https://files.pythonhosted.org/packages/92/75/ce35194d8e3022203cca0d2f896dbb88689f9b3fce8e9f9cff942913519d/nltk-3.5.zip (1.4MB)\u001b[0m\n",
      "\u001b[34mCollecting beautifulsoup4 (from -r requirements.txt (line 4))\n",
      "  Downloading https://files.pythonhosted.org/packages/66/25/ff030e2437265616a1e9b25ccc864e0371a0bc3adb7c5a404fd661c6f4f6/beautifulsoup4-4.9.1-py3-none-any.whl (115kB)\u001b[0m\n",
      "\u001b[34mCollecting html5lib (from -r requirements.txt (line 5))\n",
      "  Downloading https://files.pythonhosted.org/packages/6c/dd/a834df6482147d48e225a49515aabc28974ad5a4ca3215c18a882565b028/html5lib-1.1-py2.py3-none-any.whl (112kB)\u001b[0m\n",
      "\u001b[34mCollecting pytz>=2011k (from pandas->-r requirements.txt (line 1))\n",
      "  Downloading https://files.pythonhosted.org/packages/4f/a4/879454d49688e2fad93e59d7d4efda580b783c745fd2ec2a3adf87b0808d/pytz-2020.1-py2.py3-none-any.whl (510kB)\u001b[0m\n",
      "\u001b[34mRequirement already satisfied, skipping upgrade: python-dateutil>=2.5.0 in /usr/local/lib/python3.5/dist-packages (from pandas->-r requirements.txt (line 1)) (2.7.5)\u001b[0m\n",
      "\u001b[34mRequirement already satisfied, skipping upgrade: click in /usr/local/lib/python3.5/dist-packages (from nltk->-r requirements.txt (line 3)) (7.0)\u001b[0m\n",
      "\u001b[34mCollecting joblib (from nltk->-r requirements.txt (line 3))\n",
      "  Downloading https://files.pythonhosted.org/packages/28/5c/cf6a2b65a321c4a209efcdf64c2689efae2cb62661f8f6f4bb28547cf1bf/joblib-0.14.1-py2.py3-none-any.whl (294kB)\u001b[0m\n",
      "\u001b[34mCollecting regex (from nltk->-r requirements.txt (line 3))\n",
      "  Downloading https://files.pythonhosted.org/packages/09/c3/ddaa87500f31ed86290e3d014c0302a51fde28d7139eda0b5f33733726db/regex-2020.7.14.tar.gz (690kB)\u001b[0m\n",
      "\u001b[34mCollecting tqdm (from nltk->-r requirements.txt (line 3))\n",
      "  Downloading https://files.pythonhosted.org/packages/af/88/7b0ea5fa8192d1733dea459a9e3059afc87819cb4072c43263f2ec7ab768/tqdm-4.48.0-py2.py3-none-any.whl (67kB)\u001b[0m\n",
      "\u001b[34mCollecting soupsieve>1.2 (from beautifulsoup4->-r requirements.txt (line 4))\n",
      "  Downloading https://files.pythonhosted.org/packages/6f/8f/457f4a5390eeae1cc3aeab89deb7724c965be841ffca6cfca9197482e470/soupsieve-2.0.1-py3-none-any.whl\u001b[0m\n",
      "\u001b[34mCollecting webencodings (from html5lib->-r requirements.txt (line 5))\n",
      "  Downloading https://files.pythonhosted.org/packages/f4/24/2a3e3df732393fed8b3ebf2ec078f05546de641fe1b667ee316ec1dcf3b7/webencodings-0.5.1-py2.py3-none-any.whl\u001b[0m\n",
      "\u001b[34mRequirement already satisfied, skipping upgrade: six>=1.9 in /usr/local/lib/python3.5/dist-packages (from html5lib->-r requirements.txt (line 5)) (1.11.0)\u001b[0m\n",
      "\u001b[34mBuilding wheels for collected packages: nltk, train, regex\n",
      "  Running setup.py bdist_wheel for nltk: started\u001b[0m\n",
      "\u001b[34m  Running setup.py bdist_wheel for nltk: finished with status 'done'\n",
      "  Stored in directory: /root/.cache/pip/wheels/ae/8c/3f/b1fe0ba04555b08b57ab52ab7f86023639a526d8bc8d384306\n",
      "  Running setup.py bdist_wheel for train: started\n",
      "  Running setup.py bdist_wheel for train: finished with status 'done'\n",
      "  Stored in directory: /tmp/pip-ephem-wheel-cache-sctk0pzc/wheels/35/24/16/37574d11bf9bde50616c67372a334f94fa8356bc7164af8ca3\n",
      "  Running setup.py bdist_wheel for regex: started\u001b[0m\n",
      "\u001b[34m  Running setup.py bdist_wheel for regex: finished with status 'done'\n",
      "  Stored in directory: /root/.cache/pip/wheels/53/55/dc/e17fa4568958f4c53be34b65e474a1327b64641f65df379ec3\u001b[0m\n",
      "\u001b[34mSuccessfully built nltk train regex\u001b[0m\n",
      "\u001b[34mInstalling collected packages: pytz, numpy, pandas, joblib, regex, tqdm, nltk, soupsieve, beautifulsoup4, webencodings, html5lib, train\n",
      "  Found existing installation: numpy 1.15.4\n",
      "    Uninstalling numpy-1.15.4:\n",
      "      Successfully uninstalled numpy-1.15.4\u001b[0m\n",
      "\u001b[34mSuccessfully installed beautifulsoup4-4.9.1 html5lib-1.1 joblib-0.14.1 nltk-3.5 numpy-1.18.5 pandas-0.24.2 pytz-2020.1 regex-2020.7.14 soupsieve-2.0.1 tqdm-4.48.0 train-1.0.0 webencodings-0.5.1\u001b[0m\n",
      "\u001b[34mYou are using pip version 18.1, however version 20.2b1 is available.\u001b[0m\n",
      "\u001b[34mYou should consider upgrading via the 'pip install --upgrade pip' command.\u001b[0m\n",
      "\u001b[34m2020-07-28 23:58:35,015 sagemaker-containers INFO     Invoking user script\n",
      "\u001b[0m\n",
      "\u001b[34mTraining Env:\n",
      "\u001b[0m\n",
      "\u001b[34m{\n",
      "    \"num_gpus\": 1,\n",
      "    \"network_interface_name\": \"eth0\",\n",
      "    \"output_dir\": \"/opt/ml/output\",\n",
      "    \"module_name\": \"train\",\n",
      "    \"current_host\": \"algo-1\",\n",
      "    \"input_config_dir\": \"/opt/ml/input/config\",\n",
      "    \"channel_input_dirs\": {\n",
      "        \"training\": \"/opt/ml/input/data/training\"\n",
      "    },\n",
      "    \"framework_module\": \"sagemaker_pytorch_container.training:main\",\n",
      "    \"input_data_config\": {\n",
      "        \"training\": {\n",
      "            \"RecordWrapperType\": \"None\",\n",
      "            \"S3DistributionType\": \"FullyReplicated\",\n",
      "            \"TrainingInputMode\": \"File\"\n",
      "        }\n",
      "    },\n",
      "    \"output_data_dir\": \"/opt/ml/output/data\",\n",
      "    \"hosts\": [\n",
      "        \"algo-1\"\n",
      "    ],\n",
      "    \"input_dir\": \"/opt/ml/input\",\n",
      "    \"job_name\": \"sagemaker-pytorch-2020-07-28-23-54-52-615\",\n",
      "    \"model_dir\": \"/opt/ml/model\",\n",
      "    \"output_intermediate_dir\": \"/opt/ml/output/intermediate\",\n",
      "    \"additional_framework_parameters\": {},\n",
      "    \"user_entry_point\": \"train.py\",\n",
      "    \"log_level\": 20,\n",
      "    \"module_dir\": \"s3://sagemaker-us-east-2-080835854471/sagemaker-pytorch-2020-07-28-23-54-52-615/source/sourcedir.tar.gz\",\n",
      "    \"num_cpus\": 4,\n",
      "    \"resource_config\": {\n",
      "        \"network_interface_name\": \"eth0\",\n",
      "        \"hosts\": [\n",
      "            \"algo-1\"\n",
      "        ],\n",
      "        \"current_host\": \"algo-1\"\n",
      "    },\n",
      "    \"hyperparameters\": {\n",
      "        \"epochs\": 10,\n",
      "        \"hidden_dim\": 200\n",
      "    }\u001b[0m\n",
      "\u001b[34m}\n",
      "\u001b[0m\n",
      "\u001b[34mEnvironment variables:\n",
      "\u001b[0m\n",
      "\u001b[34mSM_NETWORK_INTERFACE_NAME=eth0\u001b[0m\n",
      "\u001b[34mSM_MODULE_DIR=s3://sagemaker-us-east-2-080835854471/sagemaker-pytorch-2020-07-28-23-54-52-615/source/sourcedir.tar.gz\u001b[0m\n",
      "\u001b[34mSM_MODEL_DIR=/opt/ml/model\u001b[0m\n",
      "\u001b[34mPYTHONPATH=/usr/local/bin:/usr/lib/python35.zip:/usr/lib/python3.5:/usr/lib/python3.5/plat-x86_64-linux-gnu:/usr/lib/python3.5/lib-dynload:/usr/local/lib/python3.5/dist-packages:/usr/lib/python3/dist-packages\u001b[0m\n",
      "\u001b[34mSM_OUTPUT_DATA_DIR=/opt/ml/output/data\u001b[0m\n",
      "\u001b[34mSM_INPUT_CONFIG_DIR=/opt/ml/input/config\u001b[0m\n",
      "\u001b[34mSM_HOSTS=[\"algo-1\"]\u001b[0m\n",
      "\u001b[34mSM_NUM_GPUS=1\u001b[0m\n",
      "\u001b[34mSM_LOG_LEVEL=20\u001b[0m\n",
      "\u001b[34mSM_USER_ARGS=[\"--epochs\",\"10\",\"--hidden_dim\",\"200\"]\u001b[0m\n",
      "\u001b[34mSM_MODULE_NAME=train\u001b[0m\n",
      "\u001b[34mSM_FRAMEWORK_MODULE=sagemaker_pytorch_container.training:main\u001b[0m\n",
      "\u001b[34mSM_HP_EPOCHS=10\u001b[0m\n",
      "\u001b[34mSM_HPS={\"epochs\":10,\"hidden_dim\":200}\u001b[0m\n",
      "\u001b[34mSM_INPUT_DIR=/opt/ml/input\u001b[0m\n",
      "\u001b[34mSM_OUTPUT_INTERMEDIATE_DIR=/opt/ml/output/intermediate\u001b[0m\n",
      "\u001b[34mSM_TRAINING_ENV={\"additional_framework_parameters\":{},\"channel_input_dirs\":{\"training\":\"/opt/ml/input/data/training\"},\"current_host\":\"algo-1\",\"framework_module\":\"sagemaker_pytorch_container.training:main\",\"hosts\":[\"algo-1\"],\"hyperparameters\":{\"epochs\":10,\"hidden_dim\":200},\"input_config_dir\":\"/opt/ml/input/config\",\"input_data_config\":{\"training\":{\"RecordWrapperType\":\"None\",\"S3DistributionType\":\"FullyReplicated\",\"TrainingInputMode\":\"File\"}},\"input_dir\":\"/opt/ml/input\",\"job_name\":\"sagemaker-pytorch-2020-07-28-23-54-52-615\",\"log_level\":20,\"model_dir\":\"/opt/ml/model\",\"module_dir\":\"s3://sagemaker-us-east-2-080835854471/sagemaker-pytorch-2020-07-28-23-54-52-615/source/sourcedir.tar.gz\",\"module_name\":\"train\",\"network_interface_name\":\"eth0\",\"num_cpus\":4,\"num_gpus\":1,\"output_data_dir\":\"/opt/ml/output/data\",\"output_dir\":\"/opt/ml/output\",\"output_intermediate_dir\":\"/opt/ml/output/intermediate\",\"resource_config\":{\"current_host\":\"algo-1\",\"hosts\":[\"algo-1\"],\"network_interface_name\":\"eth0\"},\"user_entry_point\":\"train.py\"}\u001b[0m\n",
      "\u001b[34mSM_CURRENT_HOST=algo-1\u001b[0m\n",
      "\u001b[34mSM_HP_HIDDEN_DIM=200\u001b[0m\n",
      "\u001b[34mSM_RESOURCE_CONFIG={\"current_host\":\"algo-1\",\"hosts\":[\"algo-1\"],\"network_interface_name\":\"eth0\"}\u001b[0m\n",
      "\u001b[34mSM_CHANNELS=[\"training\"]\u001b[0m\n",
      "\u001b[34mSM_INPUT_DATA_CONFIG={\"training\":{\"RecordWrapperType\":\"None\",\"S3DistributionType\":\"FullyReplicated\",\"TrainingInputMode\":\"File\"}}\u001b[0m\n",
      "\u001b[34mSM_OUTPUT_DIR=/opt/ml/output\u001b[0m\n",
      "\u001b[34mSM_CHANNEL_TRAINING=/opt/ml/input/data/training\u001b[0m\n",
      "\u001b[34mSM_NUM_CPUS=4\u001b[0m\n",
      "\u001b[34mSM_USER_ENTRY_POINT=train.py\u001b[0m\n",
      "\u001b[34mSM_FRAMEWORK_PARAMS={}\n",
      "\u001b[0m\n",
      "\u001b[34mInvoking script with the following command:\n",
      "\u001b[0m\n",
      "\u001b[34m/usr/bin/python -m train --epochs 10 --hidden_dim 200\n",
      "\n",
      "\u001b[0m\n",
      "\u001b[34mUsing device cuda.\u001b[0m\n",
      "\u001b[34mGet train data loader.\u001b[0m\n"
     ]
    },
    {
     "name": "stdout",
     "output_type": "stream",
     "text": [
      "\u001b[34mModel loaded with embedding_dim 32, hidden_dim 200, vocab_size 5000.\u001b[0m\n",
      "\u001b[34mEpoch: 1, BCELoss: 0.6705745811365089\u001b[0m\n",
      "\u001b[34mEpoch: 2, BCELoss: 0.5833263981099032\u001b[0m\n",
      "\u001b[34mEpoch: 3, BCELoss: 0.5115912702618813\u001b[0m\n",
      "\u001b[34mEpoch: 4, BCELoss: 0.4444584530227038\u001b[0m\n",
      "\u001b[34mEpoch: 5, BCELoss: 0.40876198301509936\u001b[0m\n",
      "\u001b[34mEpoch: 6, BCELoss: 0.35993827362449804\u001b[0m\n",
      "\u001b[34mEpoch: 7, BCELoss: 0.32987085714632153\u001b[0m\n",
      "\u001b[34mEpoch: 8, BCELoss: 0.32189976469594606\u001b[0m\n",
      "\u001b[34mEpoch: 9, BCELoss: 0.3065080928559206\u001b[0m\n",
      "\n",
      "2020-07-29 00:01:41 Uploading - Uploading generated training model\n",
      "2020-07-29 00:01:41 Completed - Training job completed\n",
      "\u001b[34mEpoch: 10, BCELoss: 0.2718624779764487\u001b[0m\n",
      "\u001b[34m2020-07-29 00:01:33,675 sagemaker-containers INFO     Reporting training SUCCESS\u001b[0m\n",
      "Training seconds: 275\n",
      "Billable seconds: 275\n"
     ]
    }
   ],
   "source": [
    "estimator.fit({'training': input_data})"
   ]
  },
  {
   "cell_type": "markdown",
   "metadata": {},
   "source": [
    "<img src=\"pytorchModel1_.png\">\n",
    "\n",
    "## Step 5: Testing the model\n",
    "\n",
    "As mentioned at the top of this notebook, we will be testing this model by first deploying it and then sending the testing data to the deployed endpoint. We will do this so that we can make sure that the deployed model is working correctly.\n",
    "\n",
    "## Step 6: Deploy the model for testing\n",
    "\n",
    "Now that we have trained our model, we would like to test it to see how it performs. Currently our model takes input of the form `review_length, review[500]` where `review[500]` is a sequence of `500` integers which describe the words present in the review, encoded using `word_dict`. Fortunately for us, SageMaker provides built-in inference code for models with simple inputs such as this.\n",
    "\n",
    "There is one thing that we need to provide, however, and that is a function which loads the saved model. This function must be called `model_fn()` and takes as its only parameter a path to the directory where the model artifacts are stored. This function must also be present in the python file which we specified as the entry point. In our case the model loading function has been provided and so no changes need to be made.\n",
    "\n",
    "**NOTE**: When the built-in inference code is run it must import the `model_fn()` method from the `train.py` file. This is why the training code is wrapped in a main guard ( ie, `if __name__ == '__main__':` )\n",
    "\n",
    "Since we don't need to change anything in the code that was uploaded during training, we can simply deploy the current model as-is.\n",
    "\n",
    "**NOTE:** When deploying a model you are asking SageMaker to launch an compute instance that will wait for data to be sent to it. As a result, this compute instance will continue to run until *you* shut it down. This is important to know since the cost of a deployed endpoint depends on how long it has been running for.\n",
    "\n",
    "In other words **If you are no longer using a deployed endpoint, shut it down!**\n",
    "\n",
    "**TODO:** Deploy the trained model.\n",
    "\n",
    "**Answer:** Is possible you use the SageMaker PyTorch model server to host your PyTorch model when you call deploy on an PyTorch Estimator. \n",
    "\n",
    "The model server runs inside a SageMaker Endpoint, which your call to deploy creates. You can access the name of the Endpoint by the name property on the returned Predictor."
   ]
  },
  {
   "cell_type": "code",
   "execution_count": 40,
   "metadata": {},
   "outputs": [
    {
     "name": "stderr",
     "output_type": "stream",
     "text": [
      "Parameter image will be renamed to image_uri in SageMaker Python SDK v2.\n",
      "'create_image_uri' will be deprecated in favor of 'ImageURIProvider' class in SageMaker Python SDK v2.\n"
     ]
    },
    {
     "name": "stdout",
     "output_type": "stream",
     "text": [
      "---------------!"
     ]
    }
   ],
   "source": [
    "##### Answer ####\n",
    "\n",
    "predictor = estimator.deploy(initial_instance_count=1, instance_type='ml.m4.xlarge')\n",
    "\n",
    "##### Answer ####"
   ]
  },
  {
   "cell_type": "code",
   "execution_count": 41,
   "metadata": {},
   "outputs": [
    {
     "data": {
      "text/plain": [
       "'sagemaker-pytorch-2020-07-28-23-54-52-615'"
      ]
     },
     "execution_count": 41,
     "metadata": {},
     "output_type": "execute_result"
    }
   ],
   "source": [
    "predictor.endpoint"
   ]
  },
  {
   "cell_type": "markdown",
   "metadata": {},
   "source": [
    "<img src=\"EnpointModel1.png\">"
   ]
  },
  {
   "cell_type": "markdown",
   "metadata": {},
   "source": [
    "## Step 7 - Use the model for testing\n",
    "\n",
    "Once deployed, we can read in the test data and send it off to our deployed model to get some results. Once we collect all of the results we can determine how accurate our model is."
   ]
  },
  {
   "cell_type": "code",
   "execution_count": 45,
   "metadata": {},
   "outputs": [],
   "source": [
    "test_X = pd.concat([pd.DataFrame(test_X_len), pd.DataFrame(test_X)], axis=1)"
   ]
  },
  {
   "cell_type": "code",
   "execution_count": 46,
   "metadata": {},
   "outputs": [],
   "source": [
    "# We split the data into chunks and send each chunk seperately, accumulating the results.\n",
    "\n",
    "def predict(data, rows=512):\n",
    "    split_array = np.array_split(data, int(data.shape[0] / float(rows) + 1))\n",
    "    predictions = np.array([])\n",
    "    for array in split_array:\n",
    "        predictions = np.append(predictions, predictor.predict(array))\n",
    "    \n",
    "    return predictions"
   ]
  },
  {
   "cell_type": "code",
   "execution_count": 47,
   "metadata": {},
   "outputs": [],
   "source": [
    "predictions = predict(test_X.values)\n",
    "predictions = [round(num) for num in predictions]"
   ]
  },
  {
   "cell_type": "code",
   "execution_count": 48,
   "metadata": {},
   "outputs": [
    {
     "data": {
      "text/plain": [
       "0.84456"
      ]
     },
     "execution_count": 48,
     "metadata": {},
     "output_type": "execute_result"
    }
   ],
   "source": [
    "from sklearn.metrics import accuracy_score\n",
    "accuracy_score(test_y, predictions)"
   ]
  },
  {
   "cell_type": "markdown",
   "metadata": {},
   "source": [
    "**Question:** How does this model compare to the XGBoost model you created earlier? Why might these two models perform differently on this dataset? Which do *you* think is better for sentiment analysis?"
   ]
  },
  {
   "cell_type": "markdown",
   "metadata": {},
   "source": [
    "**Answer:**"
   ]
  },
  {
   "cell_type": "markdown",
   "metadata": {},
   "source": [
    "When you compare XgBoost model with Pytorch model you see this acuracy : 0.86 / 0.844.\n",
    "\n",
    "I believe XGboost is better because the Pytorch model need more data to perform better, maybe change hyperparameters is possible to improve the accuracy in this case or more data."
   ]
  },
  {
   "cell_type": "markdown",
   "metadata": {},
   "source": [
    "### (TODO) More testing\n",
    "\n",
    "We now have a trained model which has been deployed and which we can send processed reviews to and which returns the predicted sentiment. However, ultimately we would like to be able to send our model an unprocessed review. That is, we would like to send the review itself as a string. For example, suppose we wish to send the following review to our model."
   ]
  },
  {
   "cell_type": "code",
   "execution_count": 50,
   "metadata": {},
   "outputs": [],
   "source": [
    "test_review = 'The simplest pleasures in life are the best, and this film is one of them. Combining a rather basic storyline of love and adventure this movie transcends the usual weekend fair with wit and unmitigated charm.'"
   ]
  },
  {
   "cell_type": "markdown",
   "metadata": {},
   "source": [
    "The question we now need to answer is, how do we send this review to our model?\n",
    "\n",
    "Recall in the first section of this notebook we did a bunch of data processing to the IMDb dataset. In particular, we did two specific things to the provided reviews.\n",
    " - Removed any html tags and stemmed the input\n",
    " - Encoded the review as a sequence of integers using `word_dict`\n",
    " \n",
    "In order process the review we will need to repeat these two steps.\n",
    "\n",
    "**TODO**: Using the `review_to_words` and `convert_and_pad` methods from section one, convert `test_review` into a numpy array `test_data` suitable to send to our model. Remember that our model expects input of the form `review_length, review[500]`."
   ]
  },
  {
   "cell_type": "code",
   "execution_count": 51,
   "metadata": {},
   "outputs": [
    {
     "data": {
      "text/plain": [
       "(1, 501)"
      ]
     },
     "execution_count": 51,
     "metadata": {},
     "output_type": "execute_result"
    }
   ],
   "source": [
    "\n",
    "\n",
    "# TODO: Convert test_review into a form usable by the model and save the results in test_data\n",
    "test_review_words = review_to_words(test_review)\n",
    "test_review_words, length = convert_and_pad(word_dict, test_review_words)\n",
    "test_data = np.array([[length] + test_review_words])\n",
    "test_data.shape\n"
   ]
  },
  {
   "cell_type": "markdown",
   "metadata": {},
   "source": [
    "Now that we have processed the review, we can send the resulting array to our model to predict the sentiment of the review."
   ]
  },
  {
   "cell_type": "code",
   "execution_count": 52,
   "metadata": {},
   "outputs": [
    {
     "data": {
      "text/plain": [
       "array(0.8154794, dtype=float32)"
      ]
     },
     "execution_count": 52,
     "metadata": {},
     "output_type": "execute_result"
    }
   ],
   "source": [
    "predictor.predict(test_data)"
   ]
  },
  {
   "cell_type": "code",
   "execution_count": null,
   "metadata": {},
   "outputs": [],
   "source": []
  },
  {
   "cell_type": "markdown",
   "metadata": {},
   "source": [
    "Since the return value of our model is close to `1`, we can be certain that the review we submitted is positive."
   ]
  },
  {
   "cell_type": "markdown",
   "metadata": {},
   "source": [
    "### Delete the endpoint\n",
    "\n",
    "Of course, just like in the XGBoost notebook, once we've deployed an endpoint it continues to run until we tell it to shut down. Since we are done using our endpoint for now, we can delete it."
   ]
  },
  {
   "cell_type": "code",
   "execution_count": 53,
   "metadata": {},
   "outputs": [
    {
     "name": "stderr",
     "output_type": "stream",
     "text": [
      "estimator.delete_endpoint() will be deprecated in SageMaker Python SDK v2. Please use the delete_endpoint() function on your predictor instead.\n"
     ]
    }
   ],
   "source": [
    "estimator.delete_endpoint()"
   ]
  },
  {
   "cell_type": "markdown",
   "metadata": {},
   "source": [
    "## Step 6 (again) - Deploy the model for the web app\n",
    "\n",
    "Now that we know that our model is working, it's time to create some custom inference code so that we can send the model a review which has not been processed and have it determine the sentiment of the review.\n",
    "\n",
    "As we saw above, by default the estimator which we created, when deployed, will use the entry script and directory which we provided when creating the model. However, since we now wish to accept a string as input and our model expects a processed review, we need to write some custom inference code.\n",
    "\n",
    "We will store the code that we write in the `serve` directory. Provided in this directory is the `model.py` file that we used to construct our model, a `utils.py` file which contains the `review_to_words` and `convert_and_pad` pre-processing functions which we used during the initial data processing, and `predict.py`, the file which will contain our custom inference code. Note also that `requirements.txt` is present which will tell SageMaker what Python libraries are required by our custom inference code.\n",
    "\n",
    "When deploying a PyTorch model in SageMaker, you are expected to provide four functions which the SageMaker inference container will use.\n",
    " - `model_fn`: This function is the same function that we used in the training script and it tells SageMaker how to load our model.\n",
    " - `input_fn`: This function receives the raw serialized input that has been sent to the model's endpoint and its job is to de-serialize and make the input available for the inference code.\n",
    " - `output_fn`: This function takes the output of the inference code and its job is to serialize this output and return it to the caller of the model's endpoint.\n",
    " - `predict_fn`: The heart of the inference script, this is where the actual prediction is done and is the function which you will need to complete.\n",
    "\n",
    "For the simple website that we are constructing during this project, the `input_fn` and `output_fn` methods are relatively straightforward. We only require being able to accept a string as input and we expect to return a single value as output. You might imagine though that in a more complex application the input or output may be image data or some other binary data which would require some effort to serialize.\n",
    "\n",
    "### (TODO) Writing inference code\n",
    "\n",
    "Before writing our custom inference code, we will begin by taking a look at the code which has been provided."
   ]
  },
  {
   "cell_type": "code",
   "execution_count": 54,
   "metadata": {},
   "outputs": [
    {
     "name": "stdout",
     "output_type": "stream",
     "text": [
      "\u001b[34mimport\u001b[39;49;00m \u001b[04m\u001b[36margparse\u001b[39;49;00m\r\n",
      "\u001b[34mimport\u001b[39;49;00m \u001b[04m\u001b[36mjson\u001b[39;49;00m\r\n",
      "\u001b[34mimport\u001b[39;49;00m \u001b[04m\u001b[36mos\u001b[39;49;00m\r\n",
      "\u001b[34mimport\u001b[39;49;00m \u001b[04m\u001b[36mpickle\u001b[39;49;00m\r\n",
      "\u001b[34mimport\u001b[39;49;00m \u001b[04m\u001b[36msys\u001b[39;49;00m\r\n",
      "\u001b[34mimport\u001b[39;49;00m \u001b[04m\u001b[36msagemaker_containers\u001b[39;49;00m\r\n",
      "\u001b[34mimport\u001b[39;49;00m \u001b[04m\u001b[36mpandas\u001b[39;49;00m \u001b[34mas\u001b[39;49;00m \u001b[04m\u001b[36mpd\u001b[39;49;00m\r\n",
      "\u001b[34mimport\u001b[39;49;00m \u001b[04m\u001b[36mnumpy\u001b[39;49;00m \u001b[34mas\u001b[39;49;00m \u001b[04m\u001b[36mnp\u001b[39;49;00m\r\n",
      "\u001b[34mimport\u001b[39;49;00m \u001b[04m\u001b[36mtorch\u001b[39;49;00m\r\n",
      "\u001b[34mimport\u001b[39;49;00m \u001b[04m\u001b[36mtorch\u001b[39;49;00m\u001b[04m\u001b[36m.\u001b[39;49;00m\u001b[04m\u001b[36mnn\u001b[39;49;00m \u001b[34mas\u001b[39;49;00m \u001b[04m\u001b[36mnn\u001b[39;49;00m\r\n",
      "\u001b[34mimport\u001b[39;49;00m \u001b[04m\u001b[36mtorch\u001b[39;49;00m\u001b[04m\u001b[36m.\u001b[39;49;00m\u001b[04m\u001b[36moptim\u001b[39;49;00m \u001b[34mas\u001b[39;49;00m \u001b[04m\u001b[36moptim\u001b[39;49;00m\r\n",
      "\u001b[34mimport\u001b[39;49;00m \u001b[04m\u001b[36mtorch\u001b[39;49;00m\u001b[04m\u001b[36m.\u001b[39;49;00m\u001b[04m\u001b[36mutils\u001b[39;49;00m\u001b[04m\u001b[36m.\u001b[39;49;00m\u001b[04m\u001b[36mdata\u001b[39;49;00m\r\n",
      "\r\n",
      "\u001b[34mfrom\u001b[39;49;00m \u001b[04m\u001b[36mmodel\u001b[39;49;00m \u001b[34mimport\u001b[39;49;00m LSTMClassifier\r\n",
      "\r\n",
      "\u001b[34mfrom\u001b[39;49;00m \u001b[04m\u001b[36mutils\u001b[39;49;00m \u001b[34mimport\u001b[39;49;00m review_to_words, convert_and_pad\r\n",
      "\r\n",
      "\u001b[34mdef\u001b[39;49;00m \u001b[32mmodel_fn\u001b[39;49;00m(model_dir):\r\n",
      "    \u001b[33m\"\"\"Load the PyTorch model from the `model_dir` directory.\"\"\"\u001b[39;49;00m\r\n",
      "    \u001b[36mprint\u001b[39;49;00m(\u001b[33m\"\u001b[39;49;00m\u001b[33mLoading model.\u001b[39;49;00m\u001b[33m\"\u001b[39;49;00m)\r\n",
      "\r\n",
      "    \u001b[37m# First, load the parameters used to create the model.\u001b[39;49;00m\r\n",
      "    model_info = {}\r\n",
      "    model_info_path = os.path.join(model_dir, \u001b[33m'\u001b[39;49;00m\u001b[33mmodel_info.pth\u001b[39;49;00m\u001b[33m'\u001b[39;49;00m)\r\n",
      "    \u001b[34mwith\u001b[39;49;00m \u001b[36mopen\u001b[39;49;00m(model_info_path, \u001b[33m'\u001b[39;49;00m\u001b[33mrb\u001b[39;49;00m\u001b[33m'\u001b[39;49;00m) \u001b[34mas\u001b[39;49;00m f:\r\n",
      "        model_info = torch.load(f)\r\n",
      "\r\n",
      "    \u001b[36mprint\u001b[39;49;00m(\u001b[33m\"\u001b[39;49;00m\u001b[33mmodel_info: \u001b[39;49;00m\u001b[33m{}\u001b[39;49;00m\u001b[33m\"\u001b[39;49;00m.format(model_info))\r\n",
      "\r\n",
      "    \u001b[37m# Determine the device and construct the model.\u001b[39;49;00m\r\n",
      "    device = torch.device(\u001b[33m\"\u001b[39;49;00m\u001b[33mcuda\u001b[39;49;00m\u001b[33m\"\u001b[39;49;00m \u001b[34mif\u001b[39;49;00m torch.cuda.is_available() \u001b[34melse\u001b[39;49;00m \u001b[33m\"\u001b[39;49;00m\u001b[33mcpu\u001b[39;49;00m\u001b[33m\"\u001b[39;49;00m)\r\n",
      "    model = LSTMClassifier(model_info[\u001b[33m'\u001b[39;49;00m\u001b[33membedding_dim\u001b[39;49;00m\u001b[33m'\u001b[39;49;00m], model_info[\u001b[33m'\u001b[39;49;00m\u001b[33mhidden_dim\u001b[39;49;00m\u001b[33m'\u001b[39;49;00m], model_info[\u001b[33m'\u001b[39;49;00m\u001b[33mvocab_size\u001b[39;49;00m\u001b[33m'\u001b[39;49;00m])\r\n",
      "\r\n",
      "    \u001b[37m# Load the store model parameters.\u001b[39;49;00m\r\n",
      "    model_path = os.path.join(model_dir, \u001b[33m'\u001b[39;49;00m\u001b[33mmodel.pth\u001b[39;49;00m\u001b[33m'\u001b[39;49;00m)\r\n",
      "    \u001b[34mwith\u001b[39;49;00m \u001b[36mopen\u001b[39;49;00m(model_path, \u001b[33m'\u001b[39;49;00m\u001b[33mrb\u001b[39;49;00m\u001b[33m'\u001b[39;49;00m) \u001b[34mas\u001b[39;49;00m f:\r\n",
      "        model.load_state_dict(torch.load(f))\r\n",
      "\r\n",
      "    \u001b[37m# Load the saved word_dict.\u001b[39;49;00m\r\n",
      "    word_dict_path = os.path.join(model_dir, \u001b[33m'\u001b[39;49;00m\u001b[33mword_dict.pkl\u001b[39;49;00m\u001b[33m'\u001b[39;49;00m)\r\n",
      "    \u001b[34mwith\u001b[39;49;00m \u001b[36mopen\u001b[39;49;00m(word_dict_path, \u001b[33m'\u001b[39;49;00m\u001b[33mrb\u001b[39;49;00m\u001b[33m'\u001b[39;49;00m) \u001b[34mas\u001b[39;49;00m f:\r\n",
      "        model.word_dict = pickle.load(f)\r\n",
      "\r\n",
      "    model.to(device).eval()\r\n",
      "\r\n",
      "    \u001b[36mprint\u001b[39;49;00m(\u001b[33m\"\u001b[39;49;00m\u001b[33mDone loading model.\u001b[39;49;00m\u001b[33m\"\u001b[39;49;00m)\r\n",
      "    \u001b[34mreturn\u001b[39;49;00m model\r\n",
      "\r\n",
      "\u001b[34mdef\u001b[39;49;00m \u001b[32minput_fn\u001b[39;49;00m(serialized_input_data, content_type):\r\n",
      "    \u001b[36mprint\u001b[39;49;00m(\u001b[33m'\u001b[39;49;00m\u001b[33mDeserializing the input data.\u001b[39;49;00m\u001b[33m'\u001b[39;49;00m)\r\n",
      "    \u001b[34mif\u001b[39;49;00m content_type == \u001b[33m'\u001b[39;49;00m\u001b[33mtext/plain\u001b[39;49;00m\u001b[33m'\u001b[39;49;00m:\r\n",
      "        data = serialized_input_data.decode(\u001b[33m'\u001b[39;49;00m\u001b[33mutf-8\u001b[39;49;00m\u001b[33m'\u001b[39;49;00m)\r\n",
      "        \u001b[34mreturn\u001b[39;49;00m data\r\n",
      "    \u001b[34mraise\u001b[39;49;00m \u001b[36mException\u001b[39;49;00m(\u001b[33m'\u001b[39;49;00m\u001b[33mRequested unsupported ContentType in content_type: \u001b[39;49;00m\u001b[33m'\u001b[39;49;00m + content_type)\r\n",
      "\r\n",
      "\u001b[34mdef\u001b[39;49;00m \u001b[32moutput_fn\u001b[39;49;00m(prediction_output, accept):\r\n",
      "    \u001b[36mprint\u001b[39;49;00m(\u001b[33m'\u001b[39;49;00m\u001b[33mSerializing the generated output.\u001b[39;49;00m\u001b[33m'\u001b[39;49;00m)\r\n",
      "    \u001b[34mreturn\u001b[39;49;00m \u001b[36mstr\u001b[39;49;00m(prediction_output)\r\n",
      "\r\n",
      "\u001b[34mdef\u001b[39;49;00m \u001b[32mpredict_fn\u001b[39;49;00m(input_data, model):\r\n",
      "    \u001b[36mprint\u001b[39;49;00m(\u001b[33m'\u001b[39;49;00m\u001b[33mInferring sentiment of input data.\u001b[39;49;00m\u001b[33m'\u001b[39;49;00m)\r\n",
      "\r\n",
      "    device = torch.device(\u001b[33m\"\u001b[39;49;00m\u001b[33mcuda\u001b[39;49;00m\u001b[33m\"\u001b[39;49;00m \u001b[34mif\u001b[39;49;00m torch.cuda.is_available() \u001b[34melse\u001b[39;49;00m \u001b[33m\"\u001b[39;49;00m\u001b[33mcpu\u001b[39;49;00m\u001b[33m\"\u001b[39;49;00m)\r\n",
      "    \r\n",
      "    \u001b[34mif\u001b[39;49;00m model.word_dict \u001b[35mis\u001b[39;49;00m \u001b[34mNone\u001b[39;49;00m:\r\n",
      "        \u001b[34mraise\u001b[39;49;00m \u001b[36mException\u001b[39;49;00m(\u001b[33m'\u001b[39;49;00m\u001b[33mModel has not been loaded properly, no word_dict.\u001b[39;49;00m\u001b[33m'\u001b[39;49;00m)\r\n",
      "    \r\n",
      "    \u001b[37m#### TODO EXPLAIN HERE #####\u001b[39;49;00m\r\n",
      "    \r\n",
      "    \u001b[37m# Process input_data so that it is ready to be sent to our model.\u001b[39;49;00m\r\n",
      "    \u001b[37m#   You should produce two variables:\u001b[39;49;00m\r\n",
      "    \u001b[37m#     - data_X   - A sequence of length 500 which represents the converted review\u001b[39;49;00m\r\n",
      "    \u001b[37m#     - data_len - The length of the review\u001b[39;49;00m\r\n",
      "    input_words = review_to_words(input_data)\r\n",
      "    data_X, data_len = convert_and_pad(model.word_dict, input_words)\r\n",
      "\r\n",
      "    \r\n",
      "    \u001b[37m#### TODO EXPLAIN HERE #####\u001b[39;49;00m\r\n",
      "    \r\n",
      "    \u001b[37m# Using data_X and data_len we construct an appropriate input tensor. Remember\u001b[39;49;00m\r\n",
      "    \u001b[37m# that our model expects input data of the form 'len, review[500]'.\u001b[39;49;00m\r\n",
      "    data_pack = np.hstack((data_len, data_X))\r\n",
      "    data_pack = data_pack.reshape(\u001b[34m1\u001b[39;49;00m, -\u001b[34m1\u001b[39;49;00m)\r\n",
      "    \r\n",
      "    data = torch.from_numpy(data_pack)\r\n",
      "    data = data.to(device)\r\n",
      "\r\n",
      "    \u001b[37m# Make sure to put the model into evaluation mode\u001b[39;49;00m\r\n",
      "    model.eval()\r\n",
      "\r\n",
      "    \u001b[37m# TODO: Compute the result of applying the model to the input data. The variable `result` should\u001b[39;49;00m\r\n",
      "    \u001b[37m#       be a numpy array which contains a single integer which is either 1 or 0\u001b[39;49;00m\r\n",
      "    \r\n",
      "    \u001b[37m#### TODO EXPLAIN HERE #####\u001b[39;49;00m\r\n",
      "    \u001b[34mwith\u001b[39;49;00m torch.no_grad():\r\n",
      "        output = model.forward(data) \r\n",
      "\r\n",
      "    result = np.round(output.numpy())\r\n",
      "    \u001b[36mprint\u001b[39;49;00m(\u001b[33m'\u001b[39;49;00m\u001b[33mresult is: \u001b[39;49;00m\u001b[33m%s\u001b[39;49;00m\u001b[33m'\u001b[39;49;00m, result)\r\n",
      "    \r\n",
      "    \u001b[37m#### TODO EXPLAIN HERE #####\u001b[39;49;00m\r\n",
      "\r\n",
      "    \u001b[34mreturn\u001b[39;49;00m \u001b[36mint\u001b[39;49;00m(result)\r\n"
     ]
    }
   ],
   "source": [
    "!pygmentize serve/predict.py"
   ]
  },
  {
   "cell_type": "markdown",
   "metadata": {},
   "source": [
    "As mentioned earlier, the `model_fn` method is the same as the one provided in the training code and the `input_fn` and `output_fn` methods are very simple and your task will be to complete the `predict_fn` method. Make sure that you save the completed file as `predict.py` in the `serve` directory.\n",
    "\n",
    "**TODO**: Complete the `predict_fn()` method in the `serve/predict.py` file."
   ]
  },
  {
   "cell_type": "markdown",
   "metadata": {},
   "source": [
    "### Deploying the model\n",
    "\n",
    "Now that the custom inference code has been written, we will create and deploy our model. To begin with, we need to construct a new PyTorchModel object which points to the model artifacts created during training and also points to the inference code that we wish to use. Then we can call the deploy method to launch the deployment container.\n",
    "\n",
    "**NOTE**: The default behaviour for a deployed PyTorch model is to assume that any input passed to the predictor is a `numpy` array. In our case we want to send a string so we need to construct a simple wrapper around the `RealTimePredictor` class to accomodate simple strings. In a more complicated situation you may want to provide a serialization object, for example if you wanted to sent image data."
   ]
  },
  {
   "cell_type": "code",
   "execution_count": 55,
   "metadata": {},
   "outputs": [
    {
     "name": "stderr",
     "output_type": "stream",
     "text": [
      "Parameter image will be renamed to image_uri in SageMaker Python SDK v2.\n",
      "'create_image_uri' will be deprecated in favor of 'ImageURIProvider' class in SageMaker Python SDK v2.\n"
     ]
    },
    {
     "name": "stdout",
     "output_type": "stream",
     "text": [
      "---------------!"
     ]
    }
   ],
   "source": [
    "from sagemaker.predictor import RealTimePredictor\n",
    "from sagemaker.pytorch import PyTorchModel\n",
    "\n",
    "class StringPredictor(RealTimePredictor):\n",
    "    def __init__(self, endpoint_name, sagemaker_session):\n",
    "        super(StringPredictor, self).__init__(endpoint_name, sagemaker_session, content_type='text/plain')\n",
    "\n",
    "model = PyTorchModel(model_data=estimator.model_data,\n",
    "                     role = role,\n",
    "                     framework_version='0.4.0',\n",
    "                     entry_point='predict.py',\n",
    "                     source_dir='serve',\n",
    "                     predictor_cls=StringPredictor)\n",
    "predictor = model.deploy(initial_instance_count=1, instance_type='ml.m4.xlarge')"
   ]
  },
  {
   "cell_type": "markdown",
   "metadata": {},
   "source": [
    "<img src=\"pytorchModel2.png\">"
   ]
  },
  {
   "cell_type": "markdown",
   "metadata": {},
   "source": [
    "### Testing the model\n",
    "\n",
    "Now that we have deployed our model with the custom inference code, we should test to see if everything is working. Here we test our model by loading the first `250` positive and negative reviews and send them to the endpoint, then collect the results. The reason for only sending some of the data is that the amount of time it takes for our model to process the input and then perform inference is quite long and so testing the entire data set would be prohibitive."
   ]
  },
  {
   "cell_type": "code",
   "execution_count": 60,
   "metadata": {},
   "outputs": [],
   "source": [
    "import glob\n",
    "\n",
    "def test_reviews(data_dir='../data/aclImdb', stop=250):\n",
    "    \n",
    "    results = []\n",
    "    ground = []\n",
    "    \n",
    "    # We make sure to test both positive and negative reviews    \n",
    "    for sentiment in ['pos', 'neg']:\n",
    "        \n",
    "        path = os.path.join(data_dir, 'test', sentiment, '*.txt')\n",
    "        files = glob.glob(path)\n",
    "        \n",
    "        files_read = 0\n",
    "        \n",
    "        print('Starting ', sentiment, ' files')\n",
    "        \n",
    "        # Iterate through the files and send them to the predictor\n",
    "        for f in files:\n",
    "            with open(f) as review:\n",
    "                # First, we store the ground truth (was the review positive or negative)\n",
    "                if sentiment == 'pos':\n",
    "                    ground.append(1)\n",
    "                else:\n",
    "                    ground.append(0)\n",
    "                # Read in the review and convert to 'utf-8' for transmission via HTTP\n",
    "                review_input = review.read().encode('utf-8')\n",
    "                # Send the review to the predictor and store the results\n",
    "                results.append(int(predictor.predict(review_input)))\n",
    "                \n",
    "            # Sending reviews to our endpoint one at a time takes a while so we\n",
    "            # only send a small number of reviews\n",
    "            files_read += 1\n",
    "            if files_read == stop:\n",
    "                break\n",
    "            \n",
    "    return ground, results"
   ]
  },
  {
   "cell_type": "code",
   "execution_count": 61,
   "metadata": {},
   "outputs": [
    {
     "name": "stdout",
     "output_type": "stream",
     "text": [
      "Starting  pos  files\n",
      "Starting  neg  files\n"
     ]
    }
   ],
   "source": [
    "ground, results = test_reviews()"
   ]
  },
  {
   "cell_type": "code",
   "execution_count": 62,
   "metadata": {},
   "outputs": [
    {
     "data": {
      "text/plain": [
       "0.83"
      ]
     },
     "execution_count": 62,
     "metadata": {},
     "output_type": "execute_result"
    }
   ],
   "source": [
    "from sklearn.metrics import accuracy_score\n",
    "accuracy_score(ground, results)"
   ]
  },
  {
   "cell_type": "markdown",
   "metadata": {},
   "source": [
    "As an additional test, we can try sending the `test_review` that we looked at earlier."
   ]
  },
  {
   "cell_type": "code",
   "execution_count": 65,
   "metadata": {},
   "outputs": [
    {
     "data": {
      "text/plain": [
       "'sagemaker-pytorch-2020-07-29-00-30-46-496'"
      ]
     },
     "execution_count": 65,
     "metadata": {},
     "output_type": "execute_result"
    }
   ],
   "source": [
    "predictor.endpoint"
   ]
  },
  {
   "cell_type": "markdown",
   "metadata": {},
   "source": [
    "<img src=\"EnpointModel2.png\">"
   ]
  },
  {
   "cell_type": "code",
   "execution_count": 66,
   "metadata": {},
   "outputs": [
    {
     "data": {
      "text/plain": [
       "b'1'"
      ]
     },
     "execution_count": 66,
     "metadata": {},
     "output_type": "execute_result"
    }
   ],
   "source": [
    "predictor.predict(test_review)"
   ]
  },
  {
   "cell_type": "markdown",
   "metadata": {},
   "source": [
    "Now that we know our endpoint is working as expected, we can set up the web page that will interact with it. If you don't have time to finish the project now, make sure to skip down to the end of this notebook and shut down your endpoint. You can deploy it again when you come back."
   ]
  },
  {
   "cell_type": "markdown",
   "metadata": {},
   "source": [
    "## Step 7 (again): Use the model for the web app\n",
    "\n",
    "> **TODO:** This entire section and the next contain tasks for you to complete, mostly using the AWS console.\n",
    "\n",
    "So far we have been accessing our model endpoint by constructing a predictor object which uses the endpoint and then just using the predictor object to perform inference. What if we wanted to create a web app which accessed our model? The way things are set up currently makes that not possible since in order to access a SageMaker endpoint the app would first have to authenticate with AWS using an IAM role which included access to SageMaker endpoints. However, there is an easier way! We just need to use some additional AWS services.\n",
    "\n",
    "<img src=\"Web App Diagram.svg\">\n",
    "\n",
    "The diagram above gives an overview of how the various services will work together. On the far right is the model which we trained above and which is deployed using SageMaker. On the far left is our web app that collects a user's movie review, sends it off and expects a positive or negative sentiment in return.\n",
    "\n",
    "In the middle is where some of the magic happens. We will construct a Lambda function, which you can think of as a straightforward Python function that can be executed whenever a specified event occurs. We will give this function permission to send and recieve data from a SageMaker endpoint.\n",
    "\n",
    "Lastly, the method we will use to execute the Lambda function is a new endpoint that we will create using API Gateway. This endpoint will be a url that listens for data to be sent to it. Once it gets some data it will pass that data on to the Lambda function and then return whatever the Lambda function returns. Essentially it will act as an interface that lets our web app communicate with the Lambda function.\n",
    "\n",
    "### Setting up a Lambda function\n",
    "\n",
    "The first thing we are going to do is set up a Lambda function. This Lambda function will be executed whenever our public API has data sent to it. When it is executed it will receive the data, perform any sort of processing that is required, send the data (the review) to the SageMaker endpoint we've created and then return the result.\n",
    "\n",
    "#### Part A: Create an IAM Role for the Lambda function\n",
    "\n",
    "Since we want the Lambda function to call a SageMaker endpoint, we need to make sure that it has permission to do so. To do this, we will construct a role that we can later give the Lambda function.\n",
    "\n",
    "Using the AWS Console, navigate to the **IAM** page and click on **Roles**. Then, click on **Create role**. Make sure that the **AWS service** is the type of trusted entity selected and choose **Lambda** as the service that will use this role, then click **Next: Permissions**.\n",
    "\n",
    "In the search box type `sagemaker` and select the check box next to the **AmazonSageMakerFullAccess** policy. Then, click on **Next: Review**.\n",
    "\n",
    "Lastly, give this role a name. Make sure you use a name that you will remember later on, for example `LambdaSageMakerRole`. Then, click on **Create role**.\n",
    "\n",
    "#### Part B: Create a Lambda function\n",
    "\n",
    "Now it is time to actually create the Lambda function.\n",
    "\n",
    "Using the AWS Console, navigate to the AWS Lambda page and click on **Create a function**. When you get to the next page, make sure that **Author from scratch** is selected. Now, name your Lambda function, using a name that you will remember later on, for example `sentiment_analysis_func`. Make sure that the **Python 3.6** runtime is selected and then choose the role that you created in the previous part. Then, click on **Create Function**.\n",
    "\n",
    "On the next page you will see some information about the Lambda function you've just created. If you scroll down you should see an editor in which you can write the code that will be executed when your Lambda function is triggered. In our example, we will use the code below. \n",
    "\n",
    "```python\n",
    "# We need to use the low-level library to interact with SageMaker since the SageMaker API\n",
    "# is not available natively through Lambda.\n",
    "import boto3\n",
    "\n",
    "def lambda_handler(event, context):\n",
    "\n",
    "    # The SageMaker runtime is what allows us to invoke the endpoint that we've created.\n",
    "    runtime = boto3.Session().client('sagemaker-runtime')\n",
    "\n",
    "    # Now we use the SageMaker runtime to invoke our endpoint, sending the review we were given\n",
    "    response = runtime.invoke_endpoint(EndpointName = '**ENDPOINT NAME HERE**',    # The name of the endpoint we created\n",
    "                                       ContentType = 'text/plain',                 # The data format that is expected\n",
    "                                       Body = event['body'])                       # The actual review\n",
    "\n",
    "    # The response is an HTTP response whose body contains the result of our inference\n",
    "    result = response['Body'].read().decode('utf-8')\n",
    "\n",
    "    return {\n",
    "        'statusCode' : 200,\n",
    "        'headers' : { 'Content-Type' : 'text/plain', 'Access-Control-Allow-Origin' : '*' },\n",
    "        'body' : result\n",
    "    }\n",
    "```\n",
    "\n",
    "Once you have copy and pasted the code above into the Lambda code editor, replace the `**ENDPOINT NAME HERE**` portion with the name of the endpoint that we deployed earlier. You can determine the name of the endpoint using the code cell below."
   ]
  },
  {
   "cell_type": "markdown",
   "metadata": {},
   "source": [
    "Once you have added the endpoint name to the Lambda function, click on **Save**. Your Lambda function is now up and running. Next we need to create a way for our web app to execute the Lambda function.\n",
    "\n",
    "### Setting up API Gateway\n",
    "\n",
    "Now that our Lambda function is set up, it is time to create a new API using API Gateway that will trigger the Lambda function we have just created.\n",
    "\n",
    "Using AWS Console, navigate to **Amazon API Gateway** and then click on **Get started**.\n",
    "\n",
    "On the next page, make sure that **New API** is selected and give the new api a name, for example, `sentiment_analysis_api`. Then, click on **Create API**.\n",
    "\n",
    "Now we have created an API, however it doesn't currently do anything. What we want it to do is to trigger the Lambda function that we created earlier.\n",
    "\n",
    "Select the **Actions** dropdown menu and click **Create Method**. A new blank method will be created, select its dropdown menu and select **POST**, then click on the check mark beside it.\n",
    "\n",
    "For the integration point, make sure that **Lambda Function** is selected and click on the **Use Lambda Proxy integration**. This option makes sure that the data that is sent to the API is then sent directly to the Lambda function with no processing. It also means that the return value must be a proper response object as it will also not be processed by API Gateway.\n",
    "\n",
    "Type the name of the Lambda function you created earlier into the **Lambda Function** text entry box and then click on **Save**. Click on **OK** in the pop-up box that then appears, giving permission to API Gateway to invoke the Lambda function you created.\n",
    "\n",
    "The last step in creating the API Gateway is to select the **Actions** dropdown and click on **Deploy API**. You will need to create a new Deployment stage and name it anything you like, for example `prod`.\n",
    "\n",
    "You have now successfully set up a public API to access your SageMaker model. Make sure to copy or write down the URL provided to invoke your newly created public API as this will be needed in the next step. This URL can be found at the top of the page, highlighted in blue next to the text **Invoke URL**."
   ]
  },
  {
   "cell_type": "markdown",
   "metadata": {},
   "source": [
    "## Step 4: Deploying our web app\n",
    "\n",
    "Now that we have a publicly available API, we can start using it in a web app. For our purposes, we have provided a simple static html file which can make use of the public api you created earlier.\n",
    "\n",
    "In the `website` folder there should be a file called `index.html`. Download the file to your computer and open that file up in a text editor of your choice. There should be a line which contains **\\*\\*REPLACE WITH PUBLIC API URL\\*\\***. Replace this string with the url that you wrote down in the last step and then save the file.\n",
    "\n",
    "Now, if you open `index.html` on your local computer, your browser will behave as a local web server and you can use the provided site to interact with your SageMaker model.\n",
    "\n",
    "If you'd like to go further, you can host this html file anywhere you'd like, for example using github or hosting a static site on Amazon's S3. Once you have done this you can share the link with anyone you'd like and have them play with it too!\n",
    "\n",
    "> **Important Note** In order for the web app to communicate with the SageMaker endpoint, the endpoint has to actually be deployed and running. This means that you are paying for it. Make sure that the endpoint is running when you want to use the web app but that you shut it down when you don't need it, otherwise you will end up with a surprisingly large AWS bill.\n",
    "\n",
    "**TODO:** Make sure that you include the edited `index.html` file in your project submission."
   ]
  },
  {
   "cell_type": "markdown",
   "metadata": {},
   "source": [
    "Now that your web app is working, trying playing around with it and see how well it works.\n",
    "\n",
    "**Question**: Give an example of a review that you entered into your web app. What was the predicted sentiment of your example review?"
   ]
  },
  {
   "cell_type": "markdown",
   "metadata": {},
   "source": [
    "**Answer:** In this text example, my model predict a positive result"
   ]
  },
  {
   "cell_type": "markdown",
   "metadata": {},
   "source": [
    "## EXTRA New Web Site"
   ]
  },
  {
   "cell_type": "markdown",
   "metadata": {},
   "source": [
    "# website Binary Pytorch Model\n",
    "\n",
    "## Acuracy 0.83\n",
    "<img src=\"pytorchWebsite.PNG\">"
   ]
  },
  {
   "cell_type": "markdown",
   "metadata": {},
   "source": [
    "## EXTRA XGBoosting Web Site"
   ]
  },
  {
   "cell_type": "markdown",
   "metadata": {},
   "source": [
    "I created a new Front End with, the result and the value change the indicator the percentage onde better experience to the user."
   ]
  },
  {
   "cell_type": "markdown",
   "metadata": {},
   "source": [
    "# Website percent xgBoosting model with new feature\n",
    "## Acuracy 0.86\n",
    "<img src=\"xgBoostingWebsite.PNG\">"
   ]
  },
  {
   "cell_type": "markdown",
   "metadata": {},
   "source": [
    "### Delete the endpoint\n",
    "\n",
    "Remember to always shut down your endpoint if you are no longer using it. You are charged for the length of time that the endpoint is running so if you forget and leave it on you could end up with an unexpectedly large bill."
   ]
  },
  {
   "cell_type": "code",
   "execution_count": 70,
   "metadata": {},
   "outputs": [],
   "source": [
    "predictor.delete_endpoint()"
   ]
  },
  {
   "cell_type": "code",
   "execution_count": null,
   "metadata": {},
   "outputs": [],
   "source": []
  }
 ],
 "metadata": {
  "kernelspec": {
   "display_name": "conda_pytorch_p36",
   "language": "python",
   "name": "conda_pytorch_p36"
  },
  "language_info": {
   "codemirror_mode": {
    "name": "ipython",
    "version": 3
   },
   "file_extension": ".py",
   "mimetype": "text/x-python",
   "name": "python",
   "nbconvert_exporter": "python",
   "pygments_lexer": "ipython3",
   "version": "3.6.10"
  }
 },
 "nbformat": 4,
 "nbformat_minor": 2
}
